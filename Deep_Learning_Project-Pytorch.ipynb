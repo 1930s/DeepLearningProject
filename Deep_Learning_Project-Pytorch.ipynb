{
 "cells": [
  {
   "cell_type": "markdown",
   "metadata": {},
   "source": [
    "<h1 align='center' style=\"margin-bottom: 0px\"> An end to end implementation of a Machine Learning pipeline </h1>\n",
    "<h4 align='center' style=\"margin-top: 0px\"> SPANDAN MADAN</h4>\n",
    "<h4 align='center' style=\"margin-top: 0px\"> Visual Computing Group, Harvard University</h4>\n",
    "<h4 align='center' style=\"margin-top: 0px\"> Computer Science and Artificial Intelligence Laboratory, MIT</h4>"
   ]
  },
  {
   "cell_type": "markdown",
   "metadata": {},
   "source": [
    "<h2 align='center' style=\"margin-top: 0px\"><a href='https://github.com/Spandan-Madan/DeepLearningProject'>Link to Github Repo</a></h2>"
   ]
  },
  {
   "cell_type": "markdown",
   "metadata": {},
   "source": [
    "# Section 1. Introduction\n",
    "\n",
    "### Background\n",
    "In the fall of 2016, I was a Teaching Fellow (Harvard's version of TA) for the graduate class on \"Advanced Topics in Data Science (CS209/109)\" at Harvard University. I was in-charge of designing the class project given to the students, and this tutorial has been built on top of the project I designed for the class.\n",
    "\n",
    "### Why write yet another Tutorial on Machine Learning and Deep Learning?\n",
    "As a researcher on Computer Vision, I come across new blogs and tutorials on ML (Machine Learning) every day. However, most of them are just focussing on introducing the syntax and the terminology relevant to the field. For example - a 15 minute tutorial on Tensorflow using MNIST dataset, or a 10 minute intro to Deep Learning in Keras on Imagenet. \n",
    "\n",
    "While people are able to copy paste and run the code in these tutorials and feel that working in ML is really not that hard, it doesn't help them at all in using ML for their own purposes. For example, they never introduce you to how you can run the same algorithm on your own dataset. Or, how do you get the dataset if you want to solve a problem. Or, which algorithms do you use - Conventional ML, or Deep Learning? How do you evaluate your models performance? How do you write your own model, as opposed to choosing a ready made architecture? All these form fundamental steps in any Machine Learning pipeline, and it is these steps that take most of our time as ML practitioners. \n",
    "\n",
    "This tutorial breaks down the whole pipeline, and leads the reader through it step by step in an hope to empower you to actually use ML, and not just feel that it was not too hard. Needless to say, this will take much longer than 15-30 minutes. I believe a weekend would be a good enough estimate.\n",
    "\n",
    "### About the Author\n",
    "\n",
    "I am <a href=\"http://spandanmadan.com/\">Spandan Madan</a>, a graduate student at Harvard University working on Computer Vision. My research work is supervised collaboratively by Professor Hanspeter Pfister at Harvard, and Professor Aude Oliva at MIT. My current research focusses on using Computer Vision and Natural Language Techniques in tandem to build systems capable of reasoning using text and visual elements simultaneusly."
   ]
  },
  {
   "cell_type": "markdown",
   "metadata": {},
   "source": [
    "# Section 2. Project Outline : Multi-Modal Genre Classification for Movies "
   ]
  },
  {
   "cell_type": "markdown",
   "metadata": {},
   "source": [
    "## Wow, that title sounds like a handful, right? Let's break it down step by step.\n",
    "\n",
    "### Q.1. what do we mean by Classification?\n",
    "\n",
    "In machine learning, the task of classification means to use the available data to learn a <i>function</i> which can assign a category to a data point. For example, assign a genre to a movie, like \"Romantic Comedy\", \"Action\", \"Thriller\". Another example could be automatically assigning a category to news articles, like \"Sports\" and \"Politics\". \n",
    "\n",
    "### More Formally \n",
    "\n",
    "#### Given:\n",
    "- A data point $x_i$ \n",
    "- A set of categories $y_1,y_2...y_n$ that $x_i$ can belong to. <br>\n",
    "\n",
    "#### Task : \n",
    "Predict the correct category $y_k$ for a new data point $x_k$ not present in the given dataset.\n",
    "\n",
    "#### Problem : \n",
    "We don't know how the $x$ and $y$ are related mathematically.\n",
    "\n",
    "#### Assumption : \n",
    "We assume there exists a function $f$ relating $x$ and $y$ i.e. $f(x_i)=y_i$\n",
    "\n",
    "#### Approach : \n",
    "Since $f$ is not known, we learn a function $g$, which approximates $f$. \n",
    "\n",
    "#### Important consideration : \n",
    "- If $f(x_i)=g(x_i)=y_i$ for all $x_i$, then the two functions $f$ and $g$ are exactly equal. Needless to say, this won't realistically ever happen, and we'll only be able to approximate the true function $f$ using $g$. This means, sometimes the prediction $g(x_i)$ will not be correct. And essentially, our whole goal is to find a $g$ which makes a really low number of such errors. That's basically all that we're trying to do. \n",
    "\n",
    "- For the sake of completeness, I should mention that this is a specific kind of learning problem which we call \"Supervised Learning\". Also, the idea that $g$ approximates $f$ well for data not present in our dataset is called \"Generalization\". It is absolutely paramount that our model generalizes, or else all our claims will only be true about data we already have and our predictions will not be correct. \n",
    "\n",
    "- We will look into generalization a little bit more a little ahead in the tutorial. \n",
    "\n",
    "- Finally, There are several other kinds, but supervised learning is the most popular and well studied kind."
   ]
  },
  {
   "cell_type": "markdown",
   "metadata": {},
   "source": [
    "### Q.2. What's Multi-Modal Classification then?\n",
    "\n",
    "In the machine learning community, the term Multi-Modal is used to refer to multiple <i>kinds</i> of data. For example, consider a YouTube video. It can be thought to contain 3 different modalities -\n",
    "\n",
    "- The video frames (visual modality)\n",
    "- The audio clip of what's being spoken (audio modality)\n",
    "- Some videos also come with the transcription of the words spoken in the form of subtitles (textual modality)\n",
    "\n",
    "Consider, that I'm interested in classifying a song on YouTube as pop or rock. You can use any of the above 3 modalities to predict the genre - The video, the song itself, or the lyrics. But, needless to say, you can predict it much better if you could use all three simultaneously. This is what we mean by multi-modal classification. "
   ]
  },
  {
   "cell_type": "markdown",
   "metadata": {},
   "source": [
    "# For this project, we will be using visual and textual data to classify movie genres."
   ]
  },
  {
   "cell_type": "markdown",
   "metadata": {},
   "source": [
    "# Project Outline\n",
    "\n",
    "- **Scraping a dataset** : The first step is to build a rich data set. We will collect textual and visual data for each movie.\n",
    "- **Data pre-processing**\n",
    "- **Non-deep Machine Learning models : Probabilistic and Max-Margin Classifiers.**\n",
    "- **Intuitive theory behind Deep Learning**\n",
    "- **Deep Models for Visual Data**\n",
    "- **Deep Models for Text**\n",
    "- **Potential Extensions**\n",
    "- **Food for Thought**\n"
   ]
  },
  {
   "cell_type": "markdown",
   "metadata": {},
   "source": [
    "# Section 3. Building your very own DataSet.\n"
   ]
  },
  {
   "cell_type": "markdown",
   "metadata": {},
   "source": [
    "For any machine learning algorithm to work, it is imperative that we collect data which is \"representative\". Now, let's take a moment to discuss what the word representative mean.\n",
    "\n",
    "### What data is good data? OR What do you mean by data being \"representative\"?\n",
    "Let's look at this from first principles. Mathematically, the premise of machine learning (to be precise, the strand of machine learning we'll be working with here) is that given input variable X, and an output variable y, **IF** there is a function such that g(X)=y, then if g is unknown, we can \"learn\" a function f which approximates g. At the very heart, its not at all different from what you may have earlier studied as \"curve fitting\". For example, if you're trying to predict someone's movie preferences then X can be information about the person's gender, age, nationality and so on, while y can be the genre they most like to listen to!\n",
    "\n",
    "Let's do a thought experiment. Consider the same example - I'm trying to predict people's movie preferences. I walk into a classroom today, and collect information about some students and their movie preferences. Now, I use that data to build a model. How well do you think I can predict my father's movie preferences? The answer is - probably not very well. Why? Intuitively, there was probably no one in the classroom who was my father's age. My model can tell me that as people go from age 18 to 30, they have a higher preference for documentaries over superhero movies. But does this trend continue at 55? Probably, they may start liking family dramas more. Probably they don't. In a nutshell, we cannot say with certainty, as our data tells us nothing about it. So, if the task was to make predictions about ANYONE's movie preferences, then the data collected from just undergraduates is NOT representative.\n",
    "\n",
    "Now, let's see why this makes sense Mathematically. Look at the graph below."
   ]
  },
  {
   "cell_type": "markdown",
   "metadata": {},
   "source": [
    "<img src=\"files/contour.png\">\n",
    "<center>Fig.1: Plot of a function we are trying to approximate(<a href=\"http://www.jzy3d.org/js/slider/images/ContourPlotsDemo.png\">source</a>)</center>"
   ]
  },
  {
   "cell_type": "markdown",
   "metadata": {},
   "source": [
    "If we consider that the variable plotted on the vertical axis is $y$, and the values of the 2 variables on the horizontal axes make the input vector $X$, then, our hope is that we are able to find a function $f$ which can approximate the function plotted here. If all the data I collect is such that $x_1$ belongs to (80,100) and $x_2$ belongs to (80,100), the learned function will only be able to learn the \"yellow-green dipping bellow\" part of the function.  Our function will never be able to predict the behavior in the \"red\" regions of the true function. So, in order to be able to learn a good function, we need data sampled from a diverse set of values of $x_1$ and x2. That would be representative data to learn this contour."
   ]
  },
  {
   "cell_type": "markdown",
   "metadata": {},
   "source": [
    "Therefore, we want to collect data which is representative of all possible movies that we want to make predictions about. Or else (which is often the case), we need to be aware of the limitations of the model we have trained, and the predictions we can make with confidence. The easiest way to do this is to only make predictions about the domain of data we collected the training data from. For example, in our case, let us start by assuming that our model will predict genres for only English movies. Now, the task is to collect data about a diverse collection of movies.\n",
    "\n",
    "So how do we get this data then? Neither google, nor any university has released such a dataset. We want to collect visual and textual data about these movies. The simple answer is to scrape it from the internet to build our own dataset. For the purpose of this project, we will use movie posters as our visual data, and movie plots as textual data. Using these, we will build a model that can predict movie genres! "
   ]
  },
  {
   "cell_type": "markdown",
   "metadata": {},
   "source": [
    "# We will be scraping data from 2 different movie sources - IMDB and TMDB"
   ]
  },
  {
   "cell_type": "markdown",
   "metadata": {},
   "source": [
    "<h3>IMDB:http://www.imdb.com/</h3>\n",
    "\n",
    "For those unaware, IMDB is the primary source of information about movies on the internet. It is immensely rich with posters, reviews, synopsis, ratings and many other information on every movie. We will use this as our primary data source. \n",
    "\n",
    "<h3>TMDB:https://www.themoviedb.org/</h3>\n",
    "\n",
    "TMDB, or The Movie DataBase, is an open source version of IMDB, with a free to use API that can be used to collect information. You do need an API key, but it can be obtained for free by just making a request after making a free account."
   ]
  },
  {
   "cell_type": "markdown",
   "metadata": {},
   "source": [
    "#### Note - \n",
    "IMDB gives some information for free through the API, but doesn't release other information about movies. Here, we will keep it legal and only use information given to us for free and legally. However, scraping does reside on the moral fence, so to say. People often scrape data which isn't exactly publicly available for use from websites. "
   ]
  },
  {
   "cell_type": "code",
   "execution_count": 1,
   "metadata": {},
   "outputs": [
    {
     "name": "stderr",
     "output_type": "stream",
     "text": [
      "/anaconda3/envs/deeplearningproject/lib/python2.7/site-packages/scipy/special/__init__.py:640: RuntimeWarning: numpy.dtype size changed, may indicate binary incompatibility. Expected 96, got 88\n",
      "  from ._ufuncs import *\n",
      "/anaconda3/envs/deeplearningproject/lib/python2.7/site-packages/scipy/linalg/basic.py:17: RuntimeWarning: numpy.dtype size changed, may indicate binary incompatibility. Expected 96, got 88\n",
      "  from ._solve_toeplitz import levinson\n",
      "/anaconda3/envs/deeplearningproject/lib/python2.7/site-packages/scipy/linalg/__init__.py:191: RuntimeWarning: numpy.dtype size changed, may indicate binary incompatibility. Expected 96, got 88\n",
      "  from ._decomp_update import *\n",
      "/anaconda3/envs/deeplearningproject/lib/python2.7/site-packages/scipy/special/_ellip_harm.py:7: RuntimeWarning: numpy.dtype size changed, may indicate binary incompatibility. Expected 96, got 88\n",
      "  from ._ellip_harm_2 import _ellipsoid, _ellipsoid_norm\n",
      "/anaconda3/envs/deeplearningproject/lib/python2.7/site-packages/scipy/sparse/lil.py:16: RuntimeWarning: numpy.dtype size changed, may indicate binary incompatibility. Expected 96, got 88\n",
      "  from . import _csparsetools\n",
      "/anaconda3/envs/deeplearningproject/lib/python2.7/site-packages/scipy/sparse/csgraph/__init__.py:167: RuntimeWarning: numpy.dtype size changed, may indicate binary incompatibility. Expected 96, got 88\n",
      "  from ._shortest_path import shortest_path, floyd_warshall, dijkstra,\\\n",
      "/anaconda3/envs/deeplearningproject/lib/python2.7/site-packages/scipy/sparse/csgraph/_validation.py:5: RuntimeWarning: numpy.dtype size changed, may indicate binary incompatibility. Expected 96, got 88\n",
      "  from ._tools import csgraph_to_dense, csgraph_from_dense,\\\n",
      "/anaconda3/envs/deeplearningproject/lib/python2.7/site-packages/scipy/sparse/csgraph/__init__.py:169: RuntimeWarning: numpy.dtype size changed, may indicate binary incompatibility. Expected 96, got 88\n",
      "  from ._traversal import breadth_first_order, depth_first_order, \\\n",
      "/anaconda3/envs/deeplearningproject/lib/python2.7/site-packages/scipy/sparse/csgraph/__init__.py:171: RuntimeWarning: numpy.dtype size changed, may indicate binary incompatibility. Expected 96, got 88\n",
      "  from ._min_spanning_tree import minimum_spanning_tree\n",
      "/anaconda3/envs/deeplearningproject/lib/python2.7/site-packages/scipy/sparse/csgraph/__init__.py:172: RuntimeWarning: numpy.dtype size changed, may indicate binary incompatibility. Expected 96, got 88\n",
      "  from ._reordering import reverse_cuthill_mckee, maximum_bipartite_matching, \\\n",
      "/anaconda3/envs/deeplearningproject/lib/python2.7/site-packages/scipy/optimize/_numdiff.py:8: RuntimeWarning: numpy.dtype size changed, may indicate binary incompatibility. Expected 96, got 88\n",
      "  from ._group_columns import group_dense, group_sparse\n",
      "/anaconda3/envs/deeplearningproject/lib/python2.7/site-packages/scipy/interpolate/_bsplines.py:9: RuntimeWarning: numpy.dtype size changed, may indicate binary incompatibility. Expected 96, got 88\n",
      "  from . import _bspl\n",
      "/anaconda3/envs/deeplearningproject/lib/python2.7/site-packages/scipy/spatial/__init__.py:94: RuntimeWarning: numpy.dtype size changed, may indicate binary incompatibility. Expected 96, got 88\n",
      "  from .ckdtree import *\n",
      "/anaconda3/envs/deeplearningproject/lib/python2.7/site-packages/scipy/spatial/__init__.py:95: RuntimeWarning: numpy.dtype size changed, may indicate binary incompatibility. Expected 96, got 88\n",
      "  from .qhull import *\n",
      "/anaconda3/envs/deeplearningproject/lib/python2.7/site-packages/scipy/spatial/_spherical_voronoi.py:18: RuntimeWarning: numpy.dtype size changed, may indicate binary incompatibility. Expected 96, got 88\n",
      "  from . import _voronoi\n",
      "/anaconda3/envs/deeplearningproject/lib/python2.7/site-packages/scipy/spatial/distance.py:121: RuntimeWarning: numpy.dtype size changed, may indicate binary incompatibility. Expected 96, got 88\n",
      "  from . import _hausdorff\n",
      "/anaconda3/envs/deeplearningproject/lib/python2.7/site-packages/scipy/stats/_continuous_distns.py:17: RuntimeWarning: numpy.dtype size changed, may indicate binary incompatibility. Expected 96, got 88\n",
      "  from . import _stats\n",
      "/anaconda3/envs/deeplearningproject/lib/python2.7/site-packages/pandas/_libs/__init__.py:3: RuntimeWarning: numpy.dtype size changed, may indicate binary incompatibility. Expected 96, got 88\n",
      "  from .tslib import iNaT, NaT, Timestamp, Timedelta, OutOfBoundsDatetime\n",
      "/anaconda3/envs/deeplearningproject/lib/python2.7/site-packages/pandas/_libs/__init__.py:3: RuntimeWarning: numpy.ufunc size changed, may indicate binary incompatibility. Expected 192, got 176\n",
      "  from .tslib import iNaT, NaT, Timestamp, Timedelta, OutOfBoundsDatetime\n",
      "/anaconda3/envs/deeplearningproject/lib/python2.7/site-packages/pandas/__init__.py:26: RuntimeWarning: numpy.dtype size changed, may indicate binary incompatibility. Expected 96, got 88\n",
      "  from pandas._libs import (hashtable as _hashtable,\n",
      "/anaconda3/envs/deeplearningproject/lib/python2.7/site-packages/pandas/__init__.py:26: RuntimeWarning: numpy.ufunc size changed, may indicate binary incompatibility. Expected 192, got 176\n",
      "  from pandas._libs import (hashtable as _hashtable,\n",
      "/anaconda3/envs/deeplearningproject/lib/python2.7/site-packages/pandas/core/dtypes/common.py:6: RuntimeWarning: numpy.dtype size changed, may indicate binary incompatibility. Expected 96, got 88\n",
      "  from pandas._libs import algos, lib\n",
      "/anaconda3/envs/deeplearningproject/lib/python2.7/site-packages/pandas/core/dtypes/common.py:6: RuntimeWarning: numpy.ufunc size changed, may indicate binary incompatibility. Expected 192, got 176\n",
      "  from pandas._libs import algos, lib\n",
      "/anaconda3/envs/deeplearningproject/lib/python2.7/site-packages/pandas/core/util/hashing.py:7: RuntimeWarning: numpy.dtype size changed, may indicate binary incompatibility. Expected 96, got 88\n",
      "  from pandas._libs import hashing, tslib\n",
      "/anaconda3/envs/deeplearningproject/lib/python2.7/site-packages/pandas/core/util/hashing.py:7: RuntimeWarning: numpy.ufunc size changed, may indicate binary incompatibility. Expected 192, got 176\n",
      "  from pandas._libs import hashing, tslib\n",
      "/anaconda3/envs/deeplearningproject/lib/python2.7/site-packages/pandas/core/indexes/base.py:6: RuntimeWarning: numpy.dtype size changed, may indicate binary incompatibility. Expected 96, got 88\n",
      "  from pandas._libs import (lib, index as libindex, tslib as libts,\n",
      "/anaconda3/envs/deeplearningproject/lib/python2.7/site-packages/pandas/core/indexes/base.py:6: RuntimeWarning: numpy.ufunc size changed, may indicate binary incompatibility. Expected 192, got 176\n",
      "  from pandas._libs import (lib, index as libindex, tslib as libts,\n",
      "/anaconda3/envs/deeplearningproject/lib/python2.7/site-packages/pandas/core/indexes/datetimelike.py:28: RuntimeWarning: numpy.dtype size changed, may indicate binary incompatibility. Expected 96, got 88\n",
      "  from pandas._libs.period import Period\n",
      "/anaconda3/envs/deeplearningproject/lib/python2.7/site-packages/pandas/core/indexes/datetimelike.py:28: RuntimeWarning: numpy.ufunc size changed, may indicate binary incompatibility. Expected 192, got 176\n",
      "  from pandas._libs.period import Period\n",
      "/anaconda3/envs/deeplearningproject/lib/python2.7/site-packages/pandas/core/sparse/array.py:32: RuntimeWarning: numpy.dtype size changed, may indicate binary incompatibility. Expected 96, got 88\n",
      "  import pandas._libs.sparse as splib\n",
      "/anaconda3/envs/deeplearningproject/lib/python2.7/site-packages/pandas/core/sparse/array.py:32: RuntimeWarning: numpy.ufunc size changed, may indicate binary incompatibility. Expected 192, got 176\n",
      "  import pandas._libs.sparse as splib\n",
      "/anaconda3/envs/deeplearningproject/lib/python2.7/site-packages/pandas/core/window.py:36: RuntimeWarning: numpy.dtype size changed, may indicate binary incompatibility. Expected 96, got 88\n",
      "  import pandas._libs.window as _window\n",
      "/anaconda3/envs/deeplearningproject/lib/python2.7/site-packages/pandas/core/window.py:36: RuntimeWarning: numpy.ufunc size changed, may indicate binary incompatibility. Expected 192, got 176\n",
      "  import pandas._libs.window as _window\n",
      "/anaconda3/envs/deeplearningproject/lib/python2.7/site-packages/pandas/core/groupby.py:66: RuntimeWarning: numpy.dtype size changed, may indicate binary incompatibility. Expected 96, got 88\n",
      "  from pandas._libs import lib, groupby as libgroupby, Timestamp, NaT, iNaT\n",
      "/anaconda3/envs/deeplearningproject/lib/python2.7/site-packages/pandas/core/groupby.py:66: RuntimeWarning: numpy.ufunc size changed, may indicate binary incompatibility. Expected 192, got 176\n",
      "  from pandas._libs import lib, groupby as libgroupby, Timestamp, NaT, iNaT\n",
      "/anaconda3/envs/deeplearningproject/lib/python2.7/site-packages/pandas/core/reshape/reshape.py:30: RuntimeWarning: numpy.dtype size changed, may indicate binary incompatibility. Expected 96, got 88\n",
      "  from pandas._libs import algos as _algos, reshape as _reshape\n",
      "/anaconda3/envs/deeplearningproject/lib/python2.7/site-packages/pandas/core/reshape/reshape.py:30: RuntimeWarning: numpy.ufunc size changed, may indicate binary incompatibility. Expected 192, got 176\n",
      "  from pandas._libs import algos as _algos, reshape as _reshape\n",
      "/anaconda3/envs/deeplearningproject/lib/python2.7/site-packages/pandas/io/parsers.py:43: RuntimeWarning: numpy.dtype size changed, may indicate binary incompatibility. Expected 96, got 88\n",
      "  import pandas._libs.parsers as parsers\n",
      "/anaconda3/envs/deeplearningproject/lib/python2.7/site-packages/pandas/io/parsers.py:43: RuntimeWarning: numpy.ufunc size changed, may indicate binary incompatibility. Expected 192, got 176\n",
      "  import pandas._libs.parsers as parsers\n",
      "/anaconda3/envs/deeplearningproject/lib/python2.7/site-packages/scipy/cluster/vq.py:88: RuntimeWarning: numpy.dtype size changed, may indicate binary incompatibility. Expected 96, got 88\n",
      "  from . import _vq\n",
      "/anaconda3/envs/deeplearningproject/lib/python2.7/site-packages/scipy/cluster/hierarchy.py:178: RuntimeWarning: numpy.dtype size changed, may indicate binary incompatibility. Expected 96, got 88\n",
      "  from . import _hierarchy\n"
     ]
    }
   ],
   "source": [
    "\n",
    "import torchvision\n",
    "import urllib2\n",
    "import requests\n",
    "import json\n",
    "import imdb\n",
    "import time\n",
    "import itertools\n",
    "import wget\n",
    "import os\n",
    "import tmdbsimple as tmdb\n",
    "import numpy as np\n",
    "import random\n",
    "import matplotlib\n",
    "import matplotlib.pyplot as plt\n",
    "%matplotlib inline\n",
    "import seaborn as sns\n",
    "import pickle\n",
    "import sys\n"
   ]
  },
  {
   "cell_type": "markdown",
   "metadata": {},
   "source": [
    "# Here is a broad outline of technical steps to be done for data collection\n",
    "\n",
    "\n",
    "* Sign up for TMDB (themoviedatabase.org), and set up API to scrape movie posters for above movies.\n",
    "* Set up and work with TMDb to get movie information from their database\n",
    "* Do the same for IMDb\n",
    "* Compare the entries of IMDb and TMDb for a movie\n",
    "* Get a listing and information of a few movies\n",
    "* Think and ponder over the potential challenges that may come our way, and think about interesting questions we can answer given the API's we have in our hands.\n",
    "* Get data from the TMDb\n",
    "\n",
    "Let's go over each one of these one by one."
   ]
  },
  {
   "cell_type": "markdown",
   "metadata": {},
   "source": [
    "## Signing up for TMDB and getting set up for getting movie metadata.\n",
    "\n",
    "* Step 1. Head over to [tmdb.org] (https://www.themoviedb.org/?language=en) and create a new account there by signing up.\n",
    "* Step 2. Click on your account icon on the top right, then from drop down menu select \"Settings\".\n",
    "* Step 3. On the settings page, you will see the option \"API\" on the left pane. Click on that.\n",
    "* Step 4. Apply for a new developer key. Fill out the form as required. The fields \"Application Name\" and \"Application URL\" are not important. Fill anything there.\n",
    "* Step 5. It should generate a new API key for you and you should also receive a mail.\n",
    "\n",
    "Now that you have the API key for TMDB, you can query using TMDB. Remember, it allows only 40 queries per 10 seconds.\n",
    "\n",
    "An easy way to respect this is to just have a call to <i>time.sleep(1)</i> after each iteration. This is also being very nice to the server.\n",
    "\n",
    "If you want to try and maximize your throughput you can embed every TMDB request in a nested try except block. If the first try fails, the second try first uses python's sleep function to give it a little rest, and then try again to make a request. Something like this -\n",
    "\t\n",
    "~~~~\n",
    "try:\n",
    "    search.movie(query=movie) #An API request\n",
    "except:\n",
    "    try:\n",
    "        time.sleep(10) #sleep for a bit, to give API requests a rest.\n",
    "        search.movie(query=<i>movie_name</i>) #Make second API request\n",
    "    except:\n",
    "        print \"Failed second attempt too, check if there's any error in request\"\n",
    "~~~~"
   ]
  },
  {
   "cell_type": "markdown",
   "metadata": {},
   "source": [
    "## Using TMDB using the obtained API Key to get movie information"
   ]
  },
  {
   "cell_type": "markdown",
   "metadata": {},
   "source": [
    "I have made these functions which make things easy. Basically, I'm making use of a library called tmdbsimple which makes TMDB using even easier. This library was installed at the time of setup.\n",
    "\n",
    "However, if you  want to avoid the library, it is also easy enough to load the API output directly into a dictionary like this without using tmdbsimple:\n",
    "\n",
    "~~~\n",
    "url = 'https://api.themoviedb.org/3/movie/1581?api_key=' + api_key\n",
    "data = urllib2.urlopen(url).read()\n",
    "\n",
    "# create dictionary from JSON \n",
    "dataDict = json.loads(data)\n",
    "~~~"
   ]
  },
  {
   "cell_type": "code",
   "execution_count": 2,
   "metadata": {},
   "outputs": [
    {
     "name": "stdout",
     "output_type": "stream",
     "text": [
      "Folder already exists\n"
     ]
    }
   ],
   "source": [
    "# set here the path where you want the scraped folders to be saved!\n",
    "poster_folder='posters_final/'\n",
    "if poster_folder.split('/')[0] in os.listdir('./'):\n",
    "    print('Folder already exists')\n",
    "else:\n",
    "    os.mkdir('./'+poster_folder)"
   ]
  },
  {
   "cell_type": "code",
   "execution_count": 3,
   "metadata": {},
   "outputs": [
    {
     "data": {
      "text/plain": [
       "'posters_final/'"
      ]
     },
     "execution_count": 3,
     "metadata": {},
     "output_type": "execute_result"
    }
   ],
   "source": [
    "poster_folder"
   ]
  },
  {
   "cell_type": "code",
   "execution_count": 4,
   "metadata": {},
   "outputs": [],
   "source": [
    "# For the purpose of this example, i will be working with the 1999 Sci-Fi movie - \"The Matrix\"!\n",
    "import tmdbsimple as tmdb\n",
    "api_key = 'a237bfff7e08d0e6902c623978183be0' #Enter your own API key here to run the code below. \n",
    "# Generate your own API key as explained above :)\n",
    "\n",
    "\n",
    "tmdb.API_KEY = api_key #This sets the API key setting for the tmdb object\n",
    "search = tmdb.Search() #this instantiates a tmdb \"search\" object which allows your to search for the movie\n",
    "import os.path\n",
    "# These functions take in a string movie name i.e. like \"The Matrix\" or \"Interstellar\"\n",
    "# What they return is pretty much clear in the name - Poster, ID , Info or genre of the Movie!\n",
    "def grab_poster_tmdb(movie):\n",
    "    response = search.movie(query=movie)\n",
    "    id=response['results'][0]['id']\n",
    "    movie = tmdb.Movies(id)\n",
    "    posterp=movie.info()['poster_path']\n",
    "    title=movie.info()['original_title']\n",
    "    if os.path.isfile(poster_folder+title+'.jpg '):\n",
    "        return\n",
    "    url='image.tmdb.org/t/p/original'+posterp\n",
    "    title='_'.join(title.split(' '))\n",
    "    strcmd='wget -O '+poster_folder+title+'.jpg '+url\n",
    "    os.system(strcmd)\n",
    "\n",
    "def get_movie_id_tmdb(movie):\n",
    "    response = search.movie(query=movie)\n",
    "    movie_id=response['results'][0]['id']\n",
    "    return movie_id\n",
    "\n",
    "def get_movie_info_tmdb(movie):\n",
    "    response = search.movie(query=movie)\n",
    "    id=response['results'][0]['id']\n",
    "    movie = tmdb.Movies(id)\n",
    "    info=movie.info()\n",
    "    return info\n",
    "\n",
    "def get_movie_genres_tmdb(movie):\n",
    "    response = search.movie(query=movie)\n",
    "    id=response['results'][0]['id']\n",
    "    movie = tmdb.Movies(id)\n",
    "    genres=movie.info()['genres']\n",
    "    return genres"
   ]
  },
  {
   "cell_type": "markdown",
   "metadata": {},
   "source": [
    "While the above functions have been made to make it easy to get genres, posters and ID, all the information that can be accessed can be seen by calling the function get_movie_info() as shown below"
   ]
  },
  {
   "cell_type": "code",
   "execution_count": 5,
   "metadata": {},
   "outputs": [
    {
     "name": "stdout",
     "output_type": "stream",
     "text": [
      "[{u'id': 28, u'name': u'Action'}, {u'id': 878, u'name': u'Science Fiction'}]\n"
     ]
    }
   ],
   "source": [
    "print get_movie_genres_tmdb(\"The Matrix\")"
   ]
  },
  {
   "cell_type": "code",
   "execution_count": 6,
   "metadata": {},
   "outputs": [
    {
     "name": "stdout",
     "output_type": "stream",
     "text": [
      "All the Movie information from TMDB gets stored in a dictionary with the following keys for easy access -\n"
     ]
    },
    {
     "data": {
      "text/plain": [
       "[u'poster_path',\n",
       " u'production_countries',\n",
       " u'revenue',\n",
       " u'overview',\n",
       " u'video',\n",
       " u'id',\n",
       " u'genres',\n",
       " u'title',\n",
       " u'tagline',\n",
       " u'vote_count',\n",
       " u'homepage',\n",
       " u'belongs_to_collection',\n",
       " u'original_language',\n",
       " u'status',\n",
       " u'spoken_languages',\n",
       " u'imdb_id',\n",
       " u'adult',\n",
       " u'backdrop_path',\n",
       " u'production_companies',\n",
       " u'release_date',\n",
       " u'popularity',\n",
       " u'original_title',\n",
       " u'budget',\n",
       " u'vote_average',\n",
       " u'runtime']"
      ]
     },
     "execution_count": 6,
     "metadata": {},
     "output_type": "execute_result"
    }
   ],
   "source": [
    "info=get_movie_info_tmdb(\"The Matrix\")\n",
    "print \"All the Movie information from TMDB gets stored in a dictionary with the following keys for easy access -\"\n",
    "info.keys()"
   ]
  },
  {
   "cell_type": "markdown",
   "metadata": {},
   "source": [
    "So, to get the tagline of the movie we can use the above dictionary key - "
   ]
  },
  {
   "cell_type": "code",
   "execution_count": 7,
   "metadata": {},
   "outputs": [
    {
     "name": "stdout",
     "output_type": "stream",
     "text": [
      "Welcome to the Real World.\n"
     ]
    }
   ],
   "source": [
    "info=get_movie_info_tmdb(\"The Matrix\")\n",
    "print info['tagline']"
   ]
  },
  {
   "cell_type": "markdown",
   "metadata": {},
   "source": [
    "## Getting movie information from IMDB"
   ]
  },
  {
   "cell_type": "markdown",
   "metadata": {},
   "source": [
    "Now that we know how to get information from TMDB, here's how we can get information about the same movie from IMDB. This makes it possible for us to combine more information, and get a richer dataset. I urge you to try and see what dataset you can make, and go above and beyond the basic things I've done in this tutorial. Due to the differences between the two datasets, you will have to do some cleaning, however both of these datasets are extremely clean and it will be minimal."
   ]
  },
  {
   "cell_type": "code",
   "execution_count": 8,
   "metadata": {},
   "outputs": [
    {
     "name": "stdout",
     "output_type": "stream",
     "text": [
      "All the information we can get about this movie from IMDB-\n"
     ]
    },
    {
     "data": {
      "text/plain": [
       "[u'production managers',\n",
       " u'rating',\n",
       " u'casting directors',\n",
       " u'distributors',\n",
       " u'music department',\n",
       " u'runtimes',\n",
       " u'special effects',\n",
       " u'year',\n",
       " u'color info',\n",
       " u'composers',\n",
       " u'costume designers',\n",
       " u'votes',\n",
       " u'top 250 rank',\n",
       " u'title',\n",
       " u'writer',\n",
       " u'editors',\n",
       " u'visual effects',\n",
       " u'cinematographers',\n",
       " u'writers',\n",
       " u'camera department',\n",
       " u'directors',\n",
       " u'certificates',\n",
       " u'countries',\n",
       " u'country codes',\n",
       " u'language codes',\n",
       " u'production designers',\n",
       " u'director',\n",
       " u'casting department',\n",
       " u'special effects companies',\n",
       " u'assistant directors',\n",
       " u'sound mix',\n",
       " u'location management',\n",
       " u'genres',\n",
       " u'miscellaneous',\n",
       " u'production companies',\n",
       " u'producers',\n",
       " u'set decorators',\n",
       " u'original air date',\n",
       " u'costume departmen',\n",
       " u'akas',\n",
       " u'aspect ratio',\n",
       " u'sound department',\n",
       " u'stunts',\n",
       " u'kind',\n",
       " u'make up department',\n",
       " u'other companies',\n",
       " u'art department',\n",
       " u'languages',\n",
       " u'transportation department',\n",
       " u'plot outline',\n",
       " u'plot',\n",
       " u'cast',\n",
       " u'synopsis',\n",
       " u'art directors',\n",
       " u'animation department',\n",
       " u'cover url',\n",
       " u'editorial department',\n",
       " u'canonical title',\n",
       " u'long imdb title',\n",
       " u'long imdb canonical title',\n",
       " u'smart canonical title',\n",
       " u'smart long imdb canonical title',\n",
       " u'full-size cover url']"
      ]
     },
     "execution_count": 8,
     "metadata": {},
     "output_type": "execute_result"
    }
   ],
   "source": [
    "\n",
    "import imdb\n",
    "# Create the IMDB object that will be used to access the IMDb's database.\n",
    "imbd_object = imdb.IMDb() # by default access the web.\n",
    "\n",
    "# Search for a movie (get a list of Movie objects).\n",
    "results = imbd_object.search_movie('The Matrix')\n",
    "#print(len(results))\n",
    "# As this returns a list of all movies containing the word \"The Matrix\", we pick the first element\n",
    "movie = results[0]\n",
    "\n",
    "imbd_object.update(movie)\n",
    "\n",
    "print \"All the information we can get about this movie from IMDB-\"\n",
    "movie.keys()"
   ]
  },
  {
   "cell_type": "code",
   "execution_count": 9,
   "metadata": {},
   "outputs": [
    {
     "name": "stdout",
     "output_type": "stream",
     "text": [
      "The genres associated with the movie are -  [u'Action', u'Sci-Fi']\n"
     ]
    }
   ],
   "source": [
    "print \"The genres associated with the movie are - \",movie['genres']"
   ]
  },
  {
   "cell_type": "markdown",
   "metadata": {},
   "source": [
    "## A small comparison of IMDB and TMDB"
   ]
  },
  {
   "cell_type": "markdown",
   "metadata": {},
   "source": [
    "Now that we have both systems running, let's do a very short comparison for the same movie?"
   ]
  },
  {
   "cell_type": "code",
   "execution_count": 10,
   "metadata": {},
   "outputs": [
    {
     "name": "stdout",
     "output_type": "stream",
     "text": [
      "The genres for The Matrix pulled from IMDB are - [u'Action', u'Sci-Fi']\n",
      "The genres for The Matrix pulled from TMDB are - [{u'id': 28, u'name': u'Action'}, {u'id': 878, u'name': u'Science Fiction'}]\n"
     ]
    }
   ],
   "source": [
    "print \"The genres for The Matrix pulled from IMDB are -\",movie['genres']\n",
    "print \"The genres for The Matrix pulled from TMDB are -\",get_movie_genres_tmdb(\"The Matrix\")"
   ]
  },
  {
   "cell_type": "markdown",
   "metadata": {},
   "source": [
    "As we can see, both the systems are correct, but the way they package information is different. TMDB calls it \"Science Fiction\" and has an ID for every genre. While IMDB calls it \"Sci-Fi\". Thus, it is important to keep track of these things when making use of both the datasets simultaneously."
   ]
  },
  {
   "cell_type": "markdown",
   "metadata": {},
   "source": [
    "Now that we know how to scrape information for one movie, let's take a bigger step towards scraping multiple movies?"
   ]
  },
  {
   "cell_type": "markdown",
   "metadata": {},
   "source": [
    "## Working with multiple movies : Obtaining Top 20 movies from TMDB"
   ]
  },
  {
   "cell_type": "markdown",
   "metadata": {},
   "source": [
    "We first instantiate an object that inherits from class Movies from TMDB. Then We use the **popular()** class method (i.e. function) to get top movies. To get more than one page of results, the optional page argument lets us see movies from any specified page number."
   ]
  },
  {
   "cell_type": "code",
   "execution_count": 11,
   "metadata": {},
   "outputs": [
    {
     "name": "stdout",
     "output_type": "stream",
     "text": [
      "20\n"
     ]
    }
   ],
   "source": [
    "all_movies=tmdb.Movies()\n",
    "top_movies=all_movies.popular()\n",
    "\n",
    "# This is a dictionary, and to access results we use the key 'results' which returns info on 20 movies\n",
    "print(len(top_movies['results']))\n",
    "top20_movs=top_movies['results']"
   ]
  },
  {
   "cell_type": "markdown",
   "metadata": {},
   "source": [
    "Let's look at one of these movies. It's the same format as above, as we had information on the movie \"The Matrix\", as you can see below. It's a dictionary which can be queried  for specific information on that movie"
   ]
  },
  {
   "cell_type": "code",
   "execution_count": 12,
   "metadata": {},
   "outputs": [
    {
     "name": "stdout",
     "output_type": "stream",
     "text": [
      "Here is all the information you can get on this movie - \n",
      "{u'poster_path': u'/3IGbjc5ZC5yxim5W0sFING2kdcz.jpg', u'title': u'Solo: A Star Wars Story', u'overview': u'Through a series of daring escapades deep within a dark and dangerous criminal underworld, Han Solo meets his mighty future copilot Chewbacca and encounters the notorious gambler Lando Calrissian.', u'release_date': u'2018-05-15', u'popularity': 214.308, u'original_title': u'Solo: A Star Wars Story', u'backdrop_path': u'/96B1qMN9RxrAFu6uikwFhQ6N6J9.jpg', u'vote_count': 1804, u'video': False, u'adult': False, u'vote_average': 6.7, u'genre_ids': [28, 12, 878], u'id': 348350, u'original_language': u'en'}\n",
      "\n",
      "\n",
      "The title of the first movie is -  Solo: A Star Wars Story\n"
     ]
    }
   ],
   "source": [
    "first_movie=top20_movs[0]\n",
    "print \"Here is all the information you can get on this movie - \"\n",
    "print first_movie\n",
    "print \"\\n\\nThe title of the first movie is - \", first_movie['title']"
   ]
  },
  {
   "cell_type": "markdown",
   "metadata": {},
   "source": [
    "Let's print out top 5 movie's titles! "
   ]
  },
  {
   "cell_type": "code",
   "execution_count": 13,
   "metadata": {},
   "outputs": [
    {
     "name": "stdout",
     "output_type": "stream",
     "text": [
      "Solo: A Star Wars Story\n",
      "The Nun\n",
      "Avengers: Infinity War\n",
      "The Predator\n",
      "Jurassic World: Fallen Kingdom\n"
     ]
    }
   ],
   "source": [
    "for i in range(len(top20_movs)):\n",
    "    mov=top20_movs[i]\n",
    "    title=mov['title']\n",
    "    print title\n",
    "    if i==4:\n",
    "        break"
   ]
  },
  {
   "cell_type": "markdown",
   "metadata": {},
   "source": [
    "### Yes, I know. I'm a little upset too seeing The Nun above Avengers: Infinity War! "
   ]
  },
  {
   "cell_type": "markdown",
   "metadata": {},
   "source": [
    "Moving on, we can get their genres the same way."
   ]
  },
  {
   "cell_type": "code",
   "execution_count": 14,
   "metadata": {},
   "outputs": [
    {
     "name": "stdout",
     "output_type": "stream",
     "text": [
      "[28, 12, 878]\n",
      "[27, 9648, 53]\n",
      "[12, 878, 28]\n",
      "[27, 878, 28, 35]\n",
      "[28, 12, 878]\n"
     ]
    }
   ],
   "source": [
    "for i in range(len(top20_movs)):\n",
    "    mov=top20_movs[i]\n",
    "    genres=mov['genre_ids']\n",
    "    print genres\n",
    "    if i==4:\n",
    "        break"
   ]
  },
  {
   "cell_type": "markdown",
   "metadata": {},
   "source": [
    "So, TMDB doesn't want to make your job as easy as you thought. Why these random numbers? Want to see their genre names? Well, there's the Genre() class for it. Let's get this done!"
   ]
  },
  {
   "cell_type": "code",
   "execution_count": 15,
   "metadata": {},
   "outputs": [],
   "source": [
    "# Create a tmdb genre object!\n",
    "genres=tmdb.Genres()\n",
    "# the list() method of the Genres() class returns a listing of all genres in the form of a dictionary.\n",
    "list_of_genres=genres.list()['genres']"
   ]
  },
  {
   "cell_type": "markdown",
   "metadata": {},
   "source": [
    "Let's convert this list into a nice dictionary to look up genre names from genre IDs!"
   ]
  },
  {
   "cell_type": "code",
   "execution_count": 16,
   "metadata": {},
   "outputs": [],
   "source": [
    "Genre_ID_to_name={}\n",
    "for i in range(len(list_of_genres)):\n",
    "    genre_id=list_of_genres[i]['id']\n",
    "    genre_name=list_of_genres[i]['name']\n",
    "    Genre_ID_to_name[genre_id]=genre_name"
   ]
  },
  {
   "cell_type": "markdown",
   "metadata": {},
   "source": [
    "Now, let's re-print the genres of top 20 movies? "
   ]
  },
  {
   "cell_type": "code",
   "execution_count": 17,
   "metadata": {},
   "outputs": [
    {
     "name": "stdout",
     "output_type": "stream",
     "text": [
      "Solo: A Star Wars Story [u'Action', u'Adventure', u'Science Fiction']\n",
      "The Nun [u'Horror', u'Mystery', u'Thriller']\n",
      "Avengers: Infinity War [u'Adventure', u'Science Fiction', u'Action']\n",
      "The Predator [u'Horror', u'Science Fiction', u'Action', u'Comedy']\n",
      "Jurassic World: Fallen Kingdom [u'Action', u'Adventure', u'Science Fiction']\n"
     ]
    }
   ],
   "source": [
    "for i in range(len(top20_movs)):\n",
    "    mov=top20_movs[i]\n",
    "    title=mov['title']\n",
    "    genre_ids=mov['genre_ids']\n",
    "    genre_names=[]\n",
    "    for id in genre_ids:\n",
    "        genre_name=Genre_ID_to_name[id]\n",
    "        genre_names.append(genre_name)\n",
    "    print title,genre_names\n",
    "    if i==4:\n",
    "        break"
   ]
  },
  {
   "cell_type": "markdown",
   "metadata": {},
   "source": [
    "# Section 4 - Building a dataset to work with : Let's take a look at the top 1000 movies from the database"
   ]
  },
  {
   "cell_type": "markdown",
   "metadata": {},
   "source": [
    "Making use of the same api as before, we will just pull results from the top 50 pages. As mentioned earlier, the \"page\" attribute of the command top_movies=all_movies.popular() can be used for this purpose."
   ]
  },
  {
   "cell_type": "markdown",
   "metadata": {},
   "source": [
    "Please note: Some of the code below will store the data into python \"pickle\" files so that it can be ready directly from memory, as opposed to being downloaded every time. Once done, you should comment out any code which generated an object that was pickled and is no longer needed."
   ]
  },
  {
   "cell_type": "code",
   "execution_count": 18,
   "metadata": {},
   "outputs": [],
   "source": [
    "all_movies=tmdb.Movies()\n",
    "top_movies=all_movies.popular()\n",
    "\n",
    "# This is a dictionary, and to access results we use the key 'results' which returns info on 20 movies\n",
    "len(top_movies['results'])\n",
    "top20_movs=top_movies['results']"
   ]
  },
  {
   "cell_type": "code",
   "execution_count": 19,
   "metadata": {},
   "outputs": [
    {
     "name": "stdout",
     "output_type": "stream",
     "text": [
      "Pulling movie list, Please wait...\n",
      "Done!\n"
     ]
    }
   ],
   "source": [
    "# Comment out this cell once the data is saved into pickle file.\n",
    "all_movies=tmdb.Movies()\n",
    "top1000_movies=[]\n",
    "print('Pulling movie list, Please wait...')\n",
    "for i in range(1,51):\n",
    "    if i%15==0:\n",
    "        time.sleep(7)\n",
    "    movies_on_this_page=all_movies.popular(page=i)['results']\n",
    "    top1000_movies.extend(movies_on_this_page)\n",
    "len(top1000_movies)\n",
    "f3=open('movie_list.pckl','wb')\n",
    "pickle.dump(top1000_movies,f3)\n",
    "f3.close()\n",
    "print('Done!')"
   ]
  },
  {
   "cell_type": "code",
   "execution_count": 20,
   "metadata": {},
   "outputs": [],
   "source": [
    "f3=open('movie_list.pckl','rb')\n",
    "top1000_movies=pickle.load(f3)\n",
    "f3.close()"
   ]
  },
  {
   "cell_type": "markdown",
   "metadata": {},
   "source": [
    "# Pairwise analysis of Movie Genres"
   ]
  },
  {
   "cell_type": "markdown",
   "metadata": {},
   "source": [
    "As our dataset is multi label, simply looking at the distribution of genres is not sufficient. It might be beneficial to see which genres co-occur, as it might shed some light on inherent biases in our dataset. For example, it would make sense if romance and comedy occur together more often than documentary and comedy. Such inherent biases tell us that the underlying population we are sampling from itself is skewed and not balanced. We may then take steps to account for such problems. Even if we don't take such steps, it is important to be aware that we are making the assumption that an unbalanced dataset is not hurting our performance and if need be, we can come back to address this assumption. Good old scientific method, eh?\n",
    "\n",
    "So for the top 1000 movies let's do some pairwise analysis for genre distributions. Our main purpose is to see which genres occur together in the same movie. So, we first define a function which takes a list and makes all possible pairs from it. Then, we pull the list of genres for a movie and run this function on the list of genres to get all pairs of genres which occur together"
   ]
  },
  {
   "cell_type": "code",
   "execution_count": 21,
   "metadata": {},
   "outputs": [],
   "source": [
    "# This function just generates all possible pairs of movies\n",
    "def list2pairs(l):\n",
    "    # itertools.combinations(l,2) makes all pairs of length 2 from list l.\n",
    "    pairs = list(itertools.combinations(l, 2))\n",
    "    # then the one item pairs, as duplicate pairs aren't accounted for by itertools\n",
    "    for i in l:\n",
    "        pairs.append([i,i])\n",
    "    return pairs"
   ]
  },
  {
   "cell_type": "markdown",
   "metadata": {},
   "source": [
    "As mentioned, now we will pull genres for each movie, and use above function to count occurrences of when two genres occurred together"
   ]
  },
  {
   "cell_type": "code",
   "execution_count": 22,
   "metadata": {},
   "outputs": [],
   "source": [
    "# get all genre lists pairs from all movies\n",
    "allPairs = []\n",
    "for movie in top1000_movies:\n",
    "    allPairs.extend(list2pairs(movie['genre_ids']))\n",
    "    \n",
    "nr_ids = np.unique(allPairs)\n",
    "visGrid = np.zeros((len(nr_ids), len(nr_ids)))\n",
    "for p in allPairs:\n",
    "    visGrid[np.argwhere(nr_ids==p[0]), np.argwhere(nr_ids==p[1])]+=1\n",
    "    if p[1] != p[0]:\n",
    "        visGrid[np.argwhere(nr_ids==p[1]), np.argwhere(nr_ids==p[0])]+=1"
   ]
  },
  {
   "cell_type": "markdown",
   "metadata": {},
   "source": [
    "Let's take a look at the structure we just made. It is a 19X19 structure, as shown below. Also, see that we had 19 Genres. Needless to say, this structure counts the number of simultaneous occurrences of genres in same movie."
   ]
  },
  {
   "cell_type": "code",
   "execution_count": 23,
   "metadata": {},
   "outputs": [
    {
     "name": "stdout",
     "output_type": "stream",
     "text": [
      "(19, 19)\n",
      "19\n"
     ]
    }
   ],
   "source": [
    "print visGrid.shape\n",
    "print len(Genre_ID_to_name.keys())"
   ]
  },
  {
   "cell_type": "code",
   "execution_count": 24,
   "metadata": {},
   "outputs": [
    {
     "data": {
      "text/plain": [
       "<matplotlib.axes._subplots.AxesSubplot at 0x11a716250>"
      ]
     },
     "execution_count": 24,
     "metadata": {},
     "output_type": "execute_result"
    },
    {
     "data": {
      "image/png": "[encoded data removed]",
      "text/plain": [
       "<matplotlib.figure.Figure at 0x118d5d8d0>"
      ]
     },
     "metadata": {},
     "output_type": "display_data"
    }
   ],
   "source": [
    "annot_lookup = []\n",
    "for i in xrange(len(nr_ids)):\n",
    "    annot_lookup.append(Genre_ID_to_name[nr_ids[i]])\n",
    "\n",
    "sns.heatmap(visGrid, xticklabels=annot_lookup, yticklabels=annot_lookup)"
   ]
  },
  {
   "cell_type": "markdown",
   "metadata": {},
   "source": [
    "The above image shows how often the genres occur together, as a heatmap"
   ]
  },
  {
   "cell_type": "markdown",
   "metadata": {},
   "source": [
    "Important thing to notice in the above plot is the diagonal. The diagonal corresponds to self-pairs, i.e. number of times a genre, say Drama occurred with Drama. Which is basically just a count of the total times that genre occurred! \n",
    "\n",
    "As we can see there are a lot of dramas in the data set, it is also a very unspecific label. There are nearly no documentaries or TV Movies. Horror is a very distinct label, and romance is also not too widely spread. \n",
    "\n",
    "To account for this unbalanced data, there are multiple things we can try to explore what interesting relationships can be found."
   ]
  },
  {
   "cell_type": "markdown",
   "metadata": {},
   "source": [
    "## Delving Deeper into co-occurrence of genres"
   ]
  },
  {
   "cell_type": "markdown",
   "metadata": {},
   "source": [
    "What we want to do now is to look for nice groups of genres that co-occur, and see if it makes sense to us logically? Intuitively speaking, wouldn't it be fun if we saw nice boxes on the above plot - boxes of high intensity i.e. genres that occur together and don't occur much with other genres. In some ways, that would isolate the co-occurrence of some genres, and heighten the co-occurrence of others.\n",
    "\n",
    "While the data may not show that directly, we can play with the numbers to see if that's possible. The technique used for that is called biclustering."
   ]
  },
  {
   "cell_type": "code",
   "execution_count": 25,
   "metadata": {},
   "outputs": [
    {
     "name": "stderr",
     "output_type": "stream",
     "text": [
      "/anaconda3/envs/deeplearningproject/lib/python2.7/site-packages/sklearn/utils/__init__.py:10: RuntimeWarning: numpy.dtype size changed, may indicate binary incompatibility. Expected 96, got 88\n",
      "  from .murmurhash import murmurhash3_32\n",
      "/anaconda3/envs/deeplearningproject/lib/python2.7/site-packages/sklearn/utils/__init__.py:10: RuntimeWarning: numpy.ufunc size changed, may indicate binary incompatibility. Expected 192, got 176\n",
      "  from .murmurhash import murmurhash3_32\n",
      "/anaconda3/envs/deeplearningproject/lib/python2.7/site-packages/sklearn/utils/extmath.py:24: RuntimeWarning: numpy.dtype size changed, may indicate binary incompatibility. Expected 96, got 88\n",
      "  from ._logistic_sigmoid import _log_logistic_sigmoid\n",
      "/anaconda3/envs/deeplearningproject/lib/python2.7/site-packages/sklearn/utils/extmath.py:24: RuntimeWarning: numpy.ufunc size changed, may indicate binary incompatibility. Expected 192, got 176\n",
      "  from ._logistic_sigmoid import _log_logistic_sigmoid\n",
      "/anaconda3/envs/deeplearningproject/lib/python2.7/site-packages/sklearn/utils/extmath.py:26: RuntimeWarning: numpy.dtype size changed, may indicate binary incompatibility. Expected 96, got 88\n",
      "  from .sparsefuncs_fast import csr_row_norms\n",
      "/anaconda3/envs/deeplearningproject/lib/python2.7/site-packages/sklearn/utils/extmath.py:26: RuntimeWarning: numpy.ufunc size changed, may indicate binary incompatibility. Expected 192, got 176\n",
      "  from .sparsefuncs_fast import csr_row_norms\n",
      "/anaconda3/envs/deeplearningproject/lib/python2.7/site-packages/sklearn/metrics/cluster/supervised.py:24: RuntimeWarning: numpy.dtype size changed, may indicate binary incompatibility. Expected 96, got 88\n",
      "  from .expected_mutual_info_fast import expected_mutual_information\n",
      "/anaconda3/envs/deeplearningproject/lib/python2.7/site-packages/sklearn/metrics/cluster/supervised.py:24: RuntimeWarning: numpy.ufunc size changed, may indicate binary incompatibility. Expected 192, got 176\n",
      "  from .expected_mutual_info_fast import expected_mutual_information\n",
      "/anaconda3/envs/deeplearningproject/lib/python2.7/site-packages/sklearn/metrics/pairwise.py:29: RuntimeWarning: numpy.dtype size changed, may indicate binary incompatibility. Expected 96, got 88\n",
      "  from .pairwise_fast import _chi2_kernel_fast, _sparse_manhattan\n",
      "/anaconda3/envs/deeplearningproject/lib/python2.7/site-packages/sklearn/metrics/pairwise.py:29: RuntimeWarning: numpy.ufunc size changed, may indicate binary incompatibility. Expected 192, got 176\n",
      "  from .pairwise_fast import _chi2_kernel_fast, _sparse_manhattan\n",
      "/anaconda3/envs/deeplearningproject/lib/python2.7/site-packages/sklearn/neighbors/__init__.py:6: RuntimeWarning: numpy.dtype size changed, may indicate binary incompatibility. Expected 96, got 88\n",
      "  from .ball_tree import BallTree\n",
      "/anaconda3/envs/deeplearningproject/lib/python2.7/site-packages/sklearn/neighbors/__init__.py:6: RuntimeWarning: numpy.ufunc size changed, may indicate binary incompatibility. Expected 192, got 176\n",
      "  from .ball_tree import BallTree\n",
      "/anaconda3/envs/deeplearningproject/lib/python2.7/site-packages/sklearn/neighbors/__init__.py:7: RuntimeWarning: numpy.dtype size changed, may indicate binary incompatibility. Expected 96, got 88\n",
      "  from .kd_tree import KDTree\n",
      "/anaconda3/envs/deeplearningproject/lib/python2.7/site-packages/sklearn/neighbors/__init__.py:7: RuntimeWarning: numpy.ufunc size changed, may indicate binary incompatibility. Expected 192, got 176\n",
      "  from .kd_tree import KDTree\n",
      "/anaconda3/envs/deeplearningproject/lib/python2.7/site-packages/sklearn/utils/random.py:12: RuntimeWarning: numpy.dtype size changed, may indicate binary incompatibility. Expected 96, got 88\n",
      "  from ._random import sample_without_replacement\n",
      "/anaconda3/envs/deeplearningproject/lib/python2.7/site-packages/sklearn/utils/random.py:12: RuntimeWarning: numpy.ufunc size changed, may indicate binary incompatibility. Expected 192, got 176\n",
      "  from ._random import sample_without_replacement\n",
      "/anaconda3/envs/deeplearningproject/lib/python2.7/site-packages/sklearn/utils/graph.py:17: RuntimeWarning: numpy.dtype size changed, may indicate binary incompatibility. Expected 96, got 88\n",
      "  from .graph_shortest_path import graph_shortest_path\n",
      "/anaconda3/envs/deeplearningproject/lib/python2.7/site-packages/sklearn/utils/graph.py:17: RuntimeWarning: numpy.ufunc size changed, may indicate binary incompatibility. Expected 192, got 176\n",
      "  from .graph_shortest_path import graph_shortest_path\n",
      "/anaconda3/envs/deeplearningproject/lib/python2.7/site-packages/sklearn/utils/sparsetools/__init__.py:3: RuntimeWarning: numpy.dtype size changed, may indicate binary incompatibility. Expected 96, got 88\n",
      "  from ._traversal import connected_components\n",
      "/anaconda3/envs/deeplearningproject/lib/python2.7/site-packages/sklearn/utils/sparsetools/__init__.py:3: RuntimeWarning: numpy.ufunc size changed, may indicate binary incompatibility. Expected 192, got 176\n",
      "  from ._traversal import connected_components\n",
      "/anaconda3/envs/deeplearningproject/lib/python2.7/site-packages/sklearn/utils/sparsetools/_graph_validation.py:5: RuntimeWarning: numpy.dtype size changed, may indicate binary incompatibility. Expected 96, got 88\n",
      "  from ._graph_tools import csgraph_to_dense, csgraph_from_dense,\\\n",
      "/anaconda3/envs/deeplearningproject/lib/python2.7/site-packages/sklearn/utils/sparsetools/_graph_validation.py:5: RuntimeWarning: numpy.ufunc size changed, may indicate binary incompatibility. Expected 192, got 176\n",
      "  from ._graph_tools import csgraph_to_dense, csgraph_from_dense,\\\n",
      "/anaconda3/envs/deeplearningproject/lib/python2.7/site-packages/sklearn/linear_model/base.py:35: RuntimeWarning: numpy.dtype size changed, may indicate binary incompatibility. Expected 96, got 88\n",
      "  from ..utils.seq_dataset import ArrayDataset, CSRDataset\n",
      "/anaconda3/envs/deeplearningproject/lib/python2.7/site-packages/sklearn/linear_model/base.py:35: RuntimeWarning: numpy.ufunc size changed, may indicate binary incompatibility. Expected 192, got 176\n",
      "  from ..utils.seq_dataset import ArrayDataset, CSRDataset\n",
      "/anaconda3/envs/deeplearningproject/lib/python2.7/site-packages/sklearn/linear_model/least_angle.py:24: RuntimeWarning: numpy.dtype size changed, may indicate binary incompatibility. Expected 96, got 88\n",
      "  from ..utils import arrayfuncs, as_float_array, check_X_y\n",
      "/anaconda3/envs/deeplearningproject/lib/python2.7/site-packages/sklearn/linear_model/least_angle.py:24: RuntimeWarning: numpy.ufunc size changed, may indicate binary incompatibility. Expected 192, got 176\n",
      "  from ..utils import arrayfuncs, as_float_array, check_X_y\n",
      "/anaconda3/envs/deeplearningproject/lib/python2.7/site-packages/sklearn/linear_model/coordinate_descent.py:29: RuntimeWarning: numpy.dtype size changed, may indicate binary incompatibility. Expected 96, got 88\n",
      "  from . import cd_fast\n",
      "/anaconda3/envs/deeplearningproject/lib/python2.7/site-packages/sklearn/linear_model/coordinate_descent.py:29: RuntimeWarning: numpy.ufunc size changed, may indicate binary incompatibility. Expected 192, got 176\n",
      "  from . import cd_fast\n",
      "/anaconda3/envs/deeplearningproject/lib/python2.7/site-packages/sklearn/linear_model/__init__.py:22: RuntimeWarning: numpy.dtype size changed, may indicate binary incompatibility. Expected 96, got 88\n",
      "  from .sgd_fast import Hinge, Log, ModifiedHuber, SquaredLoss, Huber\n",
      "/anaconda3/envs/deeplearningproject/lib/python2.7/site-packages/sklearn/linear_model/__init__.py:22: RuntimeWarning: numpy.ufunc size changed, may indicate binary incompatibility. Expected 192, got 176\n",
      "  from .sgd_fast import Hinge, Log, ModifiedHuber, SquaredLoss, Huber\n",
      "/anaconda3/envs/deeplearningproject/lib/python2.7/site-packages/sklearn/linear_model/sag.py:14: RuntimeWarning: numpy.dtype size changed, may indicate binary incompatibility. Expected 96, got 88\n",
      "  from .sag_fast import sag\n",
      "/anaconda3/envs/deeplearningproject/lib/python2.7/site-packages/sklearn/linear_model/sag.py:14: RuntimeWarning: numpy.ufunc size changed, may indicate binary incompatibility. Expected 192, got 176\n",
      "  from .sag_fast import sag\n",
      "/anaconda3/envs/deeplearningproject/lib/python2.7/site-packages/sklearn/svm/base.py:8: RuntimeWarning: numpy.dtype size changed, may indicate binary incompatibility. Expected 96, got 88\n",
      "  from . import libsvm, liblinear\n",
      "/anaconda3/envs/deeplearningproject/lib/python2.7/site-packages/sklearn/svm/base.py:8: RuntimeWarning: numpy.ufunc size changed, may indicate binary incompatibility. Expected 192, got 176\n",
      "  from . import libsvm, liblinear\n",
      "/anaconda3/envs/deeplearningproject/lib/python2.7/site-packages/sklearn/svm/base.py:9: RuntimeWarning: numpy.dtype size changed, may indicate binary incompatibility. Expected 96, got 88\n",
      "  from . import libsvm_sparse\n",
      "/anaconda3/envs/deeplearningproject/lib/python2.7/site-packages/sklearn/svm/base.py:9: RuntimeWarning: numpy.ufunc size changed, may indicate binary incompatibility. Expected 192, got 176\n",
      "  from . import libsvm_sparse\n",
      "/anaconda3/envs/deeplearningproject/lib/python2.7/site-packages/sklearn/decomposition/online_lda.py:28: RuntimeWarning: numpy.dtype size changed, may indicate binary incompatibility. Expected 96, got 88\n",
      "  from ._online_lda import (mean_change, _dirichlet_expectation_1d,\n",
      "/anaconda3/envs/deeplearningproject/lib/python2.7/site-packages/sklearn/decomposition/online_lda.py:28: RuntimeWarning: numpy.ufunc size changed, may indicate binary incompatibility. Expected 192, got 176\n",
      "  from ._online_lda import (mean_change, _dirichlet_expectation_1d,\n",
      "/anaconda3/envs/deeplearningproject/lib/python2.7/site-packages/sklearn/isotonic.py:13: RuntimeWarning: numpy.dtype size changed, may indicate binary incompatibility. Expected 96, got 88\n",
      "  from ._isotonic import _inplace_contiguous_isotonic_regression, _make_unique\n",
      "/anaconda3/envs/deeplearningproject/lib/python2.7/site-packages/sklearn/isotonic.py:13: RuntimeWarning: numpy.ufunc size changed, may indicate binary incompatibility. Expected 192, got 176\n",
      "  from ._isotonic import _inplace_contiguous_isotonic_regression, _make_unique\n",
      "/anaconda3/envs/deeplearningproject/lib/python2.7/site-packages/sklearn/manifold/t_sne.py:23: RuntimeWarning: numpy.dtype size changed, may indicate binary incompatibility. Expected 96, got 88\n",
      "  from . import _utils\n",
      "/anaconda3/envs/deeplearningproject/lib/python2.7/site-packages/sklearn/manifold/t_sne.py:23: RuntimeWarning: numpy.ufunc size changed, may indicate binary incompatibility. Expected 192, got 176\n",
      "  from . import _utils\n",
      "/anaconda3/envs/deeplearningproject/lib/python2.7/site-packages/sklearn/manifold/t_sne.py:24: RuntimeWarning: numpy.dtype size changed, may indicate binary incompatibility. Expected 96, got 88\n",
      "  from . import _barnes_hut_tsne\n",
      "/anaconda3/envs/deeplearningproject/lib/python2.7/site-packages/sklearn/manifold/t_sne.py:24: RuntimeWarning: numpy.ufunc size changed, may indicate binary incompatibility. Expected 192, got 176\n",
      "  from . import _barnes_hut_tsne\n",
      "/anaconda3/envs/deeplearningproject/lib/python2.7/site-packages/sklearn/cluster/k_means_.py:37: RuntimeWarning: numpy.dtype size changed, may indicate binary incompatibility. Expected 96, got 88\n",
      "  from . import _k_means\n",
      "/anaconda3/envs/deeplearningproject/lib/python2.7/site-packages/sklearn/cluster/k_means_.py:37: RuntimeWarning: numpy.ufunc size changed, may indicate binary incompatibility. Expected 192, got 176\n",
      "  from . import _k_means\n",
      "/anaconda3/envs/deeplearningproject/lib/python2.7/site-packages/sklearn/cluster/k_means_.py:38: RuntimeWarning: numpy.dtype size changed, may indicate binary incompatibility. Expected 96, got 88\n",
      "  from ._k_means_elkan import k_means_elkan\n",
      "/anaconda3/envs/deeplearningproject/lib/python2.7/site-packages/sklearn/cluster/k_means_.py:38: RuntimeWarning: numpy.ufunc size changed, may indicate binary incompatibility. Expected 192, got 176\n",
      "  from ._k_means_elkan import k_means_elkan\n",
      "/anaconda3/envs/deeplearningproject/lib/python2.7/site-packages/sklearn/cluster/hierarchical.py:23: RuntimeWarning: numpy.dtype size changed, may indicate binary incompatibility. Expected 96, got 88\n",
      "  from . import _hierarchical\n",
      "/anaconda3/envs/deeplearningproject/lib/python2.7/site-packages/sklearn/cluster/hierarchical.py:23: RuntimeWarning: numpy.ufunc size changed, may indicate binary incompatibility. Expected 192, got 176\n",
      "  from . import _hierarchical\n",
      "/anaconda3/envs/deeplearningproject/lib/python2.7/site-packages/sklearn/cluster/dbscan_.py:20: RuntimeWarning: numpy.dtype size changed, may indicate binary incompatibility. Expected 96, got 88\n",
      "  from ._dbscan_inner import dbscan_inner\n",
      "/anaconda3/envs/deeplearningproject/lib/python2.7/site-packages/sklearn/cluster/dbscan_.py:20: RuntimeWarning: numpy.ufunc size changed, may indicate binary incompatibility. Expected 192, got 176\n",
      "  from ._dbscan_inner import dbscan_inner\n"
     ]
    }
   ],
   "source": [
    "from sklearn.cluster import SpectralCoclustering"
   ]
  },
  {
   "cell_type": "code",
   "execution_count": 26,
   "metadata": {},
   "outputs": [
    {
     "data": {
      "image/png": "[encoded data removed]",
      "text/plain": [
       "<matplotlib.figure.Figure at 0x11bbe7450>"
      ]
     },
     "metadata": {},
     "output_type": "display_data"
    }
   ],
   "source": [
    "model = SpectralCoclustering(n_clusters=5)\n",
    "model.fit(visGrid)\n",
    "\n",
    "fit_data = visGrid[np.argsort(model.row_labels_)]\n",
    "fit_data = fit_data[:, np.argsort(model.column_labels_)]\n",
    "\n",
    "annot_lookup_sorted = []\n",
    "for i in np.argsort(model.row_labels_):\n",
    "    annot_lookup_sorted.append(Genre_ID_to_name[nr_ids[i]])\n",
    "    \n",
    "sns.heatmap(fit_data, xticklabels=annot_lookup_sorted, yticklabels=annot_lookup_sorted, annot=False)\n",
    "plt.title(\"After biclustering; rearranged to show biclusters\")\n",
    "\n",
    "plt.show()"
   ]
  },
  {
   "cell_type": "markdown",
   "metadata": {},
   "source": [
    "Looking at the above figure, \"boxes\" or groups of movie genres automatically emerge! \n",
    "\n",
    "Intuitively - Crime, Sci-Fi, Mystery, Action, Horror, Drama, Thriller, etc co-occur. \n",
    "AND, Romance, Fantasy, Family, Music, Adventure, etc co-occur. \n",
    "\n",
    "That makes a lot of intuitive sense, right?\n",
    "\n",
    "One challenge is the broad range of the drama genre. It makes the two clusters highly overlapping. If we merge it together with action thriller, etc. We will end up with nearly all movies just having that label. "
   ]
  },
  {
   "cell_type": "markdown",
   "metadata": {},
   "source": [
    "**Based on playing around with the stuff above, we can sort the data into the following genre categories - \"Drama, Action, ScienceFiction, exciting(thriller, crime, mystery), uplifting(adventure, fantasy, animation, comedy, romance, family), Horror, History\"**\n",
    "\n",
    "\n",
    "Note: that this categorization is subjective and by no means the only right solution. One could also just stay with the original labels and only exclude the ones with not enough data. Such tricks are important to balance the dataset, it allows us to increase or decrease the strength of certain signals, making it possible to improve our inferences :)"
   ]
  },
  {
   "cell_type": "markdown",
   "metadata": {},
   "source": [
    "# Interesting Questions\n",
    "This really should be a place for you to get creative and hopefully come up with better questions than me. \n",
    "\n",
    "Here are some of my thoughts:\n",
    "- Which actors are bound to a genre, and which can easily hop genres?\n",
    "- Is there a trend in genre popularity over the years?\n",
    "- Can you use sound tracks to identify the genre of a movie?\n",
    "- Are top romance actors higher paid than top action actors?\n",
    "- If you look at release date vs popularity score, which movie genres have a longer shelf life?\n",
    "\n",
    "Ideas to explore specifically for feature correlations:\n",
    "- Are title length correlated with movie genre?\n",
    "- Are movie posters darker for horror than for romance end comedy?\n",
    "- Are some genres specifically released more often at a certain time of year? \n",
    "- Is the RPG rating correlated with the genre?"
   ]
  },
  {
   "cell_type": "markdown",
   "metadata": {},
   "source": [
    "# Based on this new category set, we will now pull posters from TMDB as our training data!"
   ]
  },
  {
   "cell_type": "code",
   "execution_count": 27,
   "metadata": {},
   "outputs": [
    {
     "name": "stdout",
     "output_type": "stream",
     "text": [
      "Starting pulling movies from TMDB. If you want to debug, uncomment the print command. This will take a while, please wait...\n",
      "Pulled movies for genres - 12,14,16,18,27,28,35,36,37,53,80,99,878,9648,10402,10749,10751,10752,10770\n"
     ]
    }
   ],
   "source": [
    "# Done before, reading from pickle file now to maintain consistency of data!\n",
    "# We now sample 100 movies per genre. Problem is that the sorting is by popular movies, so they will overlap. \n",
    "# Need to exclude movies that were already sampled. \n",
    "movies = []\n",
    "baseyear = 2017\n",
    "\n",
    "print('Starting pulling movies from TMDB. If you want to debug, uncomment the print command. This will take a while, please wait...')\n",
    "done_ids=[]\n",
    "for g_id in nr_ids:\n",
    "    #print('Pulling movies for genre ID '+g_id)\n",
    "    baseyear -= 1\n",
    "    for page in xrange(1,6,1):\n",
    "        time.sleep(0.5)\n",
    "    \n",
    "        url = 'https://api.themoviedb.org/3/discover/movie?api_key=' + api_key\n",
    "        url += '&language=en-US&sort_by=popularity.desc&year=' + str(baseyear) \n",
    "        url += '&with_genres=' + str(g_id) + '&page=' + str(page)\n",
    "\n",
    "        data = urllib2.urlopen(url).read()\n",
    "\n",
    "        dataDict = json.loads(data)\n",
    "        movies.extend(dataDict[\"results\"])\n",
    "    done_ids.append(str(g_id))\n",
    "print(\"Pulled movies for genres - \"+','.join(done_ids))"
   ]
  },
  {
   "cell_type": "code",
   "execution_count": 28,
   "metadata": {},
   "outputs": [],
   "source": [
    "f6=open(\"movies_for_posters\",'wb')\n",
    "pickle.dump(movies,f6)\n",
    "f6.close()"
   ]
  },
  {
   "cell_type": "code",
   "execution_count": 29,
   "metadata": {},
   "outputs": [],
   "source": [
    "f6=open(\"movies_for_posters\",'rb')\n",
    "movies=pickle.load(f6)\n",
    "f6.close()"
   ]
  },
  {
   "cell_type": "markdown",
   "metadata": {},
   "source": [
    "Let's remove any duplicates that we have in the list of movies"
   ]
  },
  {
   "cell_type": "code",
   "execution_count": 30,
   "metadata": {},
   "outputs": [
    {
     "name": "stdout",
     "output_type": "stream",
     "text": [
      "originally we had  1782  movies\n",
      "1700\n",
      "After removing duplicates we have  1700  movies\n"
     ]
    }
   ],
   "source": [
    "movie_ids = [m['id'] for m in movies]\n",
    "print \"originally we had \",len(movie_ids),\" movies\"\n",
    "movie_ids=np.unique(movie_ids)\n",
    "print len(movie_ids)\n",
    "seen_before=[]\n",
    "no_duplicate_movies=[]\n",
    "for i in range(len(movies)):\n",
    "    movie=movies[i]\n",
    "    id=movie['id']\n",
    "    if id in seen_before:\n",
    "        continue\n",
    "#         print \"Seen before\"\n",
    "    else:\n",
    "        seen_before.append(id)\n",
    "        no_duplicate_movies.append(movie)\n",
    "print \"After removing duplicates we have \",len(no_duplicate_movies), \" movies\""
   ]
  },
  {
   "cell_type": "markdown",
   "metadata": {},
   "source": [
    "Also, let's remove movies for which we have no posters!"
   ]
  },
  {
   "cell_type": "code",
   "execution_count": 31,
   "metadata": {
    "scrolled": true
   },
   "outputs": [
    {
     "name": "stdout",
     "output_type": "stream",
     "text": [
      "('Total movies : ', 1782)\n",
      "Started downloading posters...\n",
      "0\n",
      "Downloaded first. Code is working fine. Please wait, this will take quite some time...\n",
      "10\n",
      "20\n",
      "30\n",
      "40\n",
      "50\n",
      "60\n",
      "70\n",
      "80\n",
      "90\n",
      "100\n",
      "110\n",
      "120\n",
      "130\n",
      "140\n",
      "150\n",
      "160\n",
      "170\n",
      "180\n",
      "190\n",
      "200\n",
      "210\n",
      "220\n",
      "230\n",
      "240\n",
      "250\n",
      "260\n",
      "270\n",
      "280\n",
      "290\n",
      "300\n",
      "Done with  300  movies!\n",
      "Trying to get poster for  The Dark Knight Rises\n",
      "310\n",
      "320\n",
      "330\n",
      "340\n",
      "350\n",
      "360\n",
      "370\n",
      "380\n",
      "390\n",
      "400\n",
      "410\n",
      "420\n",
      "430\n",
      "440\n",
      "450\n",
      "460\n",
      "470\n",
      "480\n",
      "490\n",
      "500\n",
      "510\n",
      "520\n",
      "530\n",
      "540\n",
      "550\n",
      "560\n",
      "570\n",
      "580\n",
      "590\n",
      "600\n",
      "Done with  600  movies!\n",
      "Trying to get poster for  Back to the Future\n",
      "610\n",
      "620\n",
      "630\n",
      "640\n",
      "650\n",
      "660\n",
      "670\n",
      "680\n",
      "690\n",
      "700\n",
      "710\n",
      "720\n",
      "730\n",
      "740\n",
      "750\n",
      "760\n",
      "770\n",
      "780\n",
      "790\n",
      "800\n",
      "810\n",
      "820\n",
      "830\n",
      "840\n",
      "850\n",
      "860\n",
      "870\n",
      "880\n",
      "890\n",
      "900\n",
      "Done with  900  movies!\n",
      "Trying to get poster for  Eastern Promises\n",
      "910\n",
      "920\n",
      "930\n",
      "940\n",
      "950\n",
      "960\n",
      "970\n",
      "980\n",
      "990\n",
      "1000\n",
      "1010\n",
      "1020\n",
      "1030\n",
      "1040\n",
      "1050\n",
      "1060\n",
      "1070\n",
      "1080\n",
      "1090\n",
      "1100\n",
      "1110\n",
      "1120\n",
      "1130\n",
      "1140\n",
      "1150\n",
      "1160\n",
      "1170\n",
      "1180\n",
      "1190\n",
      "1200\n",
      "Done with  1200  movies!\n",
      "Trying to get poster for  Good Boy!\n",
      "1210\n",
      "1220\n",
      "1230\n",
      "1240\n",
      "1250\n",
      "1260\n",
      "1270\n",
      "1280\n",
      "1290\n",
      "1300\n",
      "1310\n",
      "1320\n",
      "1330\n",
      "1340\n",
      "1350\n",
      "1360\n",
      "1370\n",
      "1380\n",
      "1390\n",
      "1400\n",
      "1410\n",
      "1420\n",
      "1430\n",
      "1440\n",
      "1450\n",
      "1460\n",
      "1470\n",
      "1480\n",
      "1490\n",
      "1500\n",
      "Done with  1500  movies!\n",
      "Trying to get poster for  Joe Dirt\n",
      "1510\n",
      "1520\n",
      "1530\n",
      "1540\n",
      "1550\n",
      "1560\n",
      "1570\n",
      "1580\n",
      "1590\n",
      "1600\n",
      "1610\n",
      "1620\n",
      "1630\n",
      "1640\n",
      "1650\n",
      "1660\n",
      "1670\n",
      "1680\n",
      "1690\n",
      "1700\n",
      "1710\n",
      "1720\n",
      "1730\n",
      "1740\n",
      "1750\n",
      "1760\n",
      "1770\n",
      "1780\n",
      "Done with all the posters!\n"
     ]
    }
   ],
   "source": [
    "poster_movies=[]\n",
    "counter=0\n",
    "movies_no_poster=[]\n",
    "print(\"Total movies : \",len(movies))\n",
    "print(\"Started downloading posters...\")\n",
    "for movie in movies:\n",
    "    if counter%10==0:\n",
    "        print(counter)\n",
    "    id=movie['id']\n",
    "    title=movie['title']\n",
    "    if counter==1:\n",
    "        print('Downloaded first. Code is working fine. Please wait, this will take quite some time...')\n",
    "    if counter%300==0 and counter!=0:\n",
    "        print \"Done with \",counter,\" movies!\"\n",
    "        print \"Trying to get poster for \",title\n",
    "    try:\n",
    "        #grab_poster_tmdb(title)\n",
    "        poster_movies.append(movie)\n",
    "    except:\n",
    "        try:\n",
    "            time.sleep(7)\n",
    "            grab_poster_tmdb(title)\n",
    "            poster_movies.append(movie)\n",
    "        except:\n",
    "            movies_no_poster.append(movie)\n",
    "    counter+=1\n",
    "print(\"Done with all the posters!\")"
   ]
  },
  {
   "cell_type": "code",
   "execution_count": 32,
   "metadata": {},
   "outputs": [
    {
     "name": "stdout",
     "output_type": "stream",
     "text": [
      "0\n",
      "1782\n"
     ]
    }
   ],
   "source": [
    "print len(movies_no_poster)\n",
    "print len(poster_movies)"
   ]
  },
  {
   "cell_type": "code",
   "execution_count": 33,
   "metadata": {},
   "outputs": [],
   "source": [
    "f=open('poster_movies.pckl','w')\n",
    "pickle.dump(poster_movies,f)\n",
    "f.close()"
   ]
  },
  {
   "cell_type": "code",
   "execution_count": 34,
   "metadata": {},
   "outputs": [],
   "source": [
    "f=open('poster_movies.pckl','r')\n",
    "poster_movies=pickle.load(f)\n",
    "f.close()"
   ]
  },
  {
   "cell_type": "code",
   "execution_count": 35,
   "metadata": {},
   "outputs": [],
   "source": [
    "f=open('no_poster_movies.pckl','w')\n",
    "pickle.dump(movies_no_poster,f)\n",
    "f.close()"
   ]
  },
  {
   "cell_type": "code",
   "execution_count": 36,
   "metadata": {},
   "outputs": [],
   "source": [
    "f=open('no_poster_movies.pckl','r')\n",
    "movies_no_poster=pickle.load(f)\n",
    "f.close()"
   ]
  },
  {
   "cell_type": "markdown",
   "metadata": {},
   "source": [
    "# Congratulations, we are done scraping!"
   ]
  },
  {
   "cell_type": "markdown",
   "metadata": {},
   "source": [
    "# Building a dataset out of the scraped information!"
   ]
  },
  {
   "cell_type": "markdown",
   "metadata": {},
   "source": [
    "This task is simple, but **extremely** important. It's basically what will set the stage for the whole project. Given that you have the freedom to cast their own project within the framework I am providing, there are many decisions that you must make to finalize **your own version** of the project."
   ]
  },
  {
   "cell_type": "markdown",
   "metadata": {},
   "source": [
    "As we are working on a **classification** problem, we need to make two decisions given the data at hand - \n",
    "* What do we want to predict, i.e. what's our Y?\n",
    "* What features to use for predicting this Y, i.e. what X should we use?"
   ]
  },
  {
   "cell_type": "markdown",
   "metadata": {},
   "source": [
    "There are many different options possible, and it comes down to you to decide what's most exciting. I will be picking my own version for the example, **but it is imperative that you think this through, and come up with a version which excites you!**"
   ]
  },
  {
   "cell_type": "markdown",
   "metadata": {},
   "source": [
    "As an example, here are some possible ways to frame Y, while still sticking to the problem of genre prediction -\n",
    "\n",
    "* Assume every movie can have multiple genres, and then it becomes a multi-label classification problem. For example, a movie can be Action, Horror and Adventure simultaneously. Thus, every movie can be more than one genre.\n",
    "\n",
    "* Make clusters of genres as we did in Milestone 1 using biclustering, and then every movie can have only 1 genre. This way, the problem becomes a simpler, multi-class problem. For example, a movie could have the class - Uplifting (refer Milestone 1), or Horror or History. No movie get's more than one class.\n",
    "\n",
    "For the purposes of this implementation, I'm going with the first case explained above - i.e. a multi-label classification problem."
   ]
  },
  {
   "cell_type": "markdown",
   "metadata": {},
   "source": [
    "Similarly, for designing our input features i.e. X, you may pick any features you think make sense, for example, the Director of a movie may be a good predictor for genre. OR, they may choose any features they design using algorithms like PCA. Given the richness of IMDB, TMDB and alternate sources like Wikipedia, there is a plethora of options available. **Be creative here!**"
   ]
  },
  {
   "cell_type": "markdown",
   "metadata": {},
   "source": [
    "Another important thing to note is that in doing so, we must also make many more small implementation decisions on the way. For example, what genres are we going to include? what movies are we going to include? All these are open ended!"
   ]
  },
  {
   "cell_type": "markdown",
   "metadata": {},
   "source": [
    "## My Implementation"
   ]
  },
  {
   "cell_type": "markdown",
   "metadata": {},
   "source": [
    "Implementation decisions made - \n",
    "* The problem is framed here as a multi-label problem explained above. \n",
    "* We will try to predict multiple genres associated with a movie. This will be our Y.\n",
    "* We will use 2 different kinds of X - text and images. \n",
    "* For the text part - Input features being used to predict the genre is a form of the movie's plot available from TMDB using the property 'overview'. This will be our X.\n",
    "* For the image part - we will use the scraped poster images as our X. \n",
    "\n",
    "NOTE : We will first look at some conventional machine learning models, which were popular before the recent rise of neural networks and deep learning. For the poster image to genre prediction, I have avoided using this for the reason that conventional ML models are simply not used anymore without using deep learning for feature extraction (all discussed in detail ahead, don't be scared by the jargon). For the movie overview to genre prediction problem we will look at both conventional models and deep learning models. \n",
    "\n",
    "Now, let's build our X and Y!"
   ]
  },
  {
   "cell_type": "markdown",
   "metadata": {},
   "source": [
    "First, let's identify movies that have overviews. **Next few steps are going to be a good example on why data cleaning is important!**"
   ]
  },
  {
   "cell_type": "code",
   "execution_count": 37,
   "metadata": {},
   "outputs": [
    {
     "data": {
      "text/plain": [
       "1668"
      ]
     },
     "execution_count": 37,
     "metadata": {},
     "output_type": "execute_result"
    }
   ],
   "source": [
    "movies_with_overviews=[]\n",
    "for i in range(len(no_duplicate_movies)):\n",
    "    movie=no_duplicate_movies[i]\n",
    "    id=movie['id']\n",
    "    overview=movie['overview']\n",
    "    \n",
    "    if len(overview)==0:\n",
    "        continue\n",
    "    else:\n",
    "        movies_with_overviews.append(movie)\n",
    "        \n",
    "len(movies_with_overviews)"
   ]
  },
  {
   "cell_type": "markdown",
   "metadata": {},
   "source": [
    "Now let's store the genre's for these movies in a list that we will later transform into a binarized vector. \n",
    "\n",
    "Binarized vector representation is a very common and important way data is stored/represented in ML. Essentially, it's a way to reduce a categorical variable with n possible values to n binary indicator variables. What does that mean? For example, let [(1,3),(4)] be the list saying that sample A has two labels 1 and 3, and sample B has one label 4. For every sample, for every possible label, the representation is simply 1 if it has that label, and 0 if it doesn't have that label. So the binarized version of the above list will be -\n",
    "~~~~~\n",
    "[(1,0,1,0]),\n",
    "(0,0,0,1])]\n",
    "~~~~~"
   ]
  },
  {
   "cell_type": "code",
   "execution_count": 38,
   "metadata": {},
   "outputs": [],
   "source": [
    "# genres=np.zeros((len(top1000_movies),3))\n",
    "genres=[]\n",
    "all_ids=[]\n",
    "for i in range(len(movies_with_overviews)):\n",
    "    movie=movies_with_overviews[i]\n",
    "    id=movie['id']\n",
    "    genre_ids=movie['genre_ids']\n",
    "    genres.append(genre_ids)\n",
    "    all_ids.extend(genre_ids)"
   ]
  },
  {
   "cell_type": "code",
   "execution_count": 39,
   "metadata": {},
   "outputs": [],
   "source": [
    "from sklearn.preprocessing import MultiLabelBinarizer\n",
    "mlb=MultiLabelBinarizer()\n",
    "Y=mlb.fit_transform(genres)"
   ]
  },
  {
   "cell_type": "code",
   "execution_count": 40,
   "metadata": {},
   "outputs": [
    {
     "data": {
      "text/plain": [
       "[28, 12, 35]"
      ]
     },
     "execution_count": 40,
     "metadata": {},
     "output_type": "execute_result"
    }
   ],
   "source": [
    "genres[1]"
   ]
  },
  {
   "cell_type": "code",
   "execution_count": 41,
   "metadata": {},
   "outputs": [
    {
     "name": "stdout",
     "output_type": "stream",
     "text": [
      "(1668, 19)\n",
      "[349 253 256 671 226 450 439 135  47 432 241 132 277 187 137 235 294  99\n",
      " 125]\n"
     ]
    }
   ],
   "source": [
    "print Y.shape\n",
    "print np.sum(Y, axis=0)"
   ]
  },
  {
   "cell_type": "code",
   "execution_count": 42,
   "metadata": {},
   "outputs": [
    {
     "data": {
      "text/plain": [
       "19"
      ]
     },
     "execution_count": 42,
     "metadata": {},
     "output_type": "execute_result"
    }
   ],
   "source": [
    "len(list_of_genres)"
   ]
  },
  {
   "cell_type": "markdown",
   "metadata": {},
   "source": [
    "This is interesting. We started with only 19 genre labels if you remember. But the shape for Y is 1666,20 while it should be 1666,19 as there are only 19 genres? Let's explore."
   ]
  },
  {
   "cell_type": "markdown",
   "metadata": {},
   "source": [
    "Let's find genre IDs that are not present in our original list of genres!"
   ]
  },
  {
   "cell_type": "code",
   "execution_count": 43,
   "metadata": {},
   "outputs": [],
   "source": [
    "# Create a tmdb genre object!\n",
    "genres=tmdb.Genres()\n",
    "# the list() method of the Genres() class returns a listing of all genres in the form of a dictionary.\n",
    "list_of_genres=genres.list()['genres']\n",
    "Genre_ID_to_name={}\n",
    "for i in range(len(list_of_genres)):\n",
    "    genre_id=list_of_genres[i]['id']\n",
    "    genre_name=list_of_genres[i]['name']\n",
    "    Genre_ID_to_name[genre_id]=genre_name"
   ]
  },
  {
   "cell_type": "code",
   "execution_count": 44,
   "metadata": {},
   "outputs": [],
   "source": [
    "for i in set(all_ids):\n",
    "    if i not in Genre_ID_to_name.keys():\n",
    "        print i"
   ]
  },
  {
   "cell_type": "markdown",
   "metadata": {},
   "source": [
    "Well, this genre ID wasn't given to us by TMDB when we asked it for all possible genres. How do we go about this now? We can either neglect all samples that have this genre. But if you look up you'll see there's too many of these samples. So, I googled more and went into their documentation and found that this ID corresponds to the genre \"Foreign\". So, we add it to the dictionary of genre names ourselves. Such problems are ubiquitous in machine learning, and it is up to us to diagnose and correct them. We must always make a decision about what to keep, how to store data and so on. "
   ]
  },
  {
   "cell_type": "code",
   "execution_count": 45,
   "metadata": {},
   "outputs": [],
   "source": [
    "Genre_ID_to_name[10769]=\"Foreign\" #Adding it to the dictionary"
   ]
  },
  {
   "cell_type": "code",
   "execution_count": 46,
   "metadata": {},
   "outputs": [
    {
     "data": {
      "text/plain": [
       "20"
      ]
     },
     "execution_count": 46,
     "metadata": {},
     "output_type": "execute_result"
    }
   ],
   "source": [
    "len(Genre_ID_to_name.keys())"
   ]
  },
  {
   "cell_type": "markdown",
   "metadata": {},
   "source": [
    "Now, we turn to building the X matrix i.e. the input features! As described earlier, we will be using the overview of movies as our input vector! Let's look at a movie's overview for example!"
   ]
  },
  {
   "cell_type": "code",
   "execution_count": 47,
   "metadata": {},
   "outputs": [
    {
     "name": "stdout",
     "output_type": "stream",
     "text": [
      "The overview for the movie Zootopia  is - \n",
      "\n",
      "\n",
      "Determined to prove herself, Officer Judy Hopps, the first bunny on Zootopia's police force, jumps at the chance to crack her first case - even if it means partnering with scam-artist fox Nick Wilde to solve the mystery.\n"
     ]
    }
   ],
   "source": [
    "sample_movie=movies_with_overviews[5]\n",
    "sample_overview=sample_movie['overview']\n",
    "sample_title=sample_movie['title']\n",
    "print \"The overview for the movie\",sample_title,\" is - \\n\\n\"\n",
    "print sample_overview"
   ]
  },
  {
   "cell_type": "markdown",
   "metadata": {},
   "source": [
    "## So, how do we store this movie overview in a matrix?\n",
    "\n",
    "#### Do we just store the whole string? We know that we need to work with numbers, but this is all text. What do we do?!"
   ]
  },
  {
   "cell_type": "markdown",
   "metadata": {},
   "source": [
    "The way we will be storing the X matrix is called a \"Bag of words\" representation. The basic idea of this representation in our context is that we can think of all the distinct words that are possible in the movies' reviews as a distinct object. And then every movie overview can be thought as a \"Bag\" containing a bunch of these possible objects.\n",
    "\n",
    "For example, in the case of Zootopia the movie above - The \"Bag\" contains the words (\"Determined\", \"to\", \"prove\", \"herself\"......\"the\", \"mystery\"). We make such lists for all movie overviews. Finally, we binarize again like we did above for Y. scikit-learn makes our job easy here by simply using a function CountVectorizer() because this representation is so often used in Machine Learning."
   ]
  },
  {
   "cell_type": "markdown",
   "metadata": {},
   "source": [
    "What this means is that, for all the movies that we have the data on, we will first count all the unique words. Say, there's 30,000 unique words. Then we can represent every movie overview as a 30000x1 vector, where each position in the vector corresponds to the presence or absence of a particular word. If the word corresponding to that position is present in the overview, that position will have 1, otherwise it will be 0. \n",
    "\n",
    "Ex - if our vocabular was 4 words - \"I\",\"am\",\"a\",\"good\",\"boy\", then the representation for the sentence \"I am a boy\" would be [1 1 1 0 1], and for the sentence \"I am good\" would be [1 1 0 1 0]."
   ]
  },
  {
   "cell_type": "code",
   "execution_count": 48,
   "metadata": {},
   "outputs": [
    {
     "name": "stderr",
     "output_type": "stream",
     "text": [
      "/anaconda3/envs/deeplearningproject/lib/python2.7/site-packages/sklearn/feature_extraction/hashing.py:9: RuntimeWarning: numpy.dtype size changed, may indicate binary incompatibility. Expected 96, got 88\n",
      "  from . import _hashing\n",
      "/anaconda3/envs/deeplearningproject/lib/python2.7/site-packages/sklearn/feature_extraction/hashing.py:9: RuntimeWarning: numpy.ufunc size changed, may indicate binary incompatibility. Expected 192, got 176\n",
      "  from . import _hashing\n"
     ]
    }
   ],
   "source": [
    "from sklearn.feature_extraction.text import CountVectorizer\n",
    "import re"
   ]
  },
  {
   "cell_type": "code",
   "execution_count": 49,
   "metadata": {},
   "outputs": [],
   "source": [
    "content=[]\n",
    "for i in range(len(movies_with_overviews)):\n",
    "    movie=movies_with_overviews[i]\n",
    "    id=movie['id']\n",
    "    overview=movie['overview']\n",
    "    overview=overview.replace(',','')\n",
    "    overview=overview.replace('.','')\n",
    "    content.append(overview)"
   ]
  },
  {
   "cell_type": "code",
   "execution_count": 50,
   "metadata": {},
   "outputs": [
    {
     "name": "stdout",
     "output_type": "stream",
     "text": [
      "1668\n",
      "Following the events of Age of Ultron the collective governments of the world pass an act designed to regulate all superhuman activity This polarizes opinion amongst the Avengers causing two factions to side with Iron Man or Captain America which causes an epic battle between former allies\n",
      "1668\n"
     ]
    }
   ],
   "source": [
    "print len(movies_with_overviews)\n",
    "print content[0]\n",
    "print len(content)"
   ]
  },
  {
   "cell_type": "markdown",
   "metadata": {},
   "source": [
    "# Are all words equally important?"
   ]
  },
  {
   "cell_type": "markdown",
   "metadata": {},
   "source": [
    "#### At the cost of sounding \"Animal Farm\" inspired, I would say not all words are equally important. \n",
    "\n",
    "For example, let's consider the overview for the Matrix - "
   ]
  },
  {
   "cell_type": "code",
   "execution_count": 51,
   "metadata": {},
   "outputs": [
    {
     "data": {
      "text/plain": [
       "u'Set in the 22nd century, The Matrix tells the story of a computer hacker who joins a group of underground insurgents fighting the vast and powerful computers who now rule the earth.'"
      ]
     },
     "execution_count": 51,
     "metadata": {},
     "output_type": "execute_result"
    }
   ],
   "source": [
    "get_movie_info_tmdb('The Matrix')['overview']"
   ]
  },
  {
   "cell_type": "markdown",
   "metadata": {},
   "source": [
    "For \"The Matrix\" a word like \"computer\" is a stronger indicators of it being a Sci-Fi movie, than words like \"who\" or \"powerful\" or \"vast\". One way computer scientists working with natural language tackled this problem in the past (and it is still used very popularly) is what we call TF-IDF i.e. Term Frequence, Inverse Document Frequency. The basic idea here is that words that are strongly indicative of the content of a single document (every movie overview is a document in our case) are words that occur very frequently in that document, and very infrequently in all other documents. For example, \"Computer\" occurs twice here but probably will not in most other movie overviews. Hence, it is indicative. On the other hand, generic words like \"a\",\"and\",\"the\" will occur very often in all documents. Hence, they are not indicative. \n",
    "\n",
    "So, can we use this information to reduce our insanely high 30,000 dimensional vector representation to a smaller, more handle-able number? But first up, why should we even care? The answer is probably one of the most used phrases in ML - \"The Curse of Dimensionality\"."
   ]
  },
  {
   "cell_type": "markdown",
   "metadata": {},
   "source": [
    "# The Curse of Dimensionality"
   ]
  },
  {
   "cell_type": "markdown",
   "metadata": {},
   "source": [
    "#### This section is strongly borrowing from one of the greatest <a href=\"https://homes.cs.washington.edu/~pedrod/papers/cacm12.pdf\">ML papers I've ever read.</a>\n",
    "\n",
    "This expression was coined by Bellman in 1961 to refer to the fact that many algorithms that work fine in low dimensions become intractable when the input is high-dimensional. The reason for them not working in high dimensions is very strongly linked to what we discussed earlier - having a representative dataset. Consider this, you have a function $f$ dependent only one dependent variable $x$, and $x$ can only integer values from 1 to 100. Since it's one dimensional, it can be plotted on a line. To get a representative sample, you'd need to sample something like - $f(1),f(20),f(40),f(60),f(80),f(100)$"
   ]
  },
  {
   "cell_type": "markdown",
   "metadata": {},
   "source": [
    "Now, let's increase the dimensionality i.e. number of dependent variables and see what happens. Say, we have 2 variables $x_1$ and $x_2$, same possible as before - integers between 1 and 100. Now, instead of a line, we'll have a plane with $x_1$ and $x_2$ on the two axes. The interesting bit is that instead of 100 possible values of dependent variables like before, we now have 100,000 possible values! Basically, we can make 100x100 table of possible values of $x_1$ and $x_2$. Wow, that increased exponentially. Not just figuratively, but mathematically exponentially. Needless to say, to cover 5% of the space like we did before, we'd need to sample $f$ at 5000 values. "
   ]
  },
  {
   "cell_type": "markdown",
   "metadata": {},
   "source": [
    "For 3 variables, it would be 100,000,000, and we'd need to sample at 500,000 points. That's already more than the number of data points we have for most training problems we will ever come across."
   ]
  },
  {
   "cell_type": "markdown",
   "metadata": {},
   "source": [
    "Basically, as the dimensionality (number of features) of the examples grows, because a fixed-size training set covers a dwindling fraction of the input space. Even with a moderate dimension of 100 and a huge training set of a trillion examples, the latter covers only a fraction of about $10^{−18}$ of the input space. This is what makes machine learning\n",
    "both necessary and hard."
   ]
  },
  {
   "cell_type": "markdown",
   "metadata": {},
   "source": [
    "So, yes, if some words are unimportant, we want to get rid of them and reduce the dimensionality of our X matrix. And the way we will do it is using TF-IDF to identify un-important words. Python let's us do this with just one line of code (And this is why you should spend more time reading maths, than coding!)"
   ]
  },
  {
   "cell_type": "code",
   "execution_count": 52,
   "metadata": {},
   "outputs": [],
   "source": [
    "# The min_df paramter makes sure we exclude words that only occur very rarely\n",
    "# The default also is to exclude any words that occur in every movie description\n",
    "vectorize=CountVectorizer(max_df=0.95, min_df=0.005)\n",
    "X=vectorize.fit_transform(content)"
   ]
  },
  {
   "cell_type": "markdown",
   "metadata": {},
   "source": [
    "We are excluding all words that occur in too many or too few documents, as these are very unlikely to be discriminative. Words that only occur in one document most probably are names, and words that occur in nearly all documents are probably stop words. Note that the values here were not tuned using a validation set. They are just guesses. It is ok to do, because we didn't evaluate the performance of these parameters. In a strict case, for example for a publication, it would be better to tune these as well. "
   ]
  },
  {
   "cell_type": "code",
   "execution_count": 53,
   "metadata": {},
   "outputs": [
    {
     "data": {
      "text/plain": [
       "(1668, 19)"
      ]
     },
     "execution_count": 53,
     "metadata": {},
     "output_type": "execute_result"
    }
   ],
   "source": [
    "X.shape\n",
    "Y.shape"
   ]
  },
  {
   "cell_type": "markdown",
   "metadata": {},
   "source": [
    "So, each movie's overview gets represented by a 1x1365 dimensional vector.\n",
    "\n",
    "Now, we are ready for the kill. Our data is cleaned, hypothesis is set (Overview can predict movie genre), and the feature/output vectors are prepped. Let's train some models!"
   ]
  },
  {
   "cell_type": "code",
   "execution_count": 54,
   "metadata": {},
   "outputs": [],
   "source": [
    "import pickle\n",
    "f4=open('X.pckl','wb')\n",
    "f5=open('Y.pckl','wb')\n",
    "pickle.dump(X,f4)\n",
    "pickle.dump(Y,f5)\n",
    "f6=open('Genredict.pckl','wb')\n",
    "pickle.dump(Genre_ID_to_name,f6)\n",
    "f4.close()\n",
    "f5.close()\n",
    "f6.close()"
   ]
  },
  {
   "cell_type": "markdown",
   "metadata": {},
   "source": [
    "# Congratulations, we have our data set ready!"
   ]
  },
  {
   "cell_type": "markdown",
   "metadata": {},
   "source": [
    "A note : As we are building our own dataset, and I didn't want you to spend all your time waiting for poster image downloads to finish, I am working with an EXTREMELY small dataset. That is why, the results we will see for the deep learning portion will not be spectacular as compared to conventional machine learning methods. If you want to see the real power, you should spend some more time scraping something of the order of 100,000 images, as opposed to 1000 odd like I am doing here. Quoting the paper I mentioned above -  MORE DATA BEATS A CLEVERER ALGORITHM.\n",
    "\n",
    "#### As the TA, I saw that most teams working on the project had data of the order of 100,000 movies. So, if you want to extract the power of these models, consider scraping a larger dataset than me."
   ]
  },
  {
   "cell_type": "markdown",
   "metadata": {
    "collapsed": true
   },
   "source": [
    "# Section 5 - Non-deep, Conventional ML models with above data"
   ]
  },
  {
   "cell_type": "markdown",
   "metadata": {},
   "source": [
    "Here is a layout of what we will be doing - \n",
    "\n",
    "- We will implement two different models\n",
    "- We will decide a performance metric i.e. a quantitative method to be sure about how well difference models are doing. \n",
    "- Discussion of the differences between the models, their strengths, weaknesses, etc. "
   ]
  },
  {
   "cell_type": "markdown",
   "metadata": {},
   "source": [
    "As discussed earlier, there are a LOT of implementation decisions to be made. Between feature engineering, hyper-parameter tuning, model selection and how interpretable do you want your model to be (Read : Bayesian vs Non-Bayesian approaches) a lot is to be decided. For example, some of these models could be: \n",
    "\n",
    "- Generalized Linear Models\n",
    "- SVM\n",
    "- Shallow (1 Layer, i.e. not deep) Neural Network\n",
    "- Random Forest\n",
    "- Boosting\n",
    "- Decision Tree\n",
    "\n",
    "Or go more bayesian:\n",
    "- Naive Bayes\n",
    "- Linear or Quadratic Discriminant Analysis\n",
    "- Bayesian Hierarchical models"
   ]
  },
  {
   "cell_type": "markdown",
   "metadata": {},
   "source": [
    "The list is endless, and not all models will make sense for the kind of problem you have framed for yourself. ** Think about which model best fits for your purpose.**"
   ]
  },
  {
   "cell_type": "markdown",
   "metadata": {},
   "source": [
    "For our purposes here, I will be showing the example of 2 very simple models, one picked from each category above - \n",
    "\n",
    "1. SVM\n",
    "2. Multinomial Naive Bayes"
   ]
  },
  {
   "cell_type": "markdown",
   "metadata": {},
   "source": [
    "A quick overview of the whole pipeline coming below: \n",
    "    \n",
    "- A little bit of feature engineering\n",
    "- 2 different Models \n",
    "- Evaluation Metrics chosen\n",
    "- Model comparisons"
   ]
  },
  {
   "cell_type": "markdown",
   "metadata": {},
   "source": [
    "### Let's start with some feature engineering. "
   ]
  },
  {
   "cell_type": "markdown",
   "metadata": {},
   "source": [
    "Engineering the right features depends on 2 key ideas. Firstly, what is it that you are trying to solve? For example, if you want to guess my music preferences and you try to train a super awesome model while giving it what my height is as input features, you're going to have no luck. On the other hand, giving it my Spotify playlist will solve the problem with any model. So, CONTEXT of the problem plays a role. \n",
    "\n",
    "Second, you can only represent based on the data at hand. Meaning, if you didn't have access to my Spotify playlist, but to my Facebook statuses - You know all my statuses about Harvard may not be useful. But if you represent me as my Facebook statuses which are YouTube links, that would also solve the problem. So, AVAILABILITY OF DATA at hand is the second factor. \n",
    "\n",
    "#### A nice way to think of it is to think that you start with the problem at hand, but design features constrained by the data you have available. If you have many independent features that each correlate well with the class, learning is easy. On the other hand, if the class is a very complex function of the features, you may not be able to learn it.\n",
    "\n",
    "\n",
    "In the context of this problem, we would like to predict the genre of a movie. what we have access to - movie overviews, which are text descriptions of the movie plot. The hypothesis makes sense, overview is a short description of the story and the story is clearly important in assigning genres to movies. \n",
    "\n",
    "So, let's improve our features by playing with the words in the overviews in our data. One interesting way to go back to what we discussed earlier - TF-IDF. We originally used it to filter words, but we can also assign the tf-idf values as \"importance\" values to words, as opposed to treating them all equally. Tf-idf simply tries to identify the assign a weightage to each word in the bag of words. "
   ]
  },
  {
   "cell_type": "markdown",
   "metadata": {},
   "source": [
    "Once again, the way it works is - Most movie descriptions have the word \"The\" in it. Obviously, it doesn't tell you anything special about it. So weightage should be inversely proportional to how many movies have the word in their description. This is the IDF part.\n",
    "\n",
    "On the other hand, for the movie interstellar, if the description has the word Space 5 times, and wormhole 2 times, then it's probably more about Space than about wormhole. Thus, space should have a high weightage. This is the TF part. \n",
    "\n",
    "We simply use TF-IDf to assign weightage to every word in the bag of words. Which makes sense, right? :)"
   ]
  },
  {
   "cell_type": "code",
   "execution_count": 55,
   "metadata": {},
   "outputs": [],
   "source": [
    "from sklearn.feature_extraction.text import TfidfTransformer"
   ]
  },
  {
   "cell_type": "code",
   "execution_count": 56,
   "metadata": {},
   "outputs": [
    {
     "name": "stderr",
     "output_type": "stream",
     "text": [
      "/anaconda3/envs/deeplearningproject/lib/python2.7/site-packages/sklearn/feature_extraction/text.py:1059: FutureWarning: Conversion of the second argument of issubdtype from `float` to `np.floating` is deprecated. In future, it will be treated as `np.float64 == np.dtype(float).type`.\n",
      "  if hasattr(X, 'dtype') and np.issubdtype(X.dtype, np.float):\n"
     ]
    },
    {
     "data": {
      "text/plain": [
       "(1668, 1238)"
      ]
     },
     "execution_count": 56,
     "metadata": {},
     "output_type": "execute_result"
    }
   ],
   "source": [
    "tfidf_transformer = TfidfTransformer()\n",
    "X_tfidf = tfidf_transformer.fit_transform(X)\n",
    "X_tfidf.shape"
   ]
  },
  {
   "cell_type": "markdown",
   "metadata": {},
   "source": [
    "Let's divide our X and Y matrices into train and test split. We train the model on the train split, and report the performance on the test split. Think of this like the questions you do in the problem sets v/s the exam. Of course, they are both (assumed to be) from the same population of questions. And doing well on Problem Sets is a good indicator that you'll do well in exams, but really, you must test before you can make any claims about you knowing the subject."
   ]
  },
  {
   "cell_type": "code",
   "execution_count": 57,
   "metadata": {},
   "outputs": [],
   "source": [
    "msk = np.random.rand(X_tfidf.shape[0]) < 0.8"
   ]
  },
  {
   "cell_type": "code",
   "execution_count": 58,
   "metadata": {},
   "outputs": [],
   "source": [
    "X_train_tfidf=X_tfidf[msk]\n",
    "X_test_tfidf=X_tfidf[~msk]\n",
    "Y_train=Y[msk]\n",
    "Y_test=Y[~msk]\n",
    "positions=range(len(movies_with_overviews))\n",
    "# print positions\n",
    "test_movies=np.asarray(positions)[~msk]\n",
    "# test_movies"
   ]
  },
  {
   "cell_type": "code",
   "execution_count": 59,
   "metadata": {},
   "outputs": [],
   "source": [
    "from sklearn.multiclass import OneVsRestClassifier\n",
    "from sklearn.svm import SVC\n",
    "from sklearn.model_selection import GridSearchCV\n",
    "from sklearn.metrics import f1_score\n",
    "from sklearn.metrics import make_scorer\n",
    "from sklearn.metrics import classification_report"
   ]
  },
  {
   "cell_type": "code",
   "execution_count": 60,
   "metadata": {},
   "outputs": [
    {
     "data": {
      "text/plain": [
       "OneVsRestClassifier(estimator=GridSearchCV(cv=None, error_score='raise',\n",
       "       estimator=SVC(C=1.0, cache_size=200, class_weight='balanced', coef0=0.0,\n",
       "  decision_function_shape=None, degree=3, gamma='auto', kernel='rbf',\n",
       "  max_iter=-1, probability=False, random_state=None, shrinking=True,\n",
       "  tol=0.001, verbose=False),...refit=True, return_train_score=True,\n",
       "       scoring=make_scorer(f1_score, average=micro), verbose=0),\n",
       "          n_jobs=1)"
      ]
     },
     "execution_count": 60,
     "metadata": {},
     "output_type": "execute_result"
    }
   ],
   "source": [
    "parameters = {'kernel':['linear'], 'C':[0.01, 0.1, 1.0]}\n",
    "gridCV = GridSearchCV(SVC(class_weight='balanced'), parameters, scoring=make_scorer(f1_score, average='micro'))\n",
    "classif = OneVsRestClassifier(gridCV)\n",
    "\n",
    "classif.fit(X_train_tfidf, Y_train)"
   ]
  },
  {
   "cell_type": "code",
   "execution_count": 61,
   "metadata": {},
   "outputs": [
    {
     "name": "stdout",
     "output_type": "stream",
     "text": [
      "(358, 1238) (358, 19) (358, 19) 3\n",
      "[u'Action', u'Adventure', u'Science Fiction']\n",
      "             precision    recall  f1-score   support\n",
      "\n",
      "          0       0.46      0.56      0.51        85\n",
      "          1       0.18      1.00      0.31        65\n",
      "          2       0.00      0.00      0.00        67\n",
      "          3       0.53      0.56      0.54       147\n",
      "          4       0.31      0.31      0.31        45\n",
      "          5       0.59      0.72      0.65       101\n",
      "          6       0.47      0.64      0.54        87\n",
      "          7       0.38      0.48      0.43        33\n",
      "          8       0.80      0.33      0.47        12\n",
      "          9       0.52      0.57      0.54        97\n",
      "         10       0.51      0.59      0.54        58\n",
      "         11       0.68      0.63      0.65        27\n",
      "         12       0.39      0.41      0.40        56\n",
      "         13       0.27      0.41      0.33        37\n",
      "         14       0.69      0.50      0.58        18\n",
      "         15       0.37      0.49      0.42        45\n",
      "         16       0.00      0.00      0.00        60\n",
      "         17       0.57      0.63      0.60        19\n",
      "         18       0.09      1.00      0.16        31\n",
      "\n",
      "avg / total       0.40      0.53      0.43      1090\n",
      "\n"
     ]
    },
    {
     "name": "stderr",
     "output_type": "stream",
     "text": [
      "/anaconda3/envs/deeplearningproject/lib/python2.7/site-packages/sklearn/metrics/classification.py:1113: UndefinedMetricWarning: Precision and F-score are ill-defined and being set to 0.0 in labels with no predicted samples.\n",
      "  'precision', 'predicted', average, warn_for)\n"
     ]
    }
   ],
   "source": [
    "predstfidf=classif.predict(X_test_tfidf)\n",
    "print X_test_tfidf.shape, Y_test.shape, predstfidf.shape, len(genre_names)\n",
    "print genre_names\n",
    "print classification_report(Y_test, predstfidf)"
   ]
  },
  {
   "cell_type": "markdown",
   "metadata": {},
   "source": [
    "As you can see, the performance is by and large poorer for movies which are less represented like War and animation, and better for categories like Drama."
   ]
  },
  {
   "cell_type": "markdown",
   "metadata": {},
   "source": [
    "Numbers aside, let's look at our model's predictions for a small sample of movies from our test set."
   ]
  },
  {
   "cell_type": "code",
   "execution_count": 62,
   "metadata": {},
   "outputs": [],
   "source": [
    "genre_list=sorted(list(Genre_ID_to_name.keys()))"
   ]
  },
  {
   "cell_type": "code",
   "execution_count": 63,
   "metadata": {},
   "outputs": [],
   "source": [
    "predictions=[]\n",
    "for i in range(X_test_tfidf.shape[0]):\n",
    "    pred_genres=[]\n",
    "    movie_label_scores=predstfidf[i]\n",
    "    #print len(movie_label_scores), movie_label_scores[18]\n",
    "#     print movie_label_scores\n",
    "    for j in range(len(movie_label_scores)):\n",
    "        #print j\n",
    "        if movie_label_scores[j]!=0:\n",
    "            genre=Genre_ID_to_name[genre_list[j]]\n",
    "            pred_genres.append(genre)\n",
    "    predictions.append(pred_genres)"
   ]
  },
  {
   "cell_type": "code",
   "execution_count": 64,
   "metadata": {},
   "outputs": [],
   "source": [
    "import pickle\n",
    "f=open('classifer_svc','wb')\n",
    "pickle.dump(classif,f)\n",
    "f.close()"
   ]
  },
  {
   "cell_type": "code",
   "execution_count": 65,
   "metadata": {},
   "outputs": [
    {
     "name": "stdout",
     "output_type": "stream",
     "text": [
      "MOVIE:  Alice Through the Looking Glass \tPREDICTION:  Adventure,Fantasy,Action,Foreign\n",
      "MOVIE:  The Hobbit: The Battle of the Five Armies \tPREDICTION:  Fantasy,Comedy,Thriller,Science Fiction,Foreign\n",
      "MOVIE:  Attack on Titan II: End of the World \tPREDICTION:  Fantasy,Drama,Thriller,Crime,War,Foreign\n",
      "MOVIE:  Cloudy with a Chance of Meatballs 2 \tPREDICTION:  Fantasy,Drama,Horror,Action,Thriller,Science Fiction,Foreign\n",
      "MOVIE:  Zambezia \tPREDICTION:  Fantasy,Horror,Thriller,Science Fiction,Foreign\n",
      "MOVIE:  The Bourne Supremacy \tPREDICTION:  Fantasy,History,Thriller,Foreign\n",
      "MOVIE:  Raise the Red Lantern \tPREDICTION:  Fantasy,Comedy,Romance,Foreign\n"
     ]
    }
   ],
   "source": [
    "for i in range(X_test_tfidf.shape[0]):\n",
    "    if i%50==0 and i!=0:\n",
    "        print 'MOVIE: ',movies_with_overviews[i]['title'],'\\tPREDICTION: ',','.join(predictions[i])"
   ]
  },
  {
   "cell_type": "markdown",
   "metadata": {},
   "source": [
    "Let's try our second model? The naive bayes model."
   ]
  },
  {
   "cell_type": "code",
   "execution_count": 66,
   "metadata": {},
   "outputs": [],
   "source": [
    "from sklearn.naive_bayes import MultinomialNB\n",
    "classifnb = OneVsRestClassifier(MultinomialNB())\n",
    "classifnb.fit(X[msk].toarray(), Y_train)\n",
    "predsnb=classifnb.predict(X[~msk].toarray())"
   ]
  },
  {
   "cell_type": "code",
   "execution_count": 67,
   "metadata": {},
   "outputs": [],
   "source": [
    "import pickle\n",
    "f2=open('classifer_nb','wb')\n",
    "pickle.dump(classifnb,f2)\n",
    "f2.close()"
   ]
  },
  {
   "cell_type": "code",
   "execution_count": 68,
   "metadata": {},
   "outputs": [],
   "source": [
    "predictionsnb=[]\n",
    "for i in range(X_test_tfidf.shape[0]):\n",
    "    pred_genres=[]\n",
    "    movie_label_scores=predsnb[i]\n",
    "    for j in range(len(movie_label_scores)):\n",
    "        #print j\n",
    "        if movie_label_scores[j]!=0:\n",
    "            genre=Genre_ID_to_name[genre_list[j]]\n",
    "            pred_genres.append(genre)\n",
    "    predictionsnb.append(pred_genres)"
   ]
  },
  {
   "cell_type": "code",
   "execution_count": 69,
   "metadata": {},
   "outputs": [
    {
     "name": "stdout",
     "output_type": "stream",
     "text": [
      "MOVIE:  Alice Through the Looking Glass \tPREDICTION:  Adventure,Action,Family\n",
      "MOVIE:  The Hobbit: The Battle of the Five Armies \tPREDICTION:  Horror,Comedy,Thriller,Science Fiction,Family\n",
      "MOVIE:  Attack on Titan II: End of the World \tPREDICTION:  Drama,Action,Thriller,Crime\n",
      "MOVIE:  Cloudy with a Chance of Meatballs 2 \tPREDICTION:  Action,Thriller,Crime,Science Fiction,War\n",
      "MOVIE:  Zambezia \tPREDICTION:  Horror,Thriller,Science Fiction\n",
      "MOVIE:  The Bourne Supremacy \tPREDICTION:  Thriller\n",
      "MOVIE:  Raise the Red Lantern \tPREDICTION:  Drama,Comedy,Romance\n"
     ]
    }
   ],
   "source": [
    "for i in range(X_test_tfidf.shape[0]):\n",
    "    if i%50==0 and i!=0:\n",
    "        print 'MOVIE: ',movies_with_overviews[i]['title'],'\\tPREDICTION: ',','.join(predictionsnb[i])"
   ]
  },
  {
   "cell_type": "markdown",
   "metadata": {},
   "source": [
    "As can be seen above, the results seem promising, but how do we really compare the two models? We need to quantify our performance so that we can say which one's better. Takes us back to what we discussed right in the beginning - we're learning a function $g$ which can approximate the original unknown function $f$. For some values of $x_i$, the predictions will be wrong for sure, and we want to minimize it. \n",
    "\n",
    "For multi label systems, we often keep track of performance using \"Precision\" and \"Recall\". These are standard metrics, and you can google to read up more about them if you're new to these terms."
   ]
  },
  {
   "cell_type": "markdown",
   "metadata": {},
   "source": [
    "# Evaluation Metrics"
   ]
  },
  {
   "cell_type": "markdown",
   "metadata": {},
   "source": [
    "We will use the standard precision recall metrics for evaluating our system."
   ]
  },
  {
   "cell_type": "code",
   "execution_count": 70,
   "metadata": {},
   "outputs": [],
   "source": [
    "def precision_recall(gt,preds):\n",
    "    TP=0\n",
    "    FP=0\n",
    "    FN=0\n",
    "    for t in gt:\n",
    "        if t in preds:\n",
    "            TP+=1\n",
    "        else:\n",
    "            FN+=1\n",
    "    for p in preds:\n",
    "        if p not in gt:\n",
    "            FP+=1\n",
    "    if TP+FP==0:\n",
    "        precision=0\n",
    "    else:\n",
    "        precision=TP/float(TP+FP)\n",
    "    if TP+FN==0:\n",
    "        recall=0\n",
    "    else:\n",
    "        recall=TP/float(TP+FN)\n",
    "    return precision,recall"
   ]
  },
  {
   "cell_type": "code",
   "execution_count": 71,
   "metadata": {},
   "outputs": [
    {
     "name": "stdout",
     "output_type": "stream",
     "text": [
      "0.30713288108539505 0.5247206703910614\n"
     ]
    }
   ],
   "source": [
    "precs=[]\n",
    "recs=[]\n",
    "for i in range(len(test_movies)):\n",
    "    if i%1==0:\n",
    "        pos=test_movies[i]\n",
    "        test_movie=movies_with_overviews[pos]\n",
    "        gtids=test_movie['genre_ids']\n",
    "        gt=[]\n",
    "        for g in gtids:\n",
    "            g_name=Genre_ID_to_name[g]\n",
    "            gt.append(g_name)\n",
    "#         print predictions[i],movies_with_overviews[i]['title'],gt\n",
    "        a,b=precision_recall(gt,predictions[i])\n",
    "        precs.append(a)\n",
    "        recs.append(b)\n",
    "\n",
    "print np.mean(np.asarray(precs)),np.mean(np.asarray(recs))"
   ]
  },
  {
   "cell_type": "code",
   "execution_count": 72,
   "metadata": {},
   "outputs": [
    {
     "name": "stdout",
     "output_type": "stream",
     "text": [
      "0.5160514764565044 0.5313780260707636\n"
     ]
    }
   ],
   "source": [
    "precs=[]\n",
    "recs=[]\n",
    "for i in range(len(test_movies)):\n",
    "    if i%1==0:\n",
    "        pos=test_movies[i]\n",
    "        test_movie=movies_with_overviews[pos]\n",
    "        gtids=test_movie['genre_ids']\n",
    "        gt=[]\n",
    "        for g in gtids:\n",
    "            g_name=Genre_ID_to_name[g]\n",
    "            gt.append(g_name)\n",
    "#         print predictions[i],movies_with_overviews[i]['title'],gt\n",
    "        a,b=precision_recall(gt,predictionsnb[i])\n",
    "        precs.append(a)\n",
    "        recs.append(b)\n",
    "\n",
    "print np.mean(np.asarray(precs)),np.mean(np.asarray(recs))"
   ]
  },
  {
   "cell_type": "markdown",
   "metadata": {},
   "source": [
    "The average precision and recall scores for our samples are pretty good! Models seem to be working! Also, we can see that the Naive Bayes performs outperforms SVM. **I strongly suggest you to go read about Multinomial Bayes and think about why it works so well for \"Document Classification\", which is very similar to our case as every movie overview can be thought of as a document we are assigning labels to.**"
   ]
  },
  {
   "cell_type": "markdown",
   "metadata": {},
   "source": [
    "# Section 6 - Deep Learning : an intuitive overview"
   ]
  },
  {
   "cell_type": "markdown",
   "metadata": {},
   "source": [
    "The above results were good, but it's time to bring out the big guns. So first and foremost, let's get a very short idea about what's deep learning. This is for peope who don't have background in this - it's high level and gives just the intuition. "
   ]
  },
  {
   "cell_type": "markdown",
   "metadata": {},
   "source": [
    "As described above, the two most immportant concepts in doing good classification (or regression) are to 1) use the right representation which captures the right information about the data which is relevant to the problem at hand 2) Using the right model which has the capability of making sense of the representation fed to it. "
   ]
  },
  {
   "cell_type": "markdown",
   "metadata": {},
   "source": [
    "While for the second part we have complicated and powerful models that we have studied at length, we don't seem to have a principled, mathematical way of doing the first part - i.e. representation. What we did above was to see \"What makes sense\", and go from there. That is not a good approach for complex data/ complex problems. Is there some way to automate this? Deep Learning, does just this."
   ]
  },
  {
   "cell_type": "markdown",
   "metadata": {},
   "source": [
    "To just emphasize the importance of representation in the complex tasks we usually attempt with Deep Learning, let me talk about the original problem which made it famous. The paper is often reffered to as the \"Imagenet Challenge Paper\", and it was basically working on object recognition in images. Let's try to think about an algorithm that tries to detect a chair. \n",
    "\n",
    "## If I ask you to \"Define\" a chair, how would you? - Something with 4 legs?"
   ]
  },
  {
   "cell_type": "markdown",
   "metadata": {},
   "source": [
    "<img src=\"files/chair1.png\" height=\"400\" width=\"400\">\n",
    "<h3><center>All are chairs, none with 4 legs. (Pic Credit: Zoya Bylinskii)</center></h3>"
   ]
  },
  {
   "cell_type": "markdown",
   "metadata": {},
   "source": [
    "## How about some surface that we sit on then?"
   ]
  },
  {
   "cell_type": "markdown",
   "metadata": {},
   "source": [
    "<img src=\"files/chair2.png\" height=\"400\" width=\"400\">\n",
    "<h3><center>All are surfaces we sit on, none are chairs. (Pic Credit: Zoya Bylinskii)</center></h3>"
   ]
  },
  {
   "cell_type": "markdown",
   "metadata": {},
   "source": [
    "Clearly, these definitions won't work and we need something more complicated. Sadly, we can't come up with a simple text rule that our computer can search for! And we take a more principled approach."
   ]
  },
  {
   "cell_type": "markdown",
   "metadata": {},
   "source": [
    "The \"Deep\" in the deep learning comes from the fact that it was conventionally applied to Neural Networks. Neural Networks, as we all know, are structures organized in layers. Layers of computations. Why do we need layers? Because these layers can be seen as sub-tasks that we do in the complicated task of identifying a chair. It can be thought as a heirarchical break down of a complicated job into smalled sub-tasks. \n",
    "\n",
    "Mathematically, each layer acts like a space transformation which takes the pixel values to a high dimensional space. When we start out, every pixel in the image is given equal importance in our matrix. With each layer, convolution operations give some parts more importance, and some lesser importance. In doing so, we transform our images to a space in which similar looking objects/object parts are closer (We are basically learning this space transformation in deep learning, nothing else)\n"
   ]
  },
  {
   "cell_type": "markdown",
   "metadata": {},
   "source": [
    "What exactly was learnt by these neural networks is hard to know, and an active area of research. But one very crude way to visualize what it does is to think like - It starts by learning very generic features in the first layer. Something as simple as vertical and horizontal lines. In the next layer, it learns that if you combine the vectors representing vertical and horizontal vectors in different ratios, you can make all possible slanted lines. Next layer learns to combine lines to form curves - Say, something like the outline of a face. These curves come together to form 3D objects. And so on. Building sub-modules, combining them in the right way which can give it semantics."
   ]
  },
  {
   "cell_type": "markdown",
   "metadata": {},
   "source": [
    "**So, in a nutshell, the first few layers of a \"Deep\" network learn the right representation of the data, given the problem (which is mathematically described by your objective function trying to minimize difference between ground truth and predicted labels). The last layer simply looks how close or far apart things are in this high dimensional space.**"
   ]
  },
  {
   "cell_type": "markdown",
   "metadata": {},
   "source": [
    "Hence, we can give any kind of data a high dimensional representation using neural networks. Below we will see high dimensional representations of both words in overviews (text) and posters (image). Let's get started with the posters i.e. extracting visual features from posters using deep learning."
   ]
  },
  {
   "cell_type": "markdown",
   "metadata": {},
   "source": [
    "# Section 7 - Deep Learning for predicting genre from poster\n",
    "\n",
    "Once again, we must make an implementation decision. This time, it has more to do with how much time are we willing to spend in return for added accuracy. We are going to use here a technique that is commonly referred to as Pre-Training in Machine Learning Literature. \n",
    "\n",
    "Instead of me trying to re-invent the wheel here, I am going to borrow this short section on pre-training from Stanford University's lecture on <a href='http://cs231n.github.io/transfer-learning/'> CNN's</a>. To quote - \n",
    "\n",
    "''In practice, very few people train an entire Convolutional Network from scratch (with random initialization), because it is relatively rare to have a dataset of sufficient size. Instead, it is common to pretrain a ConvNet on a very large dataset (e.g. ImageNet, which contains 1.2 million images with 1000 categories), and then use the ConvNet either as an initialization or a fixed feature extractor for the task of interest. ''\n",
    "\n",
    "There are three broad ways in which transfer learning or pre-training can be done. (The 2 concepts are different and to understand the difference clearly, I suggest you read the linked lecture thoroughly). The way we are going to about it is by using a pre-trained, released ConvNet as feature extractor. Take a ConvNet pretrained on ImageNet (a popular object detection dataset), remove the last fully-connected layer. After removing the last layer, what we have is just another neural network i.e. a stack of space tranformations. But, originally the output of this stack can be pumped into a single layer which can classify the image into categories like Car, Dog, Cat and so on.\n",
    "\n",
    "What this means, is that in the space this stack transforms the images to, all images which contain a \"dog\" are closer to each other, and all images containing a \"cat\" are closer. Thus, it is a meaningful space where images with similar objects are closer. \n",
    "\n",
    "Think about it, now if we pump our posters through this stack, it will embed them in a space where posters which contain similar objects are closer. This is a very meaningful feature engineering method! While this may not be ideal for genre prediction, it might be quite meaningful. For example, all posters with a gun or a car are probably action. While a smiling couple would point to romance or drama. The alternative would be to train the CNN from scratch which is fairly computationally intensive and involves a lot of tricks to get the CNN training to converge to the optimal space tranformation.\n",
    "\n",
    "This way, we can start off with something strong, and then build on top. We pump our images through the pre-trained network to extract the visual features from the posters. Then, using these features as descriptors for the image, and genres as the labels, we train a simpler neural network from scratch which learns to do simply classification on this dataset. These 2 steps are exactly what we are going to do for predicting genres from movie posters."
   ]
  },
  {
   "cell_type": "markdown",
   "metadata": {},
   "source": [
    "## Deep Learning to extract visual features from posters"
   ]
  },
  {
   "cell_type": "markdown",
   "metadata": {},
   "source": [
    "The basic problem here we are answering is that can we use the posters to predict genre. First check - Does this hypothesis make sense? Yes. Because that's what graphic designers do for a living. They leave visual cues to semantics. They make sure that when we look at the poster of a horror movie, we know it's not a happy image. Things like that. Can our deep learning system infer such subtleties? Let's find out!"
   ]
  },
  {
   "cell_type": "markdown",
   "metadata": {},
   "source": [
    "For Visual features, either we can train a deep neural network ourselves from scratch, or we can use a pre-trained one made available to us from the Visual Geometry Group at Oxford University, one of the most popular methods. This is called the VGG-net. Or as they call it, we will extract the VGG features of an image. Mathematically, as mentioned, it's just a space transformation in the form of layers. So, we simply need to perform this chain of transformations on our image, right? We will be using Pytorch in this notebook. OTher alternatives are Keras and Tensorflow.\n",
    "\n",
    "\n",
    "We will be working with Keras to keep things simple in code, so that we can spend more time understanding and less time coding. Some common ways people refer to this step are - \"Getting the VGG features of an image\", or \"Forward Propogating the image through VGG and chopping off the last layer\". In keras, this is as easy as writing 4 lines. "
   ]
  },
  {
   "cell_type": "code",
   "execution_count": 73,
   "metadata": {},
   "outputs": [],
   "source": [
    "# Loading the list of movies we had downloaded posters for eariler - \n",
    "f=open('poster_movies.pckl','r')\n",
    "poster_movies=pickle.load(f)\n",
    "f.close()"
   ]
  },
  {
   "cell_type": "code",
   "execution_count": 74,
   "metadata": {},
   "outputs": [],
   "source": [
    "import torchvision\n",
    "import torchvision.models as models\n",
    "import torch.nn as nn\n",
    "import numpy as np\n",
    "from torch.autograd import Variable\n",
    "import torchvision.transforms as transforms\n",
    "import pickle\n",
    "vgg16 = models.vgg16(pretrained=True)\n",
    "new_model = nn.Sequential(*list(vgg16.children())[:-1])\n",
    "model = nn.Sequential(*list(new_model.children())[:-2])\n"
   ]
  },
  {
   "cell_type": "code",
   "execution_count": 75,
   "metadata": {},
   "outputs": [
    {
     "name": "stdout",
     "output_type": "stream",
     "text": [
      "Starting extracting VGG features for scraped images. This will take time, Please be patient...\n",
      "Total images =  1591\n",
      "Working on Image :  1\n",
      "Working on Image :  250\n",
      "Working on Image :  500\n",
      "Working on Image :  750\n",
      "Working on Image :  1000\n",
      "Working on Image :  1250\n",
      "Working on Image :  1500\n",
      "Working on Image :  1750\n",
      "Done with all features, please pickle for future use!\n"
     ]
    }
   ],
   "source": [
    "from PIL import Image\n",
    "\n",
    "allnames=os.listdir(poster_folder)\n",
    "imnames=[j for j in allnames if j.endswith('.jpg')]\n",
    "feature_list=[]\n",
    "genre_list=[]\n",
    "file_order=[]\n",
    "print \"Starting extracting VGG features for scraped images. This will take time, Please be patient...\"\n",
    "print \"Total images = \",len(imnames)\n",
    "failed_files=[]\n",
    "succesful_files=[]\n",
    "i=0\n",
    "\n",
    "for mov in poster_movies:\n",
    "    i+=1\n",
    "    mov_name=mov['original_title']\n",
    "    mov_name1=mov_name.replace(':','/')\n",
    "    poster_name=mov_name.replace(' ','_')+'.jpg'\n",
    "    if poster_name in imnames:\n",
    "        \n",
    "        img_path=poster_folder+poster_name\n",
    "        try:\n",
    "            img = Image.open(img_path)\n",
    "            min_img_size = 224  # The min size, as noted in the PyTorch pretrained models doc, is 224 px.\n",
    "            transform_pipeline = transforms.Compose([transforms.Resize([min_img_size,min_img_size]),\n",
    "                                                     transforms.ToTensor(),\n",
    "                                                     transforms.Normalize(mean=[0.485, 0.456, 0.406],\n",
    "                                                                          std=[0.229, 0.224, 0.225])])\n",
    "            x = transform_pipeline(img)\n",
    "            img.close()\n",
    "            # PyTorch pretrained models expect the Tensor dims to be (num input imgs, num color channels, height, width).\n",
    "            # Currently however, we have (num color channels, height, width); let's fix this by inserting a new axis.\n",
    "#             print len(img)\n",
    "#             print img.shape\n",
    "#             print img\n",
    "#             break\n",
    "            x = x.unsqueeze(0)  # Insert the new axis at index 0 i.e. in front of the other axes/dims. \n",
    "            \n",
    "            \n",
    "            # Now that we have preprocessed our img, we need to convert it into a \n",
    "            # Variable; PyTorch models expect inputs to be Variables. A PyTorch Variable is a  \n",
    "            # wrapper around a PyTorch Tensor.\n",
    "            x = Variable(x)\n",
    "            succesful_files.append(poster_name)\n",
    "            \n",
    "            features = model(x)\n",
    "            #print features.shape\n",
    "            file_order.append(img_path)\n",
    "            feature_list.append(features)\n",
    "            genre_list.append(mov['genre_ids'])\n",
    "            max_prediction = features.data.numpy().argmax()  # Our prediction will be the index of the class label with the largest value.\n",
    "            if max_prediction==0.0:\n",
    "                print('problematic',i)\n",
    "            if i%250==0 or i==1:\n",
    "                print \"Working on Image : \",i\n",
    "        except:\n",
    "            failed_files.append(poster_name)\n",
    "            continue\n",
    "        \n",
    "    else:\n",
    "        continue\n",
    "print \"Done with all features, please pickle for future use!\""
   ]
  },
  {
   "cell_type": "code",
   "execution_count": 76,
   "metadata": {},
   "outputs": [
    {
     "data": {
      "text/plain": [
       "1242"
      ]
     },
     "execution_count": 76,
     "metadata": {},
     "output_type": "execute_result"
    }
   ],
   "source": [
    "len(genre_list)"
   ]
  },
  {
   "cell_type": "code",
   "execution_count": 77,
   "metadata": {},
   "outputs": [
    {
     "data": {
      "text/plain": [
       "1242"
      ]
     },
     "execution_count": 77,
     "metadata": {},
     "output_type": "execute_result"
    }
   ],
   "source": [
    "len(feature_list)"
   ]
  },
  {
   "cell_type": "code",
   "execution_count": null,
   "metadata": {},
   "outputs": [],
   "source": []
  },
  {
   "cell_type": "code",
   "execution_count": 78,
   "metadata": {},
   "outputs": [
    {
     "name": "stdout",
     "output_type": "stream",
     "text": [
      "Features dumped to pickle file\n"
     ]
    }
   ],
   "source": [
    "# Reading from pickle below, this code is not to be run.\n",
    "list_pickled=(feature_list,file_order,failed_files,succesful_files,genre_list)\n",
    "f=open('posters_new_features.pckl','wb')\n",
    "pickle.dump(list_pickled,f)\n",
    "f.close()\n",
    "print(\"Features dumped to pickle file\")"
   ]
  },
  {
   "cell_type": "code",
   "execution_count": 79,
   "metadata": {},
   "outputs": [],
   "source": [
    "f7=open('posters_new_features.pckl','rb')\n",
    "list_pickled=pickle.load(f7)\n",
    "f7.close()\n",
    "# (feature_list2,file_order2)=list_pickled"
   ]
  },
  {
   "cell_type": "markdown",
   "metadata": {},
   "source": [
    "### Training a simple neural network model using these VGG features."
   ]
  },
  {
   "cell_type": "code",
   "execution_count": 80,
   "metadata": {},
   "outputs": [],
   "source": [
    "(feature_list,files,failed,succesful,genre_list)=list_pickled"
   ]
  },
  {
   "cell_type": "markdown",
   "metadata": {},
   "source": [
    "Let's first get the labels on our 1342 samples first! As image download fails on a few instances, the best way to work with the right model is to read the poster names downloaded, and working from there. These posters cannot be uploaded to Github as they are too large, and so are being downloaded and read from my local computer. If you do re-do it, you might have to check and edit the paths in the code to make sure it runs."
   ]
  },
  {
   "cell_type": "code",
   "execution_count": 81,
   "metadata": {},
   "outputs": [],
   "source": [
    "(a,b,c,d)=feature_list[0].shape\n",
    "feature_size=a*b*c*d"
   ]
  },
  {
   "cell_type": "markdown",
   "metadata": {},
   "source": [
    "This looks odd, why are we re-running the loop we ran above again below? The reason is simple, the most important thing to know about numpy is that using vstack() and hstack() are highly sub-optimal. Numpy arrays when created, a fixed size is allocated in the memory and when we stack, a new one is copied and created in a new location. This makes the code really, really slow. The best way to do it (and this remains the same with MATLAB matrices if you work with them), is to create a numpy array of zeros, and over-write it row by row. The above code was just to see what size numpy array we will need!"
   ]
  },
  {
   "cell_type": "markdown",
   "metadata": {},
   "source": [
    "The final movie poster set for which we have all the information we need, is 1265 movies. In the above code we are making an X numpy array containing the visual features of one image per row. So, the VGG features are reshaped to be in the shape (1,25088) and we finally obtain a matrix of shape (1265,25088)"
   ]
  },
  {
   "cell_type": "code",
   "execution_count": 82,
   "metadata": {},
   "outputs": [
    {
     "name": "stdout",
     "output_type": "stream",
     "text": [
      "1242 150528\n"
     ]
    }
   ],
   "source": [
    "np_features=np.zeros((len(feature_list),feature_size))\n",
    "print len(feature_list),feature_size\n",
    "for i in range(len(feature_list)):\n",
    "    feat=feature_list[i]\n",
    "    reshaped_feat=feat.reshape(1,-1)\n",
    "    #print reshaped_feat.shape\n",
    "    np_features[i]=reshaped_feat"
   ]
  },
  {
   "cell_type": "code",
   "execution_count": 83,
   "metadata": {},
   "outputs": [],
   "source": [
    "# np_features[-1]"
   ]
  },
  {
   "cell_type": "code",
   "execution_count": 84,
   "metadata": {},
   "outputs": [],
   "source": [
    "X=np_features"
   ]
  },
  {
   "cell_type": "code",
   "execution_count": 85,
   "metadata": {},
   "outputs": [],
   "source": [
    "from sklearn.preprocessing import MultiLabelBinarizer\n",
    "mlb=MultiLabelBinarizer()\n",
    "Y=mlb.fit_transform(genre_list)"
   ]
  },
  {
   "cell_type": "code",
   "execution_count": 86,
   "metadata": {},
   "outputs": [
    {
     "data": {
      "text/plain": [
       "(1242, 19)"
      ]
     },
     "execution_count": 86,
     "metadata": {},
     "output_type": "execute_result"
    }
   ],
   "source": [
    "Y.shape"
   ]
  },
  {
   "cell_type": "markdown",
   "metadata": {},
   "source": [
    "Our binarized Y numpy array contains the binarized labels corresponding to the genre IDs of the 1277 movies"
   ]
  },
  {
   "cell_type": "code",
   "execution_count": 87,
   "metadata": {},
   "outputs": [],
   "source": [
    "visual_problem_data=(X,Y)\n",
    "f8=open('visual_problem_data_clean.pckl','wb')\n",
    "pickle.dump(visual_problem_data,f8)\n",
    "f8.close()"
   ]
  },
  {
   "cell_type": "code",
   "execution_count": 88,
   "metadata": {},
   "outputs": [],
   "source": [
    "f8=open('visual_problem_data_clean.pckl','rb')\n",
    "visual_features=pickle.load(f8)\n",
    "f8.close()"
   ]
  },
  {
   "cell_type": "code",
   "execution_count": 89,
   "metadata": {},
   "outputs": [],
   "source": [
    "(X,Y)=visual_features"
   ]
  },
  {
   "cell_type": "code",
   "execution_count": 90,
   "metadata": {},
   "outputs": [
    {
     "data": {
      "text/plain": [
       "(1242, 150528)"
      ]
     },
     "execution_count": 90,
     "metadata": {},
     "output_type": "execute_result"
    }
   ],
   "source": [
    "X.shape"
   ]
  },
  {
   "cell_type": "code",
   "execution_count": 91,
   "metadata": {},
   "outputs": [],
   "source": [
    "mask = np.random.rand(len(X)) < 0.8"
   ]
  },
  {
   "cell_type": "code",
   "execution_count": 92,
   "metadata": {},
   "outputs": [
    {
     "data": {
      "text/plain": [
       "array([[-2.10077929, -2.10077929, -2.11790395, ..., -1.80444443,\n",
       "        -1.80444443, -1.80444443],\n",
       "       [-0.85067213, -1.15891778, -1.56991184, ..., -1.54300654,\n",
       "        -1.54300654, -1.54300654],\n",
       "       [-1.72403467, -1.62128615, -1.46716332, ..., -1.43843138,\n",
       "        -1.43843138, -1.43843138],\n",
       "       ...,\n",
       "       [ 1.13579929,  1.17004883,  1.1871736 , ...,  0.14762534,\n",
       "         0.11276696,  0.09533776],\n",
       "       [-2.01515555, -2.01515555, -2.01515555, ..., -1.66501093,\n",
       "        -1.66501093, -1.69986928],\n",
       "       [ 2.21465874,  2.21465874,  2.21465874, ..., -0.95041388,\n",
       "        -0.07895417,  1.73368204]])"
      ]
     },
     "execution_count": 92,
     "metadata": {},
     "output_type": "execute_result"
    }
   ],
   "source": [
    "X_train=X[mask]\n",
    "X_test=X[~mask]\n",
    "Y_train=Y[mask]\n",
    "Y_test=Y[~mask]\n",
    "X_train"
   ]
  },
  {
   "cell_type": "code",
   "execution_count": 132,
   "metadata": {},
   "outputs": [
    {
     "data": {
      "text/plain": [
       "(246, 19)"
      ]
     },
     "execution_count": 132,
     "metadata": {},
     "output_type": "execute_result"
    }
   ],
   "source": [
    "Y_test.shape"
   ]
  },
  {
   "cell_type": "markdown",
   "metadata": {},
   "source": [
    "Now, we create our own keras neural network to use the VGG features and then classify movie genres. Keras makes this super easy. \n",
    "\n",
    "Neural network architectures have gotten complex over the years. But the simplest ones contain very standard computations organized in layers, as described above. Given the popularity of some of these, Keras makes it as easy as writing out the names of these operations in a sequential order. This way you can make a network while completely avoiding the Mathematics (HIGHLY RECOMMENDED SPENDING MORE TIME ON THE MATH THOUGH)"
   ]
  },
  {
   "cell_type": "markdown",
   "metadata": {},
   "source": [
    "Sequential() allows us to make models the follow this sequential order of layers. Different kinds of layers like Dense, Conv2D etc can be used, and many activation functions like RELU, Linear etc are also available."
   ]
  },
  {
   "cell_type": "markdown",
   "metadata": {},
   "source": [
    "# Important Question : Why do we need activation functions?\n",
    "#### Copy pasting the answer I wrote for this question on <a href='https://www.quora.com/Why-do-neural-networks-need-an-activation-function/answer/Spandan-Madan?srid=5ydm'>Quora</a> Feel free to leave comments there.\n",
    "\n",
    "\"\"Sometimes, we tend to get lost in the jargon and confuse things easily, so the best way to go about this is getting back to our basics.\n",
    "\n",
    "Don’t forget what the original premise of machine learning (and thus deep learning) is - IF the input and output are related by a function y=f(x), then if we have x, there is no way to exactly know f unless we know the process itself. However, machine learning gives you the ability to approximate f with a function g, and the process of trying out multiple candidates to identify the function g best approximating f is called machine learning.\n",
    "\n",
    "Ok, that was machine learning, and how is deep learning different? Deep learning simply tries to expand the possible kind of functions that can be approximated using the above mentioned machine learning paradigm. Roughly speaking, if the previous model could learn say 10,000 kinds of functions, now it will be able to learn say 100,000 kinds (in actuality both are infinite spaces but one is larger than the other, because maths is cool that ways.)\n",
    "\n",
    "If you want to know the mathematics of it, go read about VC dimension and how more layers in a network affect it. But I will avoid the mathematics here and rely on your intuition to believe me when I say that not all data can be classified correctly into categories using a linear function. So, we need our deep learning model to be able to approximate more complex functions than just a linear function.\n",
    "\n",
    "Now, let’s come to your non linearity bit. Imagine a linear function y=2x+3, and another one y=4x+7. What happens if I pool them and take an average? I get another linear function y= 3x+5. So instead of doing those two computations separately and then averaging it out, I could have just used the single linear function y=3x+5. Obviously, this logic holds good if I have more than 2 such linear functions. This is exactly what will happen if you don’t have have non-linearities in your nodes, and also what others have written in their answers.\n",
    "\n",
    "It simply follows from the definition of a linear function -\n",
    "\n",
    "(i) If you take two linear functions, AND\n",
    "\n",
    "(ii)Take a linear combination of them (which is how we combine the outputs of multiple nodes of a network)\n",
    "\n",
    "You are BOUND to get a linear function because f(x)+g(x)=mx+b+nx+c=(m+n)x+(b+c)= say h(x).\n",
    "\n",
    "And you could in essence replace your whole network by a simple matrix transformation which accounts for all linear combinations and up/downsamplings.\n",
    "\n",
    "In a nutshell, you’ll only be trying to learn a linear approximation for original function f relating the input and the output. Which as we discussed above, is not always the best approximation. Adding non-linearities ensures that you can learn more complex functions by approximating every non-linear function as a LINEAR combination of a large number of non-linear functions.\n",
    "\n",
    "Still new to the field, so if there’s something wrong here please comment below! Hope it helps\"\""
   ]
  },
  {
   "cell_type": "markdown",
   "metadata": {},
   "source": [
    "#### Let's train our model then, using the features we extracted from VGG net \n",
    "\n",
    "The model we will use has just 1 hidden layer between the VGG features and the final output layer. The simplest neural network you can get. An image goes into this network with the dimensions (1,25088), the first layer's output is 1024 dimensional. This hidden layer output undergoes a pointwise RELU activation. This output gets transformed into the output layer of 20 dimensions. It goes through a sigmoid.\n",
    "\n",
    "The sigmoid, or the squashing function as it is often called, is a function which squashes numbers between 0 and 1. What are you reminded of when you think of numebers between 0 and 1? Right, probability. \n",
    "\n",
    "By squashing the score of each of the 20 output labels between 0 and 1, sigmoid lets us interpret their scores as probabilities. Then, we can just pick the classes with the top 3 or 5 probability scores as the predicted genres for the movie poster! Simple! "
   ]
  },
  {
   "cell_type": "code",
   "execution_count": 94,
   "metadata": {},
   "outputs": [],
   "source": [
    "# Y_train[115]"
   ]
  },
  {
   "cell_type": "code",
   "execution_count": 95,
   "metadata": {},
   "outputs": [
    {
     "name": "stdout",
     "output_type": "stream",
     "text": [
      "[[-2.10077929 -2.10077929 -2.11790395 ... -1.80444443 -1.80444443\n",
      "  -1.80444443]\n",
      " [-0.85067213 -1.15891778 -1.56991184 ... -1.54300654 -1.54300654\n",
      "  -1.54300654]\n",
      " [-1.72403467 -1.62128615 -1.46716332 ... -1.43843138 -1.43843138\n",
      "  -1.43843138]\n",
      " ...\n",
      " [ 1.13579929  1.17004883  1.1871736  ...  0.14762534  0.11276696\n",
      "   0.09533776]\n",
      " [-2.01515555 -2.01515555 -2.01515555 ... -1.66501093 -1.66501093\n",
      "  -1.69986928]\n",
      " [ 2.21465874  2.21465874  2.21465874 ... -0.95041388 -0.07895417\n",
      "   1.73368204]]\n"
     ]
    }
   ],
   "source": [
    "print(X_train)"
   ]
  },
  {
   "cell_type": "code",
   "execution_count": 185,
   "metadata": {},
   "outputs": [
    {
     "name": "stdout",
     "output_type": "stream",
     "text": [
      "{'test': 246, 'train': 996}\n",
      "Epoch 0/0\n",
      "----------\n",
      "TESTING STARTED\n",
      "loss done\n",
      "('Reached iteration ', 0)\n"
     ]
    },
    {
     "name": "stderr",
     "output_type": "stream",
     "text": [
      "/anaconda3/envs/deeplearningproject/lib/python2.7/site-packages/ipykernel_launcher.py:107: UserWarning: invalid index of a 0-dim tensor. This will be an error in PyTorch 0.5. Use tensor.item() to convert a 0-dim tensor to a Python number\n"
     ]
    },
    {
     "name": "stdout",
     "output_type": "stream",
     "text": [
      "loss done\n",
      "loss done\n",
      "loss done\n",
      "trying epoch loss\n",
      "test 246 246\n",
      "test Loss: 0.0007 Acc: 1.0000\n",
      "('new best accuracy = ', 1.0)\n",
      "Training complete in 0m 2s\n",
      "Best val Acc: 1.000000\n",
      "returning and looping back\n"
     ]
    }
   ],
   "source": [
    "\n",
    "import torch\n",
    "import time\n",
    "import copy\n",
    "from __future__ import division\n",
    "data_transforms = {\n",
    "    'train': transforms.Compose([\n",
    "        transforms.RandomSizedCrop(224),\n",
    "        transforms.RandomHorizontalFlip(),\n",
    "        transforms.ToTensor(),\n",
    "        transforms.Normalize([0.485, 0.456, 0.406], [0.229, 0.224, 0.225])\n",
    "    ]),\n",
    "    'val': transforms.Compose([\n",
    "        transforms.Scale(256),\n",
    "        transforms.CenterCrop(224),\n",
    "        transforms.ToTensor(),\n",
    "        transforms.Normalize([0.485, 0.456, 0.406], [0.229, 0.224, 0.225])\n",
    "    ]),\n",
    "}\n",
    "\n",
    "class FeatureDataset():\n",
    "    def __init__(self, X_train, Y_train, transform=None):\n",
    "    \n",
    "        self.X_train = X_train\n",
    "        self.Y_train = Y_train\n",
    "        self.transform = transform\n",
    "\n",
    "    def __len__(self):\n",
    "        return len(self.X_train)\n",
    "\n",
    "    def __getitem__(self, idx):\n",
    "        \n",
    "        #sample = {'image': self.X_train[idx], 'landmarks': self.Y_train[idx]}\n",
    "\n",
    "#         if self.transform:\n",
    "#             sample = self.transform(sample)\n",
    "\n",
    "        return X_train[idx].astype(float), Y_train[idx].astype(float)\n",
    "\n",
    "def train_model(model, criterion, optimizer, num_epochs):\n",
    "    \n",
    "    since = time.time()\n",
    "    USE_TENSORBOARD = 0\n",
    "    best_model = model\n",
    "    best_acc = 0.0\n",
    "    use_gpu = 0\n",
    "    \n",
    "    for epoch in range(num_epochs):\n",
    "        print('Epoch {}/{}'.format(epoch, num_epochs - 1))\n",
    "        print('-' * 10)\n",
    "\n",
    "        # Each epoch has a training and validation phase\n",
    "        for phase in ['test']:\n",
    "            if phase == 'train':\n",
    "                mode='train'\n",
    "                #optimizer = lr_scheduler(optimizer, epoch)\n",
    "                model.train()  # Set model to training mode\n",
    "                print \"TRAINING STARTED\"\n",
    "            else:\n",
    "                model.eval()\n",
    "                mode='val'\n",
    "                print \"TESTING STARTED\"\n",
    "\n",
    "            running_loss = 0.0\n",
    "            running_corrects = 0\n",
    "\n",
    "            counter=0\n",
    "            # Iterate over data.\n",
    "            answer = []\n",
    "            for data in dset_loaders[phase]:\n",
    "                inputs, labels = data \n",
    "                \n",
    "                # wrap them in Variable\n",
    "                if use_gpu:\n",
    "                    try:\n",
    "                        inputs, labels = Variable(inputs.float().cuda()),                             \n",
    "                        Variable(labels.long().cuda())\n",
    "                    except:\n",
    "                        print(inputs,labels)\n",
    "                else:\n",
    "                    inputs, labels = Variable(Variable(inputs).float()), Variable(Variable(labels).float())\n",
    "\n",
    "                # Set gradient to zero to delete history of computations in previous epoch. Track operations so that differentiation can be done automatically.\n",
    "                optimizer.zero_grad()\n",
    "                outputs = model(inputs)\n",
    "                for i in range(len(outputs.data)):\n",
    "                    answer.append(outputs.data[i])\n",
    "                _, preds = torch.max(outputs.data, 1)\n",
    "                #print outputs.data\n",
    "                #print _, preds\n",
    "                loss = criterion(outputs, labels)\n",
    "                print('loss done')                \n",
    "                # Just so that you can keep track that something's happening and don't feel like the program isn't running.\n",
    "                if counter%50==0:\n",
    "                    print(\"Reached iteration \",counter)\n",
    "                counter+=1\n",
    "\n",
    "                # backward + optimize only if in training phase\n",
    "                if phase == 'train':\n",
    "                    print('loss backward')\n",
    "                    loss.backward()\n",
    "                    print('done loss backward')\n",
    "                    optimizer.step()\n",
    "                    print('done optim')\n",
    "                # print evaluation statistics\n",
    "                try:\n",
    "                    running_loss += loss.data[0]\n",
    "\n",
    "                    #print preds.shape, labels.data.shape\n",
    "                    for q in range(len(labels.data)):\n",
    "                        if labels.data[q][preds[q]]==1:\n",
    "                            running_corrects += 1\n",
    "\n",
    "                    #running_corrects += torch.sum(preds == labels.data.long())\n",
    "                except:\n",
    "                    print('unexpected error, could not calculate loss or do a sum.')\n",
    "            print('trying epoch loss')\n",
    "            epoch_loss = running_loss / dset_sizes[phase]\n",
    "            epoch_acc = running_corrects / dset_sizes[phase]\n",
    "            print phase, running_corrects, dset_sizes[phase]\n",
    "            print('{} Loss: {:.4f} Acc: {:.4f}'.format(\n",
    "                phase, epoch_loss, epoch_acc))\n",
    "\n",
    "\n",
    "            # deep copy the model\n",
    "            if phase == 'test':\n",
    "                if USE_TENSORBOARD:\n",
    "                    foo.add_scalar_value('epoch_loss',epoch_loss,step=epoch)\n",
    "                    foo.add_scalar_value('epoch_acc',epoch_acc,step=epoch)\n",
    "                if epoch_acc > best_acc:\n",
    "                    best_acc = epoch_acc\n",
    "                    best_model = copy.deepcopy(model)\n",
    "                    print('new best accuracy = ',best_acc)\n",
    "    time_elapsed = time.time() - since\n",
    "    print('Training complete in {:.0f}m {:.0f}s'.format(\n",
    "        time_elapsed // 60, time_elapsed % 60))\n",
    "    print('Best val Acc: {:4f}'.format(best_acc))\n",
    "    print('returning and looping back')\n",
    "    torch.save(best_model.state_dict(), 'fine_tuned_best_model.pt')\n",
    "    return best_model, answer\n",
    "\n",
    "\n",
    "dsets = {}\n",
    "dsets['train'] = FeatureDataset(X_train, Y_train)\n",
    "dsets['test'] = FeatureDataset(X_test, Y_test)\n",
    "dset_loaders = {x: torch.utils.data.DataLoader(dsets[x], batch_size=64,\n",
    "                                               shuffle=True, num_workers=25)\n",
    "                for x in ['train', 'test']}\n",
    "\n",
    "dset_sizes = {x: len(dsets[x]) for x in ['train', 'test']}\n",
    "print dset_sizes\n",
    "model_visual = nn.Sequential(\n",
    "    nn.Linear(150528,1024),\n",
    "    nn.ReLU(),\n",
    "    nn.Linear(1024,256),\n",
    "    nn.ReLU(),\n",
    "    nn.Linear(256,19),\n",
    "    nn.Sigmoid()\n",
    ")\n",
    "# #opt = optimizers.rmsprop(lr=0.0001, decay=1e-6)\n",
    "optimizer = torch.optim.RMSprop(model_visual.parameters(), lr=0.0001, weight_decay=1e-6)\n",
    "criterion = nn.BCELoss()\n",
    "\n",
    "model_visual.load_state_dict(torch.load('fine_tuned_best_model.pt'))\n",
    "model_ft, Y_preds = train_model(model_visual, criterion, optimizer, num_epochs=1)\n",
    "\n",
    "# Save model\n",
    "torch.save(model_ft.state_dict(), 'fine_tuned_best_model.pt')\n",
    "#model_ft.save_state_dict('fine_tuned_best_model.pt')\n",
    "# #sgd = optimizers.SGD(lr=0.05, decay=1e-6, momentum=0.4, nesterov=False)\n",
    "# model_visual.compile(optimizer=opt,\n",
    "#               loss='binary_crossentropy',\n",
    "#               metrics=['accuracy'])\n"
   ]
  },
  {
   "cell_type": "markdown",
   "metadata": {},
   "source": [
    "We train the model using the fit() function. The parameters it takes are - training features and training labels, epochs, batch_size and verbose. \n",
    "\n",
    "Simplest one - verbose. 0=\"dont print anything as you work\", 1=\"Inform me as you go\". \n",
    "\n",
    "Often the data set is too large to be loaded into the RAM. So, we load data in batches. For batch_size=32 and epochs=10, the model starts loading rows from X in batches of 32 everytime it calculates the loss and updates the model. It keeps on going till it has covered all the samples 10 times. \n",
    "\n",
    "So, the no. of times model is updated = (Total Samples/Batch Size) * (Epochs)"
   ]
  },
  {
   "cell_type": "code",
   "execution_count": 186,
   "metadata": {},
   "outputs": [
    {
     "ename": "AttributeError",
     "evalue": "'Sequential' object has no attribute 'fit'",
     "output_type": "error",
     "traceback": [
      "\u001b[0;31m---------------------------------------------------------------------------\u001b[0m",
      "\u001b[0;31mAttributeError\u001b[0m                            Traceback (most recent call last)",
      "\u001b[0;32m<ipython-input-186-111d465e2687>\u001b[0m in \u001b[0;36m<module>\u001b[0;34m()\u001b[0m\n\u001b[0;32m----> 1\u001b[0;31m \u001b[0mmodel_visual\u001b[0m\u001b[0;34m.\u001b[0m\u001b[0mfit\u001b[0m\u001b[0;34m(\u001b[0m\u001b[0mX_train\u001b[0m\u001b[0;34m,\u001b[0m \u001b[0mY_train\u001b[0m\u001b[0;34m,\u001b[0m \u001b[0mepochs\u001b[0m\u001b[0;34m=\u001b[0m\u001b[0;36m10\u001b[0m\u001b[0;34m,\u001b[0m \u001b[0mbatch_size\u001b[0m\u001b[0;34m=\u001b[0m\u001b[0;36m64\u001b[0m\u001b[0;34m,\u001b[0m\u001b[0mverbose\u001b[0m\u001b[0;34m=\u001b[0m\u001b[0;36m1\u001b[0m\u001b[0;34m)\u001b[0m\u001b[0;34m\u001b[0m\u001b[0m\n\u001b[0m",
      "\u001b[0;32m/anaconda3/envs/deeplearningproject/lib/python2.7/site-packages/torch/nn/modules/module.pyc\u001b[0m in \u001b[0;36m__getattr__\u001b[0;34m(self, name)\u001b[0m\n\u001b[1;32m    516\u001b[0m                 \u001b[0;32mreturn\u001b[0m \u001b[0mmodules\u001b[0m\u001b[0;34m[\u001b[0m\u001b[0mname\u001b[0m\u001b[0;34m]\u001b[0m\u001b[0;34m\u001b[0m\u001b[0m\n\u001b[1;32m    517\u001b[0m         raise AttributeError(\"'{}' object has no attribute '{}'\".format(\n\u001b[0;32m--> 518\u001b[0;31m             type(self).__name__, name))\n\u001b[0m\u001b[1;32m    519\u001b[0m \u001b[0;34m\u001b[0m\u001b[0m\n\u001b[1;32m    520\u001b[0m     \u001b[0;32mdef\u001b[0m \u001b[0m__setattr__\u001b[0m\u001b[0;34m(\u001b[0m\u001b[0mself\u001b[0m\u001b[0;34m,\u001b[0m \u001b[0mname\u001b[0m\u001b[0;34m,\u001b[0m \u001b[0mvalue\u001b[0m\u001b[0;34m)\u001b[0m\u001b[0;34m:\u001b[0m\u001b[0;34m\u001b[0m\u001b[0m\n",
      "\u001b[0;31mAttributeError\u001b[0m: 'Sequential' object has no attribute 'fit'"
     ]
    }
   ],
   "source": [
    "model_visual.fit(X_train, Y_train, epochs=10, batch_size=64,verbose=1)"
   ]
  },
  {
   "cell_type": "code",
   "execution_count": null,
   "metadata": {},
   "outputs": [],
   "source": [
    "model_visual.fit(X_train, Y_train, epochs=50, batch_size=64,verbose=0)"
   ]
  },
  {
   "cell_type": "markdown",
   "metadata": {},
   "source": [
    "For the first 10 epochs I trained the model in a verbose fashion to show you what's happening. After that, in the below cell you can see I turned off the verbosity to keep the code cleaner. "
   ]
  },
  {
   "cell_type": "code",
   "execution_count": null,
   "metadata": {},
   "outputs": [],
   "source": [
    "Y_preds=model_visual.predict(X_test)"
   ]
  },
  {
   "cell_type": "code",
   "execution_count": 187,
   "metadata": {},
   "outputs": [
    {
     "data": {
      "text/plain": [
       "tensor(855.4000)"
      ]
     },
     "execution_count": 187,
     "metadata": {},
     "output_type": "execute_result"
    }
   ],
   "source": [
    "sum(sum(Y_preds))"
   ]
  },
  {
   "cell_type": "markdown",
   "metadata": {},
   "source": [
    "### Let's look at some of our predictions? "
   ]
  },
  {
   "cell_type": "code",
   "execution_count": 188,
   "metadata": {},
   "outputs": [],
   "source": [
    "f6=open('Genredict.pckl','rb')\n",
    "Genre_ID_to_name=pickle.load(f6)\n",
    "f6.close()"
   ]
  },
  {
   "cell_type": "code",
   "execution_count": 189,
   "metadata": {},
   "outputs": [
    {
     "data": {
      "text/plain": [
       "tensor(3.2567)"
      ]
     },
     "execution_count": 189,
     "metadata": {},
     "output_type": "execute_result"
    }
   ],
   "source": [
    "sum(Y_preds[1])"
   ]
  },
  {
   "cell_type": "code",
   "execution_count": 190,
   "metadata": {},
   "outputs": [
    {
     "data": {
      "text/plain": [
       "tensor(2.3705)"
      ]
     },
     "execution_count": 190,
     "metadata": {},
     "output_type": "execute_result"
    }
   ],
   "source": [
    "sum(Y_preds[2])"
   ]
  },
  {
   "cell_type": "code",
   "execution_count": 191,
   "metadata": {},
   "outputs": [],
   "source": [
    "genre_list=sorted(list(Genre_ID_to_name.keys()))"
   ]
  },
  {
   "cell_type": "code",
   "execution_count": 192,
   "metadata": {},
   "outputs": [
    {
     "name": "stdout",
     "output_type": "stream",
     "text": [
      "<type 'list'>\n",
      "Predicted:  Animation,Adventure,Fantasy  Actual:  Adventure,Fantasy,Family\n",
      "Predicted:  Drama,Adventure,Science Fiction  Actual:  Drama\n",
      "Predicted:  Horror,Comedy,Animation  Actual:  Drama,Comedy\n",
      "Predicted:  Science Fiction,Family,Animation  Actual:  Documentary,Family\n",
      "Predicted:  Fantasy,Animation,Family  Actual:  Music\n"
     ]
    }
   ],
   "source": [
    "precs=[]\n",
    "recs=[]\n",
    "print type(Y_preds)\n",
    "for i in range(len(Y_preds)):\n",
    "    row=Y_preds[i]\n",
    "    gt_genres=Y_test[i]\n",
    "    gt_genre_names=[]\n",
    "    for j in range(19):\n",
    "        if gt_genres[j]==1:\n",
    "            gt_genre_names.append(Genre_ID_to_name[genre_list[j]])\n",
    "    top_3=np.argsort(row)[-3:]\n",
    "    predicted_genres=[]\n",
    "    for genre in top_3:\n",
    "        predicted_genres.append(Genre_ID_to_name[genre_list[genre]])\n",
    "    (precision,recall)=precision_recall(gt_genre_names,predicted_genres)\n",
    "    precs.append(precision)\n",
    "    recs.append(recall)\n",
    "    if i%50==0:\n",
    "        print \"Predicted: \",','.join(predicted_genres),\" Actual: \",','.join(gt_genre_names)"
   ]
  },
  {
   "cell_type": "code",
   "execution_count": 193,
   "metadata": {},
   "outputs": [
    {
     "name": "stdout",
     "output_type": "stream",
     "text": [
      "0.22357723577235772 0.20724932249322495\n"
     ]
    }
   ],
   "source": [
    "print np.mean(np.asarray(precs)),np.mean(np.asarray(recs))"
   ]
  },
  {
   "cell_type": "markdown",
   "metadata": {},
   "source": [
    "So, even with just the poster i.e. visual features we are able to make great predictions! Sure, text outperforms the visual features, but the important thing is that it still works. In more complicated models, we can combine the two to make even better predictions. That is precisely what I work on in my research."
   ]
  },
  {
   "cell_type": "markdown",
   "metadata": {},
   "source": [
    "These models were trained on CPU's, and a simple 1 layer model was used to show that there is a lot of information in this data that the models can extract. With a larger dataset, and more training I was able to bring these numbers to as high as 70%, which is the similar to textual features. Some teams in my class outperformed this even more. More data is the first thing you should try if you want better results. Then, you can start playing with training on GPUs, learning rate schedules and other hyperparameters. Finally, you can consider using ResNet, a much more powerful neural network model than VGG. All of these can be tried once you have a working knowledge of machine learning."
   ]
  },
  {
   "cell_type": "markdown",
   "metadata": {},
   "source": [
    "# Section 8 - Deep Learning to get Textual Features"
   ]
  },
  {
   "cell_type": "markdown",
   "metadata": {},
   "source": [
    "Let's do the same thing as above with text now?"
   ]
  },
  {
   "cell_type": "markdown",
   "metadata": {},
   "source": [
    "We will use an off the shelf representation for words - Word2Vec model. Just like VGGnet before, this is a model made available to get a meaningful representation. As the total number of words is small, we don't even need to forward propagate our sample through a network. Even that has been done for us, and the result is stored in the form of a dictionary. We can simply look up the word in the dictionary and get the Word2Vec features for the word."
   ]
  },
  {
   "cell_type": "markdown",
   "metadata": {},
   "source": [
    "You can download the dictionary from here - https://drive.google.com/file/d/0B7XkCwpI5KDYNlNUTTlSS21pQmM/edit <br>\n",
    "Download it to the directory of this tutorial i.e. in the same folder as this ipython notebook.\n"
   ]
  },
  {
   "cell_type": "code",
   "execution_count": 196,
   "metadata": {},
   "outputs": [],
   "source": [
    "from gensim import models\n",
    "# model2 = models.Word2Vec.load_word2vec_format('GoogleNews-vectors-negative300.bin', binary=True) \n",
    "model2 = models.KeyedVectors.load_word2vec_format('GoogleNews-vectors-negative300.bin', binary=True)"
   ]
  },
  {
   "cell_type": "markdown",
   "metadata": {},
   "source": [
    "Now, we can simply look up for a word in the above loaded model. For example, to get the Word2Vec representation of the word \"King\" we just do - model2['king']"
   ]
  },
  {
   "cell_type": "code",
   "execution_count": 197,
   "metadata": {},
   "outputs": [
    {
     "name": "stdout",
     "output_type": "stream",
     "text": [
      "(300,)\n",
      "(300,)\n"
     ]
    }
   ],
   "source": [
    "print model2['king'].shape\n",
    "print model2['dog'].shape"
   ]
  },
  {
   "cell_type": "markdown",
   "metadata": {},
   "source": [
    "This way, we can represent the words in our overviews using this word2vec model. And then, we can use that as our X representations. So, instead of count of words, we are using a representation which is based on the semantic representation of the word. Mathematically, each word went from 3-4 dimensional (the length) to 300 dimensions!"
   ]
  },
  {
   "cell_type": "markdown",
   "metadata": {
    "collapsed": true
   },
   "source": [
    "For the same set of movies above, let's try and predict the genres from the deep representation of their overviews!"
   ]
  },
  {
   "cell_type": "code",
   "execution_count": 200,
   "metadata": {},
   "outputs": [
    {
     "data": {
      "text/plain": [
       "1668"
      ]
     },
     "execution_count": 200,
     "metadata": {},
     "output_type": "execute_result"
    }
   ],
   "source": [
    "final_movies_set = movies_with_overviews\n",
    "len(final_movies_set)"
   ]
  },
  {
   "cell_type": "code",
   "execution_count": 201,
   "metadata": {},
   "outputs": [
    {
     "name": "stderr",
     "output_type": "stream",
     "text": [
      "/anaconda3/envs/deeplearningproject/lib/python2.7/site-packages/scipy/io/matlab/mio4.py:18: RuntimeWarning: numpy.dtype size changed, may indicate binary incompatibility. Expected 96, got 88\n",
      "  from .mio_utils import squeeze_element, chars_to_strings\n",
      "/anaconda3/envs/deeplearningproject/lib/python2.7/site-packages/scipy/io/matlab/mio5.py:98: RuntimeWarning: numpy.dtype size changed, may indicate binary incompatibility. Expected 96, got 88\n",
      "  from .mio5_utils import VarReader5\n",
      "/anaconda3/envs/deeplearningproject/lib/python2.7/site-packages/sklearn/datasets/svmlight_format.py:25: RuntimeWarning: numpy.dtype size changed, may indicate binary incompatibility. Expected 96, got 88\n",
      "  from ._svmlight_format import _load_svmlight_file\n",
      "/anaconda3/envs/deeplearningproject/lib/python2.7/site-packages/sklearn/datasets/svmlight_format.py:25: RuntimeWarning: numpy.ufunc size changed, may indicate binary incompatibility. Expected 192, got 176\n",
      "  from ._svmlight_format import _load_svmlight_file\n"
     ]
    }
   ],
   "source": [
    "from nltk.tokenize import RegexpTokenizer\n",
    "from stop_words import get_stop_words\n",
    "tokenizer = RegexpTokenizer(r'\\w+')\n",
    "\n",
    "# create English stop words list\n",
    "en_stop = get_stop_words('en')"
   ]
  },
  {
   "cell_type": "code",
   "execution_count": 202,
   "metadata": {},
   "outputs": [
    {
     "data": {
      "text/plain": [
       "(1668, 300)"
      ]
     },
     "execution_count": 202,
     "metadata": {},
     "output_type": "execute_result"
    }
   ],
   "source": [
    "movie_mean_wordvec=np.zeros((len(final_movies_set),300))\n",
    "movie_mean_wordvec.shape"
   ]
  },
  {
   "cell_type": "markdown",
   "metadata": {},
   "source": [
    "Text needs some pre-processing before we can train the model. The only preprocessing we do here is - we delete commonly occurring words which we know are not informative about the genre. Think of it as the clutter in some sense. These words are often removed and are referred to as \"stop words\". You can look them up online. These include simple words like \"a\", \"and\", \"but\", \"how\", \"or\" and so on. They can be easily removed using the python package NLTK.\n",
    "\n",
    "From the above dataset, movies with overviews which contain only stop words, or movies with overviews containing no words with word2vec representation are neglected. Others are used to build our Mean word2vec representation. Simply, put for every movie overview - \n",
    "\n",
    "* Take movie overview\n",
    "* Throw out stop words\n",
    "* For non stop words:\n",
    "    - If in word2vec - take it's word2vec representation which is 300 dimensional\n",
    "    - If not - throw word\n",
    "* For each movie, calculate the arithmetic mean of the 300 dimensional vector representations for all words in the overview which weren't thrown out\n",
    "\n",
    "This mean becomes the 300 dimensional representation for the movie. For all movies, these are stored in a numpy array. So the X matrix becomes (1263,300). And, Y is (1263,20) i.e. binarized 20 genres, as before"
   ]
  },
  {
   "cell_type": "markdown",
   "metadata": {},
   "source": [
    "**Why do we take the arithmetic mean?**\n",
    "If you feel that we should have kept all the words separately - Then you're thinking correct, but sadly we're limited by the way current day neural networks work. I will not mull over this for the fear of stressing too much on an otherwise irrelevant detail. But if you're interested, read this awesome paper - \n",
    "https://jiajunwu.com/papers/dmil_cvpr.pdf"
   ]
  },
  {
   "cell_type": "code",
   "execution_count": 203,
   "metadata": {},
   "outputs": [],
   "source": [
    "genres=[]\n",
    "rows_to_delete=[]\n",
    "for i in range(len(final_movies_set)):\n",
    "    mov=final_movies_set[i]\n",
    "    movie_genres=mov['genre_ids']\n",
    "    genres.append(movie_genres)\n",
    "    overview=mov['overview']\n",
    "    tokens = tokenizer.tokenize(overview)\n",
    "    stopped_tokens = [k for k in tokens if not k in en_stop]\n",
    "    count_in_vocab=0\n",
    "    s=0\n",
    "    if len(stopped_tokens)==0:\n",
    "        rows_to_delete.append(i)\n",
    "        genres.pop(-1)\n",
    "#         print overview\n",
    "#         print \"sample \",i,\"had no nonstops\"\n",
    "    else:\n",
    "        for tok in stopped_tokens:\n",
    "            if tok.lower() in model2.vocab:\n",
    "                count_in_vocab+=1\n",
    "                s+=model2[tok.lower()]\n",
    "        if count_in_vocab!=0:\n",
    "            movie_mean_wordvec[i]=s/float(count_in_vocab)\n",
    "        else:\n",
    "            rows_to_delete.append(i)\n",
    "            genres.pop(-1)\n",
    "#             print overview\n",
    "#             print \"sample \",i,\"had no word2vec\""
   ]
  },
  {
   "cell_type": "code",
   "execution_count": 204,
   "metadata": {},
   "outputs": [
    {
     "data": {
      "text/plain": [
       "1668"
      ]
     },
     "execution_count": 204,
     "metadata": {},
     "output_type": "execute_result"
    }
   ],
   "source": [
    "len(genres)"
   ]
  },
  {
   "cell_type": "code",
   "execution_count": null,
   "metadata": {},
   "outputs": [],
   "source": []
  },
  {
   "cell_type": "code",
   "execution_count": 205,
   "metadata": {},
   "outputs": [],
   "source": [
    "mask2=[]\n",
    "for row in range(len(movie_mean_wordvec)):\n",
    "    if row in rows_to_delete:\n",
    "        mask2.append(False)\n",
    "    else:\n",
    "        mask2.append(True)"
   ]
  },
  {
   "cell_type": "code",
   "execution_count": 206,
   "metadata": {},
   "outputs": [],
   "source": [
    "X=movie_mean_wordvec[mask2]"
   ]
  },
  {
   "cell_type": "code",
   "execution_count": 207,
   "metadata": {},
   "outputs": [
    {
     "data": {
      "text/plain": [
       "(1668, 300)"
      ]
     },
     "execution_count": 207,
     "metadata": {},
     "output_type": "execute_result"
    }
   ],
   "source": [
    "X.shape"
   ]
  },
  {
   "cell_type": "code",
   "execution_count": 208,
   "metadata": {},
   "outputs": [],
   "source": [
    "Y=mlb.fit_transform(genres)"
   ]
  },
  {
   "cell_type": "code",
   "execution_count": 209,
   "metadata": {},
   "outputs": [
    {
     "data": {
      "text/plain": [
       "(1668, 19)"
      ]
     },
     "execution_count": 209,
     "metadata": {},
     "output_type": "execute_result"
    }
   ],
   "source": [
    "Y.shape"
   ]
  },
  {
   "cell_type": "code",
   "execution_count": 210,
   "metadata": {},
   "outputs": [],
   "source": [
    "textual_features=(X,Y)\n",
    "f9=open('textual_features.pckl','wb')\n",
    "pickle.dump(textual_features,f9)\n",
    "f9.close()"
   ]
  },
  {
   "cell_type": "code",
   "execution_count": 211,
   "metadata": {},
   "outputs": [],
   "source": [
    "# textual_features=(X,Y)\n",
    "f9=open('textual_features.pckl','rb')\n",
    "textual_features=pickle.load(f9)\n",
    "f9.close()"
   ]
  },
  {
   "cell_type": "code",
   "execution_count": 212,
   "metadata": {},
   "outputs": [],
   "source": [
    "(X,Y)=textual_features"
   ]
  },
  {
   "cell_type": "code",
   "execution_count": 213,
   "metadata": {},
   "outputs": [
    {
     "data": {
      "text/plain": [
       "(1668, 300)"
      ]
     },
     "execution_count": 213,
     "metadata": {},
     "output_type": "execute_result"
    }
   ],
   "source": [
    "X.shape"
   ]
  },
  {
   "cell_type": "code",
   "execution_count": 214,
   "metadata": {},
   "outputs": [
    {
     "data": {
      "text/plain": [
       "(1668, 19)"
      ]
     },
     "execution_count": 214,
     "metadata": {},
     "output_type": "execute_result"
    }
   ],
   "source": [
    "Y.shape"
   ]
  },
  {
   "cell_type": "code",
   "execution_count": 215,
   "metadata": {},
   "outputs": [],
   "source": [
    "mask_text=np.random.rand(len(X))<0.8"
   ]
  },
  {
   "cell_type": "code",
   "execution_count": 216,
   "metadata": {},
   "outputs": [],
   "source": [
    "X_train=X[mask_text]\n",
    "Y_train=Y[mask_text]\n",
    "X_test=X[~mask_text]\n",
    "Y_test=Y[~mask_text]"
   ]
  },
  {
   "cell_type": "markdown",
   "metadata": {},
   "source": [
    "Once again, we use a very similar, super simple architecture as before."
   ]
  },
  {
   "cell_type": "code",
   "execution_count": null,
   "metadata": {},
   "outputs": [
    {
     "name": "stdout",
     "output_type": "stream",
     "text": [
      "{'test': 339, 'train': 1329}\n",
      "Epoch 0/999\n",
      "----------\n",
      "TRAINING STARTED\n",
      "loss done\n",
      "('Reached iteration ', 0)\n",
      "loss backward\n",
      "done loss backward\n",
      "done optim\n",
      "loss done\n",
      "loss backward\n",
      "done loss backward\n",
      "done optim\n",
      "loss done\n",
      "loss backward\n",
      "done loss backward\n",
      "done optim\n",
      "trying epoch loss\n",
      "train 361 1329\n",
      "train Loss: 0.0012 Acc: 0.2716\n",
      "TESTING STARTED\n"
     ]
    },
    {
     "name": "stderr",
     "output_type": "stream",
     "text": [
      "/anaconda3/envs/deeplearningproject/lib/python2.7/site-packages/ipykernel_launcher.py:68: UserWarning: invalid index of a 0-dim tensor. This will be an error in PyTorch 0.5. Use tensor.item() to convert a 0-dim tensor to a Python number\n"
     ]
    },
    {
     "name": "stdout",
     "output_type": "stream",
     "text": [
      "loss done\n",
      "('Reached iteration ', 0)\n",
      "trying epoch loss\n",
      "test 89 339\n",
      "test Loss: 0.0016 Acc: 0.2625\n",
      "('new best accuracy = ', 0.26253687315634217)\n",
      "Epoch 1/999\n",
      "----------\n",
      "TRAINING STARTED\n",
      "loss done\n",
      "('Reached iteration ', 0)\n",
      "loss backward\n",
      "done loss backward\n",
      "done optim\n",
      "loss done\n",
      "loss backward\n",
      "done loss backward\n",
      "done optim\n",
      "loss done\n",
      "loss backward\n",
      "done loss backward\n",
      "done optim\n",
      "trying epoch loss\n",
      "train 361 1329\n",
      "train Loss: 0.0012 Acc: 0.2716\n",
      "TESTING STARTED\n",
      "loss done\n",
      "('Reached iteration ', 0)\n",
      "trying epoch loss\n",
      "test 89 339\n",
      "test Loss: 0.0016 Acc: 0.2625\n",
      "Epoch 2/999\n",
      "----------\n",
      "TRAINING STARTED\n",
      "loss done\n",
      "('Reached iteration ', 0)\n",
      "loss backward\n",
      "done loss backward\n",
      "done optim\n",
      "loss done\n",
      "loss backward\n",
      "done loss backward\n",
      "done optim\n",
      "loss done\n",
      "loss backward\n",
      "done loss backward\n",
      "done optim\n",
      "trying epoch loss\n",
      "train 361 1329\n",
      "train Loss: 0.0012 Acc: 0.2716\n",
      "TESTING STARTED\n",
      "loss done\n",
      "('Reached iteration ', 0)\n",
      "trying epoch loss\n",
      "test 89 339\n",
      "test Loss: 0.0016 Acc: 0.2625\n",
      "Epoch 3/999\n",
      "----------\n",
      "TRAINING STARTED\n",
      "loss done\n",
      "('Reached iteration ', 0)\n",
      "loss backward\n",
      "done loss backward\n",
      "done optim\n",
      "loss done\n",
      "loss backward\n",
      "done loss backward\n",
      "done optim\n",
      "loss done\n",
      "loss backward\n",
      "done loss backward\n",
      "done optim\n",
      "trying epoch loss\n",
      "train 361 1329\n",
      "train Loss: 0.0011 Acc: 0.2716\n",
      "TESTING STARTED\n",
      "loss done\n",
      "('Reached iteration ', 0)\n",
      "trying epoch loss\n",
      "test 89 339\n",
      "test Loss: 0.0016 Acc: 0.2625\n",
      "Epoch 4/999\n",
      "----------\n",
      "TRAINING STARTED\n",
      "loss done\n",
      "('Reached iteration ', 0)\n",
      "loss backward\n",
      "done loss backward\n",
      "done optim\n",
      "loss done\n",
      "loss backward\n",
      "done loss backward\n",
      "done optim\n",
      "loss done\n",
      "loss backward\n",
      "done loss backward\n",
      "done optim\n",
      "trying epoch loss\n",
      "train 361 1329\n",
      "train Loss: 0.0012 Acc: 0.2716\n",
      "TESTING STARTED\n",
      "loss done\n",
      "('Reached iteration ', 0)\n",
      "trying epoch loss\n",
      "test 89 339\n",
      "test Loss: 0.0016 Acc: 0.2625\n",
      "Epoch 5/999\n",
      "----------\n",
      "TRAINING STARTED\n",
      "loss done\n",
      "('Reached iteration ', 0)\n",
      "loss backward\n",
      "done loss backward\n",
      "done optim\n",
      "loss done\n",
      "loss backward\n",
      "done loss backward\n",
      "done optim\n",
      "loss done\n",
      "loss backward\n",
      "done loss backward\n",
      "done optim\n",
      "trying epoch loss\n",
      "train 361 1329\n",
      "train Loss: 0.0011 Acc: 0.2716\n",
      "TESTING STARTED\n",
      "loss done\n",
      "('Reached iteration ', 0)\n",
      "trying epoch loss\n",
      "test 89 339\n",
      "test Loss: 0.0016 Acc: 0.2625\n",
      "Epoch 6/999\n",
      "----------\n",
      "TRAINING STARTED\n",
      "loss done\n",
      "('Reached iteration ', 0)\n",
      "loss backward\n",
      "done loss backward\n",
      "done optim\n",
      "loss done\n",
      "loss backward\n",
      "done loss backward\n",
      "done optim\n",
      "loss done\n",
      "loss backward\n",
      "done loss backward\n",
      "done optim\n",
      "trying epoch loss\n",
      "train 361 1329\n",
      "train Loss: 0.0012 Acc: 0.2716\n",
      "TESTING STARTED\n",
      "loss done\n",
      "('Reached iteration ', 0)\n",
      "trying epoch loss\n",
      "test 89 339\n",
      "test Loss: 0.0016 Acc: 0.2625\n",
      "Epoch 7/999\n",
      "----------\n",
      "TRAINING STARTED\n",
      "loss done\n",
      "('Reached iteration ', 0)\n",
      "loss backward\n",
      "done loss backward\n",
      "done optim\n",
      "loss done\n",
      "loss backward\n",
      "done loss backward\n",
      "done optim\n",
      "loss done\n",
      "loss backward\n",
      "done loss backward\n",
      "done optim\n",
      "trying epoch loss\n",
      "train 361 1329\n",
      "train Loss: 0.0012 Acc: 0.2716\n",
      "TESTING STARTED\n",
      "loss done\n",
      "('Reached iteration ', 0)\n",
      "trying epoch loss\n",
      "test 89 339\n",
      "test Loss: 0.0016 Acc: 0.2625\n",
      "Epoch 8/999\n",
      "----------\n",
      "TRAINING STARTED\n",
      "loss done\n",
      "('Reached iteration ', 0)\n",
      "loss backward\n",
      "done loss backward\n",
      "done optim\n",
      "loss done\n",
      "loss backward\n",
      "done loss backward\n",
      "done optim\n",
      "loss done\n",
      "loss backward\n",
      "done loss backward\n",
      "done optim\n",
      "trying epoch loss\n",
      "train 361 1329\n",
      "train Loss: 0.0012 Acc: 0.2716\n",
      "TESTING STARTED\n",
      "loss done\n",
      "('Reached iteration ', 0)\n",
      "trying epoch loss\n",
      "test 89 339\n",
      "test Loss: 0.0016 Acc: 0.2625\n",
      "Epoch 9/999\n",
      "----------\n",
      "TRAINING STARTED\n",
      "loss done\n",
      "('Reached iteration ', 0)\n",
      "loss backward\n",
      "done loss backward\n",
      "done optim\n",
      "loss done\n",
      "loss backward\n",
      "done loss backward\n",
      "done optim\n",
      "loss done\n",
      "loss backward\n",
      "done loss backward\n",
      "done optim\n",
      "trying epoch loss\n",
      "train 361 1329\n",
      "train Loss: 0.0012 Acc: 0.2716\n",
      "TESTING STARTED\n",
      "loss done\n",
      "('Reached iteration ', 0)\n",
      "trying epoch loss\n",
      "test 89 339\n",
      "test Loss: 0.0016 Acc: 0.2625\n",
      "Epoch 10/999\n",
      "----------\n",
      "TRAINING STARTED\n",
      "loss done\n",
      "('Reached iteration ', 0)\n",
      "loss backward\n",
      "done loss backward\n",
      "done optim\n",
      "loss done\n",
      "loss backward\n",
      "done loss backward\n",
      "done optim\n",
      "loss done\n",
      "loss backward\n",
      "done loss backward\n",
      "done optim\n",
      "trying epoch loss\n",
      "train 361 1329\n",
      "train Loss: 0.0012 Acc: 0.2716\n",
      "TESTING STARTED\n",
      "loss done\n",
      "('Reached iteration ', 0)\n",
      "trying epoch loss\n",
      "test 89 339\n",
      "test Loss: 0.0016 Acc: 0.2625\n",
      "Epoch 11/999\n",
      "----------\n",
      "TRAINING STARTED\n",
      "loss done\n",
      "('Reached iteration ', 0)\n",
      "loss backward\n",
      "done loss backward\n",
      "done optim\n",
      "loss done\n",
      "loss backward\n",
      "done loss backward\n",
      "done optim\n",
      "loss done\n",
      "loss backward\n",
      "done loss backward\n",
      "done optim\n",
      "trying epoch loss\n",
      "train 361 1329\n",
      "train Loss: 0.0012 Acc: 0.2716\n",
      "TESTING STARTED\n",
      "loss done\n",
      "('Reached iteration ', 0)\n",
      "trying epoch loss\n",
      "test 89 339\n",
      "test Loss: 0.0016 Acc: 0.2625\n",
      "Epoch 12/999\n",
      "----------\n",
      "TRAINING STARTED\n",
      "loss done\n",
      "('Reached iteration ', 0)\n",
      "loss backward\n",
      "done loss backward\n",
      "done optim\n",
      "loss done\n",
      "loss backward\n",
      "done loss backward\n",
      "done optim\n",
      "loss done\n",
      "loss backward\n",
      "done loss backward\n",
      "done optim\n",
      "trying epoch loss\n",
      "train 361 1329\n",
      "train Loss: 0.0012 Acc: 0.2716\n",
      "TESTING STARTED\n",
      "loss done\n",
      "('Reached iteration ', 0)\n",
      "trying epoch loss\n",
      "test 89 339\n",
      "test Loss: 0.0016 Acc: 0.2625\n",
      "Epoch 13/999\n",
      "----------\n",
      "TRAINING STARTED\n",
      "loss done\n",
      "('Reached iteration ', 0)\n",
      "loss backward\n",
      "done loss backward\n",
      "done optim\n",
      "loss done\n",
      "loss backward\n",
      "done loss backward\n",
      "done optim\n",
      "loss done\n",
      "loss backward\n",
      "done loss backward\n",
      "done optim\n",
      "trying epoch loss\n",
      "train 361 1329\n",
      "train Loss: 0.0012 Acc: 0.2716\n",
      "TESTING STARTED\n",
      "loss done\n",
      "('Reached iteration ', 0)\n",
      "trying epoch loss\n",
      "test 89 339\n",
      "test Loss: 0.0016 Acc: 0.2625\n",
      "Epoch 14/999\n",
      "----------\n",
      "TRAINING STARTED\n",
      "loss done\n",
      "('Reached iteration ', 0)\n",
      "loss backward\n",
      "done loss backward\n",
      "done optim\n",
      "loss done\n",
      "loss backward\n",
      "done loss backward\n",
      "done optim\n",
      "loss done\n",
      "loss backward\n",
      "done loss backward\n",
      "done optim\n",
      "trying epoch loss\n",
      "train 361 1329\n",
      "train Loss: 0.0012 Acc: 0.2716\n",
      "TESTING STARTED\n",
      "loss done\n",
      "('Reached iteration ', 0)\n",
      "trying epoch loss\n",
      "test 89 339\n",
      "test Loss: 0.0016 Acc: 0.2625\n",
      "Epoch 15/999\n",
      "----------\n",
      "TRAINING STARTED\n",
      "loss done\n",
      "('Reached iteration ', 0)\n",
      "loss backward\n",
      "done loss backward\n",
      "done optim\n",
      "loss done\n",
      "loss backward\n",
      "done loss backward\n",
      "done optim\n",
      "loss done\n",
      "loss backward\n",
      "done loss backward\n",
      "done optim\n",
      "trying epoch loss\n",
      "train 361 1329\n",
      "train Loss: 0.0012 Acc: 0.2716\n",
      "TESTING STARTED\n",
      "loss done\n",
      "('Reached iteration ', 0)\n",
      "trying epoch loss\n",
      "test 89 339\n",
      "test Loss: 0.0016 Acc: 0.2625\n",
      "Epoch 16/999\n",
      "----------\n",
      "TRAINING STARTED\n",
      "loss done\n",
      "('Reached iteration ', 0)\n",
      "loss backward\n",
      "done loss backward\n",
      "done optim\n",
      "loss done\n",
      "loss backward\n",
      "done loss backward\n",
      "done optim\n",
      "loss done\n",
      "loss backward\n",
      "done loss backward\n",
      "done optim\n",
      "trying epoch loss\n",
      "train 361 1329\n",
      "train Loss: 0.0012 Acc: 0.2716\n",
      "TESTING STARTED\n",
      "loss done\n",
      "('Reached iteration ', 0)\n",
      "trying epoch loss\n",
      "test 89 339\n",
      "test Loss: 0.0016 Acc: 0.2625\n",
      "Epoch 17/999\n",
      "----------\n",
      "TRAINING STARTED\n",
      "loss done\n",
      "('Reached iteration ', 0)\n",
      "loss backward\n",
      "done loss backward\n",
      "done optim\n",
      "loss done\n",
      "loss backward\n",
      "done loss backward\n",
      "done optim\n",
      "loss done\n",
      "loss backward\n",
      "done loss backward\n",
      "done optim\n",
      "trying epoch loss\n",
      "train 361 1329\n",
      "train Loss: 0.0012 Acc: 0.2716\n",
      "TESTING STARTED\n",
      "loss done\n",
      "('Reached iteration ', 0)\n",
      "trying epoch loss\n",
      "test 89 339\n",
      "test Loss: 0.0016 Acc: 0.2625\n",
      "Epoch 18/999\n",
      "----------\n",
      "TRAINING STARTED\n",
      "loss done\n",
      "('Reached iteration ', 0)\n",
      "loss backward\n",
      "done loss backward\n",
      "done optim\n",
      "loss done\n",
      "loss backward\n",
      "done loss backward\n",
      "done optim\n",
      "loss done\n",
      "loss backward\n",
      "done loss backward\n",
      "done optim\n",
      "trying epoch loss\n",
      "train 361 1329\n",
      "train Loss: 0.0012 Acc: 0.2716\n",
      "TESTING STARTED\n",
      "loss done\n",
      "('Reached iteration ', 0)\n",
      "trying epoch loss\n",
      "test 89 339\n",
      "test Loss: 0.0016 Acc: 0.2625\n",
      "Epoch 19/999\n",
      "----------\n",
      "TRAINING STARTED\n",
      "loss done\n",
      "('Reached iteration ', 0)\n",
      "loss backward\n",
      "done loss backward\n",
      "done optim\n",
      "loss done\n",
      "loss backward\n",
      "done loss backward\n",
      "done optim\n",
      "loss done\n",
      "loss backward\n",
      "done loss backward\n",
      "done optim\n",
      "trying epoch loss\n",
      "train 361 1329\n",
      "train Loss: 0.0012 Acc: 0.2716\n",
      "TESTING STARTED\n",
      "loss done\n",
      "('Reached iteration ', 0)\n",
      "trying epoch loss\n",
      "test 89 339\n",
      "test Loss: 0.0016 Acc: 0.2625\n",
      "Epoch 20/999\n",
      "----------\n",
      "TRAINING STARTED\n",
      "loss done\n",
      "('Reached iteration ', 0)\n",
      "loss backward\n",
      "done loss backward\n",
      "done optim\n",
      "loss done\n",
      "loss backward\n",
      "done loss backward\n",
      "done optim\n",
      "loss done\n",
      "loss backward\n",
      "done loss backward\n",
      "done optim\n",
      "trying epoch loss\n",
      "train 361 1329\n",
      "train Loss: 0.0012 Acc: 0.2716\n",
      "TESTING STARTED\n",
      "loss done\n",
      "('Reached iteration ', 0)\n",
      "trying epoch loss\n",
      "test 89 339\n",
      "test Loss: 0.0016 Acc: 0.2625\n",
      "Epoch 21/999\n",
      "----------\n",
      "TRAINING STARTED\n"
     ]
    },
    {
     "name": "stdout",
     "output_type": "stream",
     "text": [
      "loss done\n",
      "('Reached iteration ', 0)\n",
      "loss backward\n",
      "done loss backward\n",
      "done optim\n",
      "loss done\n",
      "loss backward\n",
      "done loss backward\n",
      "done optim\n",
      "loss done\n",
      "loss backward\n",
      "done loss backward\n",
      "done optim\n",
      "trying epoch loss\n",
      "train 361 1329\n",
      "train Loss: 0.0012 Acc: 0.2716\n",
      "TESTING STARTED\n",
      "loss done\n",
      "('Reached iteration ', 0)\n",
      "trying epoch loss\n",
      "test 89 339\n",
      "test Loss: 0.0016 Acc: 0.2625\n",
      "Epoch 22/999\n",
      "----------\n",
      "TRAINING STARTED\n",
      "loss done\n",
      "('Reached iteration ', 0)\n",
      "loss backward\n",
      "done loss backward\n",
      "done optim\n",
      "loss done\n",
      "loss backward\n",
      "done loss backward\n",
      "done optim\n",
      "loss done\n",
      "loss backward\n",
      "done loss backward\n",
      "done optim\n",
      "trying epoch loss\n",
      "train 361 1329\n",
      "train Loss: 0.0012 Acc: 0.2716\n",
      "TESTING STARTED\n",
      "loss done\n",
      "('Reached iteration ', 0)\n",
      "trying epoch loss\n",
      "test 89 339\n",
      "test Loss: 0.0016 Acc: 0.2625\n",
      "Epoch 23/999\n",
      "----------\n",
      "TRAINING STARTED\n",
      "loss done\n",
      "('Reached iteration ', 0)\n",
      "loss backward\n",
      "done loss backward\n",
      "done optim\n",
      "loss done\n",
      "loss backward\n",
      "done loss backward\n",
      "done optim\n",
      "loss done\n",
      "loss backward\n",
      "done loss backward\n",
      "done optim\n",
      "trying epoch loss\n",
      "train 361 1329\n",
      "train Loss: 0.0012 Acc: 0.2716\n",
      "TESTING STARTED\n",
      "loss done\n",
      "('Reached iteration ', 0)\n",
      "trying epoch loss\n",
      "test 89 339\n",
      "test Loss: 0.0016 Acc: 0.2625\n",
      "Epoch 24/999\n",
      "----------\n",
      "TRAINING STARTED\n",
      "loss done\n",
      "('Reached iteration ', 0)\n",
      "loss backward\n",
      "done loss backward\n",
      "done optim\n",
      "loss done\n",
      "loss backward\n",
      "done loss backward\n",
      "done optim\n",
      "loss done\n",
      "loss backward\n",
      "done loss backward\n",
      "done optim\n",
      "trying epoch loss\n",
      "train 361 1329\n",
      "train Loss: 0.0012 Acc: 0.2716\n",
      "TESTING STARTED\n",
      "loss done\n",
      "('Reached iteration ', 0)\n",
      "trying epoch loss\n",
      "test 89 339\n",
      "test Loss: 0.0016 Acc: 0.2625\n",
      "Epoch 25/999\n",
      "----------\n",
      "TRAINING STARTED\n",
      "loss done\n",
      "('Reached iteration ', 0)\n",
      "loss backward\n",
      "done loss backward\n",
      "done optim\n",
      "loss done\n",
      "loss backward\n",
      "done loss backward\n",
      "done optim\n",
      "loss done\n",
      "loss backward\n",
      "done loss backward\n",
      "done optim\n",
      "trying epoch loss\n",
      "train 361 1329\n",
      "train Loss: 0.0012 Acc: 0.2716\n",
      "TESTING STARTED\n",
      "loss done\n",
      "('Reached iteration ', 0)\n",
      "trying epoch loss\n",
      "test 89 339\n",
      "test Loss: 0.0016 Acc: 0.2625\n",
      "Epoch 26/999\n",
      "----------\n",
      "TRAINING STARTED\n",
      "loss done\n",
      "('Reached iteration ', 0)\n",
      "loss backward\n",
      "done loss backward\n",
      "done optim\n",
      "loss done\n",
      "loss backward\n",
      "done loss backward\n",
      "done optim\n",
      "loss done\n",
      "loss backward\n",
      "done loss backward\n",
      "done optim\n",
      "trying epoch loss\n",
      "train 361 1329\n",
      "train Loss: 0.0012 Acc: 0.2716\n",
      "TESTING STARTED\n",
      "loss done\n",
      "('Reached iteration ', 0)\n",
      "trying epoch loss\n",
      "test 89 339\n",
      "test Loss: 0.0016 Acc: 0.2625\n",
      "Epoch 27/999\n",
      "----------\n",
      "TRAINING STARTED\n",
      "loss done\n",
      "('Reached iteration ', 0)\n",
      "loss backward\n",
      "done loss backward\n",
      "done optim\n",
      "loss done\n",
      "loss backward\n",
      "done loss backward\n",
      "done optim\n",
      "loss done\n",
      "loss backward\n",
      "done loss backward\n",
      "done optim\n",
      "trying epoch loss\n",
      "train 361 1329\n",
      "train Loss: 0.0012 Acc: 0.2716\n",
      "TESTING STARTED\n",
      "loss done\n",
      "('Reached iteration ', 0)\n",
      "trying epoch loss\n",
      "test 89 339\n",
      "test Loss: 0.0016 Acc: 0.2625\n",
      "Epoch 28/999\n",
      "----------\n",
      "TRAINING STARTED\n",
      "loss done\n",
      "('Reached iteration ', 0)\n",
      "loss backward\n",
      "done loss backward\n",
      "done optim\n",
      "loss done\n",
      "loss backward\n",
      "done loss backward\n",
      "done optim\n",
      "loss done\n",
      "loss backward\n",
      "done loss backward\n",
      "done optim\n",
      "trying epoch loss\n",
      "train 361 1329\n",
      "train Loss: 0.0012 Acc: 0.2716\n",
      "TESTING STARTED\n",
      "loss done\n",
      "('Reached iteration ', 0)\n",
      "trying epoch loss\n",
      "test 89 339\n",
      "test Loss: 0.0016 Acc: 0.2625\n",
      "Epoch 29/999\n",
      "----------\n",
      "TRAINING STARTED\n",
      "loss done\n",
      "('Reached iteration ', 0)\n",
      "loss backward\n",
      "done loss backward\n",
      "done optim\n",
      "loss done\n",
      "loss backward\n",
      "done loss backward\n",
      "done optim\n",
      "loss done\n",
      "loss backward\n",
      "done loss backward\n",
      "done optim\n",
      "trying epoch loss\n",
      "train 361 1329\n",
      "train Loss: 0.0012 Acc: 0.2716\n",
      "TESTING STARTED\n",
      "loss done\n",
      "('Reached iteration ', 0)\n",
      "trying epoch loss\n",
      "test 89 339\n",
      "test Loss: 0.0016 Acc: 0.2625\n",
      "Epoch 30/999\n",
      "----------\n",
      "TRAINING STARTED\n",
      "loss done\n",
      "('Reached iteration ', 0)\n",
      "loss backward\n",
      "done loss backward\n",
      "done optim\n",
      "loss done\n",
      "loss backward\n",
      "done loss backward\n",
      "done optim\n",
      "loss done\n",
      "loss backward\n",
      "done loss backward\n",
      "done optim\n",
      "trying epoch loss\n",
      "train 361 1329\n",
      "train Loss: 0.0012 Acc: 0.2716\n",
      "TESTING STARTED\n",
      "loss done\n",
      "('Reached iteration ', 0)\n",
      "trying epoch loss\n",
      "test 89 339\n",
      "test Loss: 0.0016 Acc: 0.2625\n",
      "Epoch 31/999\n",
      "----------\n",
      "TRAINING STARTED\n",
      "loss done\n",
      "('Reached iteration ', 0)\n",
      "loss backward\n",
      "done loss backward\n",
      "done optim\n",
      "loss done\n",
      "loss backward\n",
      "done loss backward\n",
      "done optim\n",
      "loss done\n",
      "loss backward\n",
      "done loss backward\n",
      "done optim\n",
      "trying epoch loss\n",
      "train 361 1329\n",
      "train Loss: 0.0012 Acc: 0.2716\n",
      "TESTING STARTED\n",
      "loss done\n",
      "('Reached iteration ', 0)\n",
      "trying epoch loss\n",
      "test 89 339\n",
      "test Loss: 0.0016 Acc: 0.2625\n",
      "Epoch 32/999\n",
      "----------\n",
      "TRAINING STARTED\n",
      "loss done\n",
      "('Reached iteration ', 0)\n",
      "loss backward\n",
      "done loss backward\n",
      "done optim\n",
      "loss done\n",
      "loss backward\n",
      "done loss backward\n",
      "done optim\n",
      "loss done\n",
      "loss backward\n",
      "done loss backward\n",
      "done optim\n",
      "trying epoch loss\n",
      "train 361 1329\n",
      "train Loss: 0.0012 Acc: 0.2716\n",
      "TESTING STARTED\n",
      "loss done\n",
      "('Reached iteration ', 0)\n",
      "trying epoch loss\n",
      "test 89 339\n",
      "test Loss: 0.0016 Acc: 0.2625\n",
      "Epoch 33/999\n",
      "----------\n",
      "TRAINING STARTED\n",
      "loss done\n",
      "('Reached iteration ', 0)\n",
      "loss backward\n",
      "done loss backward\n",
      "done optim\n",
      "loss done\n",
      "loss backward\n",
      "done loss backward\n",
      "done optim\n",
      "loss done\n",
      "loss backward\n",
      "done loss backward\n",
      "done optim\n",
      "trying epoch loss\n",
      "train 361 1329\n",
      "train Loss: 0.0012 Acc: 0.2716\n",
      "TESTING STARTED\n",
      "loss done\n",
      "('Reached iteration ', 0)\n",
      "trying epoch loss\n",
      "test 89 339\n",
      "test Loss: 0.0016 Acc: 0.2625\n",
      "Epoch 34/999\n",
      "----------\n",
      "TRAINING STARTED\n",
      "loss done\n",
      "('Reached iteration ', 0)\n",
      "loss backward\n",
      "done loss backward\n",
      "done optim\n",
      "loss done\n",
      "loss backward\n",
      "done loss backward\n",
      "done optim\n",
      "loss done\n",
      "loss backward\n",
      "done loss backward\n",
      "done optim\n",
      "trying epoch loss\n",
      "train 361 1329\n",
      "train Loss: 0.0011 Acc: 0.2716\n",
      "TESTING STARTED\n",
      "loss done\n",
      "('Reached iteration ', 0)\n",
      "trying epoch loss\n",
      "test 89 339\n",
      "test Loss: 0.0016 Acc: 0.2625\n",
      "Epoch 35/999\n",
      "----------\n",
      "TRAINING STARTED\n",
      "loss done\n",
      "('Reached iteration ', 0)\n",
      "loss backward\n",
      "done loss backward\n",
      "done optim\n",
      "loss done\n",
      "loss backward\n",
      "done loss backward\n",
      "done optim\n",
      "loss done\n",
      "loss backward\n",
      "done loss backward\n",
      "done optim\n",
      "trying epoch loss\n",
      "train 361 1329\n",
      "train Loss: 0.0012 Acc: 0.2716\n",
      "TESTING STARTED\n",
      "loss done\n",
      "('Reached iteration ', 0)\n",
      "trying epoch loss\n",
      "test 89 339\n",
      "test Loss: 0.0016 Acc: 0.2625\n",
      "Epoch 36/999\n",
      "----------\n",
      "TRAINING STARTED\n",
      "loss done\n",
      "('Reached iteration ', 0)\n",
      "loss backward\n",
      "done loss backward\n",
      "done optim\n",
      "loss done\n",
      "loss backward\n",
      "done loss backward\n",
      "done optim\n",
      "loss done\n",
      "loss backward\n",
      "done loss backward\n",
      "done optim\n",
      "trying epoch loss\n",
      "train 361 1329\n",
      "train Loss: 0.0011 Acc: 0.2716\n",
      "TESTING STARTED\n",
      "loss done\n",
      "('Reached iteration ', 0)\n",
      "trying epoch loss\n",
      "test 89 339\n",
      "test Loss: 0.0016 Acc: 0.2625\n",
      "Epoch 37/999\n",
      "----------\n",
      "TRAINING STARTED\n",
      "loss done\n",
      "('Reached iteration ', 0)\n",
      "loss backward\n",
      "done loss backward\n",
      "done optim\n",
      "loss done\n",
      "loss backward\n",
      "done loss backward\n",
      "done optim\n",
      "loss done\n",
      "loss backward\n",
      "done loss backward\n",
      "done optim\n",
      "trying epoch loss\n",
      "train 361 1329\n",
      "train Loss: 0.0012 Acc: 0.2716\n",
      "TESTING STARTED\n",
      "loss done\n",
      "('Reached iteration ', 0)\n",
      "trying epoch loss\n",
      "test 89 339\n",
      "test Loss: 0.0016 Acc: 0.2625\n",
      "Epoch 38/999\n",
      "----------\n",
      "TRAINING STARTED\n",
      "loss done\n",
      "('Reached iteration ', 0)\n",
      "loss backward\n",
      "done loss backward\n",
      "done optim\n",
      "loss done\n",
      "loss backward\n",
      "done loss backward\n",
      "done optim\n",
      "loss done\n",
      "loss backward\n",
      "done loss backward\n",
      "done optim\n",
      "trying epoch loss\n",
      "train 361 1329\n",
      "train Loss: 0.0012 Acc: 0.2716\n",
      "TESTING STARTED\n",
      "loss done\n",
      "('Reached iteration ', 0)\n",
      "trying epoch loss\n",
      "test 89 339\n",
      "test Loss: 0.0016 Acc: 0.2625\n",
      "Epoch 39/999\n",
      "----------\n",
      "TRAINING STARTED\n",
      "loss done\n",
      "('Reached iteration ', 0)\n",
      "loss backward\n",
      "done loss backward\n",
      "done optim\n",
      "loss done\n",
      "loss backward\n",
      "done loss backward\n",
      "done optim\n",
      "loss done\n",
      "loss backward\n",
      "done loss backward\n",
      "done optim\n",
      "trying epoch loss\n",
      "train 361 1329\n",
      "train Loss: 0.0012 Acc: 0.2716\n",
      "TESTING STARTED\n",
      "loss done\n",
      "('Reached iteration ', 0)\n",
      "trying epoch loss\n",
      "test 89 339\n",
      "test Loss: 0.0016 Acc: 0.2625\n",
      "Epoch 40/999\n",
      "----------\n",
      "TRAINING STARTED\n",
      "loss done\n",
      "('Reached iteration ', 0)\n",
      "loss backward\n",
      "done loss backward\n",
      "done optim\n",
      "loss done\n",
      "loss backward\n",
      "done loss backward\n",
      "done optim\n",
      "loss done\n",
      "loss backward\n",
      "done loss backward\n",
      "done optim\n",
      "trying epoch loss\n",
      "train 361 1329\n",
      "train Loss: 0.0012 Acc: 0.2716\n",
      "TESTING STARTED\n",
      "loss done\n",
      "('Reached iteration ', 0)\n",
      "trying epoch loss\n",
      "test 89 339\n",
      "test Loss: 0.0016 Acc: 0.2625\n",
      "Epoch 41/999\n",
      "----------\n",
      "TRAINING STARTED\n",
      "loss done\n",
      "('Reached iteration ', 0)\n",
      "loss backward\n",
      "done loss backward\n",
      "done optim\n",
      "loss done\n",
      "loss backward\n",
      "done loss backward\n",
      "done optim\n",
      "loss done\n",
      "loss backward\n",
      "done loss backward\n",
      "done optim\n",
      "trying epoch loss\n",
      "train 361 1329\n",
      "train Loss: 0.0011 Acc: 0.2716\n",
      "TESTING STARTED\n"
     ]
    },
    {
     "name": "stdout",
     "output_type": "stream",
     "text": [
      "loss done\n",
      "('Reached iteration ', 0)\n",
      "trying epoch loss\n",
      "test 89 339\n",
      "test Loss: 0.0016 Acc: 0.2625\n",
      "Epoch 42/999\n",
      "----------\n",
      "TRAINING STARTED\n",
      "loss done\n",
      "('Reached iteration ', 0)\n",
      "loss backward\n",
      "done loss backward\n",
      "done optim\n",
      "loss done\n",
      "loss backward\n",
      "done loss backward\n",
      "done optim\n",
      "loss done\n",
      "loss backward\n",
      "done loss backward\n",
      "done optim\n",
      "trying epoch loss\n",
      "train 361 1329\n",
      "train Loss: 0.0012 Acc: 0.2716\n",
      "TESTING STARTED\n",
      "loss done\n",
      "('Reached iteration ', 0)\n",
      "trying epoch loss\n",
      "test 89 339\n",
      "test Loss: 0.0016 Acc: 0.2625\n",
      "Epoch 43/999\n",
      "----------\n",
      "TRAINING STARTED\n",
      "loss done\n",
      "('Reached iteration ', 0)\n",
      "loss backward\n",
      "done loss backward\n",
      "done optim\n",
      "loss done\n",
      "loss backward\n",
      "done loss backward\n",
      "done optim\n",
      "loss done\n",
      "loss backward\n",
      "done loss backward\n",
      "done optim\n",
      "trying epoch loss\n",
      "train 361 1329\n",
      "train Loss: 0.0012 Acc: 0.2716\n",
      "TESTING STARTED\n",
      "loss done\n",
      "('Reached iteration ', 0)\n",
      "trying epoch loss\n",
      "test 89 339\n",
      "test Loss: 0.0016 Acc: 0.2625\n",
      "Epoch 44/999\n",
      "----------\n",
      "TRAINING STARTED\n",
      "loss done\n",
      "('Reached iteration ', 0)\n",
      "loss backward\n",
      "done loss backward\n",
      "done optim\n",
      "loss done\n",
      "loss backward\n",
      "done loss backward\n",
      "done optim\n",
      "loss done\n",
      "loss backward\n",
      "done loss backward\n",
      "done optim\n",
      "trying epoch loss\n",
      "train 361 1329\n",
      "train Loss: 0.0012 Acc: 0.2716\n",
      "TESTING STARTED\n",
      "loss done\n",
      "('Reached iteration ', 0)\n",
      "trying epoch loss\n",
      "test 89 339\n",
      "test Loss: 0.0016 Acc: 0.2625\n",
      "Epoch 45/999\n",
      "----------\n",
      "TRAINING STARTED\n",
      "loss done\n",
      "('Reached iteration ', 0)\n",
      "loss backward\n",
      "done loss backward\n",
      "done optim\n",
      "loss done\n",
      "loss backward\n",
      "done loss backward\n",
      "done optim\n",
      "loss done\n",
      "loss backward\n",
      "done loss backward\n",
      "done optim\n",
      "trying epoch loss\n",
      "train 361 1329\n",
      "train Loss: 0.0012 Acc: 0.2716\n",
      "TESTING STARTED\n",
      "loss done\n",
      "('Reached iteration ', 0)\n",
      "trying epoch loss\n",
      "test 89 339\n",
      "test Loss: 0.0016 Acc: 0.2625\n",
      "Epoch 46/999\n",
      "----------\n",
      "TRAINING STARTED\n",
      "loss done\n",
      "('Reached iteration ', 0)\n",
      "loss backward\n",
      "done loss backward\n",
      "done optim\n",
      "loss done\n",
      "loss backward\n",
      "done loss backward\n",
      "done optim\n",
      "loss done\n",
      "loss backward\n",
      "done loss backward\n",
      "done optim\n",
      "trying epoch loss\n",
      "train 361 1329\n",
      "train Loss: 0.0012 Acc: 0.2716\n",
      "TESTING STARTED\n",
      "loss done\n",
      "('Reached iteration ', 0)\n",
      "trying epoch loss\n",
      "test 89 339\n",
      "test Loss: 0.0016 Acc: 0.2625\n",
      "Epoch 47/999\n",
      "----------\n",
      "TRAINING STARTED\n",
      "loss done\n",
      "('Reached iteration ', 0)\n",
      "loss backward\n",
      "done loss backward\n",
      "done optim\n",
      "loss done\n",
      "loss backward\n",
      "done loss backward\n",
      "done optim\n",
      "loss done\n",
      "loss backward\n",
      "done loss backward\n",
      "done optim\n",
      "trying epoch loss\n",
      "train 361 1329\n",
      "train Loss: 0.0012 Acc: 0.2716\n",
      "TESTING STARTED\n",
      "loss done\n",
      "('Reached iteration ', 0)\n",
      "trying epoch loss\n",
      "test 89 339\n",
      "test Loss: 0.0016 Acc: 0.2625\n",
      "Epoch 48/999\n",
      "----------\n",
      "TRAINING STARTED\n",
      "loss done\n",
      "('Reached iteration ', 0)\n",
      "loss backward\n",
      "done loss backward\n",
      "done optim\n",
      "loss done\n",
      "loss backward\n",
      "done loss backward\n",
      "done optim\n",
      "loss done\n",
      "loss backward\n",
      "done loss backward\n",
      "done optim\n",
      "trying epoch loss\n",
      "train 361 1329\n",
      "train Loss: 0.0012 Acc: 0.2716\n",
      "TESTING STARTED\n",
      "loss done\n",
      "('Reached iteration ', 0)\n",
      "trying epoch loss\n",
      "test 89 339\n",
      "test Loss: 0.0016 Acc: 0.2625\n",
      "Epoch 49/999\n",
      "----------\n",
      "TRAINING STARTED\n",
      "loss done\n",
      "('Reached iteration ', 0)\n",
      "loss backward\n",
      "done loss backward\n",
      "done optim\n",
      "loss done\n",
      "loss backward\n",
      "done loss backward\n",
      "done optim\n",
      "loss done\n",
      "loss backward\n",
      "done loss backward\n",
      "done optim\n",
      "trying epoch loss\n",
      "train 361 1329\n",
      "train Loss: 0.0011 Acc: 0.2716\n",
      "TESTING STARTED\n",
      "loss done\n",
      "('Reached iteration ', 0)\n",
      "trying epoch loss\n",
      "test 89 339\n",
      "test Loss: 0.0016 Acc: 0.2625\n",
      "Epoch 50/999\n",
      "----------\n",
      "TRAINING STARTED\n",
      "loss done\n",
      "('Reached iteration ', 0)\n",
      "loss backward\n",
      "done loss backward\n",
      "done optim\n",
      "loss done\n",
      "loss backward\n",
      "done loss backward\n",
      "done optim\n",
      "loss done\n",
      "loss backward\n",
      "done loss backward\n",
      "done optim\n",
      "trying epoch loss\n",
      "train 361 1329\n",
      "train Loss: 0.0012 Acc: 0.2716\n",
      "TESTING STARTED\n",
      "loss done\n",
      "('Reached iteration ', 0)\n",
      "trying epoch loss\n",
      "test 89 339\n",
      "test Loss: 0.0016 Acc: 0.2625\n",
      "Epoch 51/999\n",
      "----------\n",
      "TRAINING STARTED\n",
      "loss done\n",
      "('Reached iteration ', 0)\n",
      "loss backward\n",
      "done loss backward\n",
      "done optim\n",
      "loss done\n",
      "loss backward\n",
      "done loss backward\n",
      "done optim\n",
      "loss done\n",
      "loss backward\n",
      "done loss backward\n",
      "done optim\n",
      "trying epoch loss\n",
      "train 361 1329\n",
      "train Loss: 0.0012 Acc: 0.2716\n",
      "TESTING STARTED\n",
      "loss done\n",
      "('Reached iteration ', 0)\n",
      "trying epoch loss\n",
      "test 89 339\n",
      "test Loss: 0.0016 Acc: 0.2625\n",
      "Epoch 52/999\n",
      "----------\n",
      "TRAINING STARTED\n",
      "loss done\n",
      "('Reached iteration ', 0)\n",
      "loss backward\n",
      "done loss backward\n",
      "done optim\n",
      "loss done\n",
      "loss backward\n",
      "done loss backward\n",
      "done optim\n",
      "loss done\n",
      "loss backward\n",
      "done loss backward\n",
      "done optim\n",
      "trying epoch loss\n",
      "train 361 1329\n",
      "train Loss: 0.0012 Acc: 0.2716\n",
      "TESTING STARTED\n",
      "loss done\n",
      "('Reached iteration ', 0)\n",
      "trying epoch loss\n",
      "test 89 339\n",
      "test Loss: 0.0016 Acc: 0.2625\n",
      "Epoch 53/999\n",
      "----------\n",
      "TRAINING STARTED\n",
      "loss done\n",
      "('Reached iteration ', 0)\n",
      "loss backward\n",
      "done loss backward\n",
      "done optim\n",
      "loss done\n",
      "loss backward\n",
      "done loss backward\n",
      "done optim\n",
      "loss done\n",
      "loss backward\n",
      "done loss backward\n",
      "done optim\n",
      "trying epoch loss\n",
      "train 361 1329\n",
      "train Loss: 0.0012 Acc: 0.2716\n",
      "TESTING STARTED\n",
      "loss done\n",
      "('Reached iteration ', 0)\n",
      "trying epoch loss\n",
      "test 89 339\n",
      "test Loss: 0.0016 Acc: 0.2625\n",
      "Epoch 54/999\n",
      "----------\n",
      "TRAINING STARTED\n",
      "loss done\n",
      "('Reached iteration ', 0)\n",
      "loss backward\n",
      "done loss backward\n",
      "done optim\n",
      "loss done\n",
      "loss backward\n",
      "done loss backward\n",
      "done optim\n",
      "loss done\n",
      "loss backward\n",
      "done loss backward\n",
      "done optim\n",
      "trying epoch loss\n",
      "train 361 1329\n",
      "train Loss: 0.0012 Acc: 0.2716\n",
      "TESTING STARTED\n",
      "loss done\n",
      "('Reached iteration ', 0)\n",
      "trying epoch loss\n",
      "test 89 339\n",
      "test Loss: 0.0016 Acc: 0.2625\n",
      "Epoch 55/999\n",
      "----------\n",
      "TRAINING STARTED\n",
      "loss done\n",
      "('Reached iteration ', 0)\n",
      "loss backward\n",
      "done loss backward\n",
      "done optim\n",
      "loss done\n",
      "loss backward\n",
      "done loss backward\n",
      "done optim\n",
      "loss done\n",
      "loss backward\n",
      "done loss backward\n",
      "done optim\n",
      "trying epoch loss\n",
      "train 361 1329\n",
      "train Loss: 0.0012 Acc: 0.2716\n",
      "TESTING STARTED\n",
      "loss done\n",
      "('Reached iteration ', 0)\n",
      "trying epoch loss\n",
      "test 89 339\n",
      "test Loss: 0.0016 Acc: 0.2625\n",
      "Epoch 56/999\n",
      "----------\n",
      "TRAINING STARTED\n",
      "loss done\n",
      "('Reached iteration ', 0)\n",
      "loss backward\n",
      "done loss backward\n",
      "done optim\n",
      "loss done\n",
      "loss backward\n",
      "done loss backward\n",
      "done optim\n",
      "loss done\n",
      "loss backward\n",
      "done loss backward\n",
      "done optim\n",
      "trying epoch loss\n",
      "train 361 1329\n",
      "train Loss: 0.0011 Acc: 0.2716\n",
      "TESTING STARTED\n",
      "loss done\n",
      "('Reached iteration ', 0)\n",
      "trying epoch loss\n",
      "test 89 339\n",
      "test Loss: 0.0016 Acc: 0.2625\n",
      "Epoch 57/999\n",
      "----------\n",
      "TRAINING STARTED\n",
      "loss done\n",
      "('Reached iteration ', 0)\n",
      "loss backward\n",
      "done loss backward\n",
      "done optim\n",
      "loss done\n",
      "loss backward\n",
      "done loss backward\n",
      "done optim\n",
      "loss done\n",
      "loss backward\n",
      "done loss backward\n",
      "done optim\n",
      "trying epoch loss\n",
      "train 361 1329\n",
      "train Loss: 0.0012 Acc: 0.2716\n",
      "TESTING STARTED\n",
      "loss done\n",
      "('Reached iteration ', 0)\n",
      "trying epoch loss\n",
      "test 89 339\n",
      "test Loss: 0.0016 Acc: 0.2625\n",
      "Epoch 58/999\n",
      "----------\n",
      "TRAINING STARTED\n",
      "loss done\n",
      "('Reached iteration ', 0)\n",
      "loss backward\n",
      "done loss backward\n",
      "done optim\n",
      "loss done\n",
      "loss backward\n",
      "done loss backward\n",
      "done optim\n",
      "loss done\n",
      "loss backward\n",
      "done loss backward\n",
      "done optim\n",
      "trying epoch loss\n",
      "train 361 1329\n",
      "train Loss: 0.0012 Acc: 0.2716\n",
      "TESTING STARTED\n",
      "loss done\n",
      "('Reached iteration ', 0)\n",
      "trying epoch loss\n",
      "test 89 339\n",
      "test Loss: 0.0016 Acc: 0.2625\n",
      "Epoch 59/999\n",
      "----------\n",
      "TRAINING STARTED\n",
      "loss done\n",
      "('Reached iteration ', 0)\n",
      "loss backward\n",
      "done loss backward\n",
      "done optim\n",
      "loss done\n",
      "loss backward\n",
      "done loss backward\n",
      "done optim\n",
      "loss done\n",
      "loss backward\n",
      "done loss backward\n",
      "done optim\n",
      "trying epoch loss\n",
      "train 361 1329\n",
      "train Loss: 0.0012 Acc: 0.2716\n",
      "TESTING STARTED\n",
      "loss done\n",
      "('Reached iteration ', 0)\n",
      "trying epoch loss\n",
      "test 89 339\n",
      "test Loss: 0.0016 Acc: 0.2625\n",
      "Epoch 60/999\n",
      "----------\n",
      "TRAINING STARTED\n",
      "loss done\n",
      "('Reached iteration ', 0)\n",
      "loss backward\n",
      "done loss backward\n",
      "done optim\n",
      "loss done\n",
      "loss backward\n",
      "done loss backward\n",
      "done optim\n",
      "loss done\n",
      "loss backward\n",
      "done loss backward\n",
      "done optim\n",
      "trying epoch loss\n",
      "train 361 1329\n",
      "train Loss: 0.0011 Acc: 0.2716\n",
      "TESTING STARTED\n",
      "loss done\n",
      "('Reached iteration ', 0)\n",
      "trying epoch loss\n",
      "test 89 339\n",
      "test Loss: 0.0016 Acc: 0.2625\n",
      "Epoch 61/999\n",
      "----------\n",
      "TRAINING STARTED\n",
      "loss done\n",
      "('Reached iteration ', 0)\n",
      "loss backward\n",
      "done loss backward\n",
      "done optim\n",
      "loss done\n",
      "loss backward\n",
      "done loss backward\n",
      "done optim\n",
      "loss done\n",
      "loss backward\n",
      "done loss backward\n",
      "done optim\n",
      "trying epoch loss\n",
      "train 361 1329\n",
      "train Loss: 0.0012 Acc: 0.2716\n",
      "TESTING STARTED\n",
      "loss done\n",
      "('Reached iteration ', 0)\n",
      "trying epoch loss\n",
      "test 89 339\n",
      "test Loss: 0.0016 Acc: 0.2625\n",
      "Epoch 62/999\n",
      "----------\n",
      "TRAINING STARTED\n"
     ]
    },
    {
     "name": "stdout",
     "output_type": "stream",
     "text": [
      "loss done\n",
      "('Reached iteration ', 0)\n",
      "loss backward\n",
      "done loss backward\n",
      "done optim\n",
      "loss done\n",
      "loss backward\n",
      "done loss backward\n",
      "done optim\n",
      "loss done\n",
      "loss backward\n",
      "done loss backward\n",
      "done optim\n",
      "trying epoch loss\n",
      "train 361 1329\n",
      "train Loss: 0.0012 Acc: 0.2716\n",
      "TESTING STARTED\n",
      "loss done\n",
      "('Reached iteration ', 0)\n",
      "trying epoch loss\n",
      "test 89 339\n",
      "test Loss: 0.0016 Acc: 0.2625\n",
      "Epoch 63/999\n",
      "----------\n",
      "TRAINING STARTED\n",
      "loss done\n",
      "('Reached iteration ', 0)\n",
      "loss backward\n",
      "done loss backward\n",
      "done optim\n",
      "loss done\n",
      "loss backward\n",
      "done loss backward\n",
      "done optim\n",
      "loss done\n",
      "loss backward\n",
      "done loss backward\n",
      "done optim\n",
      "trying epoch loss\n",
      "train 361 1329\n",
      "train Loss: 0.0012 Acc: 0.2716\n",
      "TESTING STARTED\n",
      "loss done\n",
      "('Reached iteration ', 0)\n",
      "trying epoch loss\n",
      "test 89 339\n",
      "test Loss: 0.0016 Acc: 0.2625\n",
      "Epoch 64/999\n",
      "----------\n",
      "TRAINING STARTED\n",
      "loss done\n",
      "('Reached iteration ', 0)\n",
      "loss backward\n",
      "done loss backward\n",
      "done optim\n",
      "loss done\n",
      "loss backward\n",
      "done loss backward\n",
      "done optim\n",
      "loss done\n",
      "loss backward\n",
      "done loss backward\n",
      "done optim\n",
      "trying epoch loss\n",
      "train 361 1329\n",
      "train Loss: 0.0011 Acc: 0.2716\n",
      "TESTING STARTED\n",
      "loss done\n",
      "('Reached iteration ', 0)\n",
      "trying epoch loss\n",
      "test 89 339\n",
      "test Loss: 0.0016 Acc: 0.2625\n",
      "Epoch 65/999\n",
      "----------\n",
      "TRAINING STARTED\n",
      "loss done\n",
      "('Reached iteration ', 0)\n",
      "loss backward\n",
      "done loss backward\n",
      "done optim\n",
      "loss done\n",
      "loss backward\n",
      "done loss backward\n",
      "done optim\n",
      "loss done\n",
      "loss backward\n",
      "done loss backward\n",
      "done optim\n",
      "trying epoch loss\n",
      "train 361 1329\n",
      "train Loss: 0.0012 Acc: 0.2716\n",
      "TESTING STARTED\n",
      "loss done\n",
      "('Reached iteration ', 0)\n",
      "trying epoch loss\n",
      "test 89 339\n",
      "test Loss: 0.0016 Acc: 0.2625\n",
      "Epoch 66/999\n",
      "----------\n",
      "TRAINING STARTED\n",
      "loss done\n",
      "('Reached iteration ', 0)\n",
      "loss backward\n",
      "done loss backward\n",
      "done optim\n",
      "loss done\n",
      "loss backward\n",
      "done loss backward\n",
      "done optim\n",
      "loss done\n",
      "loss backward\n",
      "done loss backward\n",
      "done optim\n",
      "trying epoch loss\n",
      "train 361 1329\n",
      "train Loss: 0.0012 Acc: 0.2716\n",
      "TESTING STARTED\n",
      "loss done\n",
      "('Reached iteration ', 0)\n",
      "trying epoch loss\n",
      "test 89 339\n",
      "test Loss: 0.0016 Acc: 0.2625\n",
      "Epoch 67/999\n",
      "----------\n",
      "TRAINING STARTED\n",
      "loss done\n",
      "('Reached iteration ', 0)\n",
      "loss backward\n",
      "done loss backward\n",
      "done optim\n",
      "loss done\n",
      "loss backward\n",
      "done loss backward\n",
      "done optim\n",
      "loss done\n",
      "loss backward\n",
      "done loss backward\n",
      "done optim\n",
      "trying epoch loss\n",
      "train 361 1329\n",
      "train Loss: 0.0012 Acc: 0.2716\n",
      "TESTING STARTED\n",
      "loss done\n",
      "('Reached iteration ', 0)\n",
      "trying epoch loss\n",
      "test 89 339\n",
      "test Loss: 0.0016 Acc: 0.2625\n",
      "Epoch 68/999\n",
      "----------\n",
      "TRAINING STARTED\n",
      "loss done\n",
      "('Reached iteration ', 0)\n",
      "loss backward\n",
      "done loss backward\n",
      "done optim\n",
      "loss done\n",
      "loss backward\n",
      "done loss backward\n",
      "done optim\n",
      "loss done\n",
      "loss backward\n",
      "done loss backward\n",
      "done optim\n",
      "trying epoch loss\n",
      "train 361 1329\n",
      "train Loss: 0.0012 Acc: 0.2716\n",
      "TESTING STARTED\n",
      "loss done\n",
      "('Reached iteration ', 0)\n",
      "trying epoch loss\n",
      "test 89 339\n",
      "test Loss: 0.0016 Acc: 0.2625\n",
      "Epoch 69/999\n",
      "----------\n",
      "TRAINING STARTED\n",
      "loss done\n",
      "('Reached iteration ', 0)\n",
      "loss backward\n",
      "done loss backward\n",
      "done optim\n",
      "loss done\n",
      "loss backward\n",
      "done loss backward\n",
      "done optim\n",
      "loss done\n",
      "loss backward\n",
      "done loss backward\n",
      "done optim\n",
      "trying epoch loss\n",
      "train 361 1329\n",
      "train Loss: 0.0012 Acc: 0.2716\n",
      "TESTING STARTED\n",
      "loss done\n",
      "('Reached iteration ', 0)\n",
      "trying epoch loss\n",
      "test 89 339\n",
      "test Loss: 0.0016 Acc: 0.2625\n",
      "Epoch 70/999\n",
      "----------\n",
      "TRAINING STARTED\n",
      "loss done\n",
      "('Reached iteration ', 0)\n",
      "loss backward\n",
      "done loss backward\n",
      "done optim\n",
      "loss done\n",
      "loss backward\n",
      "done loss backward\n",
      "done optim\n",
      "loss done\n",
      "loss backward\n",
      "done loss backward\n",
      "done optim\n",
      "trying epoch loss\n",
      "train 361 1329\n",
      "train Loss: 0.0011 Acc: 0.2716\n",
      "TESTING STARTED\n",
      "loss done\n",
      "('Reached iteration ', 0)\n",
      "trying epoch loss\n",
      "test 89 339\n",
      "test Loss: 0.0016 Acc: 0.2625\n",
      "Epoch 71/999\n",
      "----------\n",
      "TRAINING STARTED\n",
      "loss done\n",
      "('Reached iteration ', 0)\n",
      "loss backward\n",
      "done loss backward\n",
      "done optim\n",
      "loss done\n",
      "loss backward\n",
      "done loss backward\n",
      "done optim\n",
      "loss done\n",
      "loss backward\n",
      "done loss backward\n",
      "done optim\n",
      "trying epoch loss\n",
      "train 361 1329\n",
      "train Loss: 0.0012 Acc: 0.2716\n",
      "TESTING STARTED\n"
     ]
    }
   ],
   "source": [
    "def train_model(model, criterion, optimizer, num_epochs):\n",
    "    \n",
    "    since = time.time()\n",
    "    USE_TENSORBOARD = 0\n",
    "    best_model = model\n",
    "    best_acc = 0.0\n",
    "    use_gpu = 0\n",
    "    \n",
    "    for epoch in range(num_epochs):\n",
    "        print('Epoch {}/{}'.format(epoch, num_epochs - 1))\n",
    "        print('-' * 10)\n",
    "\n",
    "        # Each epoch has a training and validation phase\n",
    "        for phase in ['train', 'test']:\n",
    "            if phase == 'train':\n",
    "                mode='train'\n",
    "                #optimizer = lr_scheduler(optimizer, epoch)\n",
    "                model.train()  # Set model to training mode\n",
    "                print \"TRAINING STARTED\"\n",
    "            else:\n",
    "                model.eval()\n",
    "                mode='val'\n",
    "                print \"TESTING STARTED\"\n",
    "\n",
    "            running_loss = 0.0\n",
    "            running_corrects = 0\n",
    "\n",
    "            counter=0\n",
    "            # Iterate over data.\n",
    "            answer = []\n",
    "            for data in dset_loaders[phase]:\n",
    "                inputs, labels = data \n",
    "                \n",
    "                # wrap them in Variable\n",
    "                if use_gpu:\n",
    "                    try:\n",
    "                        inputs, labels = Variable(inputs.float().cuda()),                             \n",
    "                        Variable(labels.long().cuda())\n",
    "                    except:\n",
    "                        print(inputs,labels)\n",
    "                else:\n",
    "                    inputs, labels = Variable(Variable(inputs).float()), Variable(Variable(labels).float())\n",
    "\n",
    "                # Set gradient to zero to delete history of computations in previous epoch. Track operations so that differentiation can be done automatically.\n",
    "                optimizer.zero_grad()\n",
    "                outputs = model(inputs)\n",
    "                for i in range(len(outputs.data)):\n",
    "                    answer.append(outputs.data[i])\n",
    "                _, preds = torch.max(outputs.data, 1)\n",
    "                #print outputs.data\n",
    "                #print _, preds\n",
    "                loss = criterion(outputs, labels)\n",
    "                print('loss done')                \n",
    "                # Just so that you can keep track that something's happening and don't feel like the program isn't running.\n",
    "                if counter%50==0:\n",
    "                    print(\"Reached iteration \",counter)\n",
    "                counter+=1\n",
    "\n",
    "                # backward + optimize only if in training phase\n",
    "                if phase == 'train':\n",
    "                    print('loss backward')\n",
    "                    loss.backward()\n",
    "                    print('done loss backward')\n",
    "                    optimizer.step()\n",
    "                    print('done optim')\n",
    "                # print evaluation statistics\n",
    "                try:\n",
    "                    running_loss += loss.data[0]\n",
    "\n",
    "                    #print preds.shape, labels.data.shape\n",
    "                    for q in range(len(labels.data)):\n",
    "                        if labels.data[q][preds[q]]==1:\n",
    "                            running_corrects += 1\n",
    "\n",
    "                    #running_corrects += torch.sum(preds == labels.data.long())\n",
    "                except:\n",
    "                    print('unexpected error, could not calculate loss or do a sum.')\n",
    "            print('trying epoch loss')\n",
    "            epoch_loss = running_loss / dset_sizes[phase]\n",
    "            epoch_acc = running_corrects / dset_sizes[phase]\n",
    "            print phase, running_corrects, dset_sizes[phase]\n",
    "            print('{} Loss: {:.4f} Acc: {:.4f}'.format(\n",
    "                phase, epoch_loss, epoch_acc))\n",
    "\n",
    "\n",
    "            # deep copy the model\n",
    "            if phase == 'test':\n",
    "                if USE_TENSORBOARD:\n",
    "                    foo.add_scalar_value('epoch_loss',epoch_loss,step=epoch)\n",
    "                    foo.add_scalar_value('epoch_acc',epoch_acc,step=epoch)\n",
    "                if epoch_acc > best_acc:\n",
    "                    best_acc = epoch_acc\n",
    "                    best_model = copy.deepcopy(model)\n",
    "                    print('new best accuracy = ',best_acc)\n",
    "    time_elapsed = time.time() - since\n",
    "    print('Training complete in {:.0f}m {:.0f}s'.format(\n",
    "        time_elapsed // 60, time_elapsed % 60))\n",
    "    print('Best val Acc: {:4f}'.format(best_acc))\n",
    "    print('returning and looping back')\n",
    "    torch.save(best_model.state_dict(), 'fine_tuned_best_model.pt')\n",
    "    return best_model, answer\n",
    "dsets = {}\n",
    "dsets['train'] = FeatureDataset(X_train, Y_train)\n",
    "dsets['test'] = FeatureDataset(X_test, Y_test)\n",
    "dset_loaders = {x: torch.utils.data.DataLoader(dsets[x], batch_size=500,\n",
    "                                               shuffle=True, num_workers=25)\n",
    "                for x in ['train', 'test']}\n",
    "\n",
    "dset_sizes = {x: len(dsets[x]) for x in ['train', 'test']}\n",
    "print dset_sizes\n",
    "model_textual = nn.Sequential(\n",
    "    nn.Linear(300,1024),\n",
    "    nn.ReLU(),\n",
    "    nn.Linear(1024,19),\n",
    "    nn.Softmax()\n",
    ")\n",
    "\n",
    "optimizer = torch.optim.RMSprop(model_visual.parameters(), lr=0.0001, weight_decay=1e-6)\n",
    "criterion = nn.BCELoss()\n",
    "model_ft, Y_preds = train_model(model_textual, criterion, optimizer, num_epochs=1000)\n",
    "\n",
    "# Save model\n",
    "torch.save(model_ft.state_dict(), 'text_fine_tuned_best_model.pt')"
   ]
  },
  {
   "cell_type": "code",
   "execution_count": null,
   "metadata": {},
   "outputs": [],
   "source": [
    "model_textual.fit(X_train, Y_train, epochs=10, batch_size=500)"
   ]
  },
  {
   "cell_type": "code",
   "execution_count": null,
   "metadata": {},
   "outputs": [],
   "source": [
    "model_textual.fit(X_train, Y_train, epochs=10000, batch_size=500,verbose=0)"
   ]
  },
  {
   "cell_type": "code",
   "execution_count": null,
   "metadata": {},
   "outputs": [],
   "source": [
    "score = model_textual.evaluate(X_test, Y_test, batch_size=249)"
   ]
  },
  {
   "cell_type": "code",
   "execution_count": null,
   "metadata": {},
   "outputs": [],
   "source": [
    "print(\"%s: %.2f%%\" % (model_textual.metrics_names[1], score[1]*100))"
   ]
  },
  {
   "cell_type": "code",
   "execution_count": null,
   "metadata": {},
   "outputs": [],
   "source": [
    "Y_preds=model_textual.predict(X_test)"
   ]
  },
  {
   "cell_type": "code",
   "execution_count": 219,
   "metadata": {},
   "outputs": [],
   "source": [
    "genre_list.append(10769)"
   ]
  },
  {
   "cell_type": "code",
   "execution_count": 221,
   "metadata": {},
   "outputs": [
    {
     "name": "stdout",
     "output_type": "stream",
     "text": [
      "Our predictions for the movies are - \n",
      "\n",
      "Predicted:  [u'Fantasy', u'Romance', u'Adventure']  Actual:  [u'Adventure', u'Fantasy', u'Action', u'Science Fiction']\n",
      "Predicted:  [u'Fantasy', u'Romance', u'Adventure']  Actual:  [u'Adventure', u'Animation', u'Comedy', u'Science Fiction', u'Family']\n",
      "Predicted:  [u'Adventure', u'Fantasy', u'Romance']  Actual:  [u'Drama', u'Horror', u'Action', u'Science Fiction']\n",
      "Predicted:  [u'Fantasy', u'Adventure', u'Romance']  Actual:  [u'Drama', u'History']\n",
      "Predicted:  [u'Fantasy', u'Adventure', u'Romance']  Actual:  [u'Drama', u'Thriller', u'Crime']\n",
      "Predicted:  [u'Fantasy', u'Adventure', u'Romance']  Actual:  [u'Horror', u'Thriller', u'Crime', u'Mystery']\n",
      "Predicted:  [u'Romance', u'Fantasy', u'Adventure']  Actual:  [u'Adventure', u'Animation', u'Family']\n"
     ]
    }
   ],
   "source": [
    "print \"Our predictions for the movies are - \\n\"\n",
    "precs=[]\n",
    "recs=[]\n",
    "for i in range(len(Y_preds)):\n",
    "    row=Y_preds[i]\n",
    "    gt_genres=Y_test[i]\n",
    "    gt_genre_names=[]\n",
    "    for j in range(19):\n",
    "        if gt_genres[j]==1:\n",
    "            gt_genre_names.append(Genre_ID_to_name[genre_list[j]])\n",
    "    top_3=np.argsort(row)[-3:]\n",
    "    predicted_genres=[]\n",
    "    for genre in top_3:\n",
    "        predicted_genres.append(Genre_ID_to_name[genre_list[genre]])\n",
    "    (precision,recall)=precision_recall(gt_genre_names,predicted_genres)\n",
    "    precs.append(precision)\n",
    "    recs.append(recall)\n",
    "    if i%50==0:\n",
    "        print \"Predicted: \",predicted_genres,\" Actual: \",gt_genre_names"
   ]
  },
  {
   "cell_type": "code",
   "execution_count": 222,
   "metadata": {},
   "outputs": [
    {
     "name": "stdout",
     "output_type": "stream",
     "text": [
      "0.17010816125860376 0.15854052535468463\n"
     ]
    }
   ],
   "source": [
    "print np.mean(np.asarray(precs)),np.mean(np.asarray(recs))"
   ]
  },
  {
   "cell_type": "markdown",
   "metadata": {},
   "source": [
    "Even without much tuning of the above model, these results are able to beat our previous results. \n",
    "\n",
    "Note - I got accuracies as high as 78% when doing classification using plots scraped from Wikipedia. The large amount of information was very suitable for movie genre classification with a deep model. Strongly suggest you to try playing around with architectures."
   ]
  },
  {
   "cell_type": "markdown",
   "metadata": {},
   "source": [
    "# Section 9 - Upcoming Tutorials and Acknowledgements\n",
    "\n",
    "Congrats! This is the end of our pilot project! Needless to say, a lot of the above content may be new to you, or may be things that you know very well. If it's the former, I hope this tutorial would have helped you. If it is the latter and you think I wrote something incorrect or that my understanding can be improved, feel free to create a github issue so that I can correct it! \n",
    "\n",
    "Writing tutorials can take a lot of time, but it is a great learning experience. I am currently working on a tutorial focussing on word embeddings, which will explore word2vec and other word embeddings in detail. While it will take some time to be up, I will post a link to it's repository on the README for this project so that interested readers can find it.\n",
    "\n",
    "I would like to thank a few of my friends who had an indispensible role to play in me making this tutorial. Firstly, Professor Hanspeter Pfister and Verena Kaynig at Harvard, who helped guide this tutorial/project and scope it. Secondly, my friends Sahil Loomba and Matthew Tancik for their suggestions and editing the material and the presentation of the storyline. Thirdly, Zoya Bylinskii at MIT for constantly motivating me to put in my effort into this tutorial. Finally, all others who helped me feel confident enough to take up this task and to see it till the end. Thanks all of you!"
   ]
  },
  {
   "cell_type": "code",
   "execution_count": null,
   "metadata": {},
   "outputs": [],
   "source": []
  },
  {
   "cell_type": "code",
   "execution_count": null,
   "metadata": {},
   "outputs": [],
   "source": []
  }
 ],
 "metadata": {
  "kernelspec": {
   "display_name": "deeplearningproject",
   "language": "python",
   "name": "deeplearningproject"
  },
  "language_info": {
   "codemirror_mode": {
    "name": "ipython",
    "version": 2
   },
   "file_extension": ".py",
   "mimetype": "text/x-python",
   "name": "python",
   "nbconvert_exporter": "python",
   "pygments_lexer": "ipython2",
   "version": "2.7.13"
  }
 },
 "nbformat": 4,
 "nbformat_minor": 1
}
